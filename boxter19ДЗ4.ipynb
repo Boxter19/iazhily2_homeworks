{
 "cells": [
  {
   "cell_type": "markdown",
   "metadata": {},
   "source": [
    "Базовые\n",
    "=="
   ]
  },
  {
   "cell_type": "markdown",
   "metadata": {},
   "source": [
    "1.1\n",
    "=="
   ]
  },
  {
   "cell_type": "code",
   "execution_count": 118,
   "metadata": {
    "collapsed": true
   },
   "outputs": [],
   "source": [
    "import os\n",
    "def copy_file(source_path, target_path):\n",
    "    if os.path.exists(source_path)==False:\n",
    "        return 'Bad source_path'\n",
    "    else:\n",
    "        if os.path.exists(os.path.split(target_path)[0])==False:\n",
    "            os.makedirs(os.path.split(target_path)[0])\n",
    "        with open(source_path, 'r') as sou:\n",
    "            dd=sou.read()\n",
    "        with open(target_path, 'w') as tar:\n",
    "            tar.write(dd)\n",
    "        return os.path.exists(target_path)"
   ]
  },
  {
   "cell_type": "code",
   "execution_count": 109,
   "metadata": {
    "collapsed": true
   },
   "outputs": [],
   "source": [
    "# без чтения файла\n",
    "import shutil\n",
    "def copy_file_2(source_path, target_path):\n",
    "    if os.path.exists(source_path)==False:\n",
    "        return 'Bad source_path'\n",
    "    else:\n",
    "        if os.path.exists(os.path.split(target_path)[0])==True:\n",
    "            shutil.copy2(source_path, target_path)\n",
    "        else:\n",
    "            os.makedirs(os.path.split(target_path)[0])\n",
    "            shutil.copy2(source_path, target_path)\n",
    "        return os.path.exists(target_path)"
   ]
  },
  {
   "cell_type": "code",
   "execution_count": 120,
   "metadata": {
    "collapsed": false
   },
   "outputs": [
    {
     "data": {
      "text/plain": [
       "True"
      ]
     },
     "execution_count": 120,
     "metadata": {},
     "output_type": "execute_result"
    }
   ],
   "source": [
    "copy_file('task_1.2_source.txt','222/333/aaa.txt')"
   ]
  },
  {
   "cell_type": "code",
   "execution_count": 112,
   "metadata": {
    "collapsed": false
   },
   "outputs": [
    {
     "data": {
      "text/plain": [
       "True"
      ]
     },
     "execution_count": 112,
     "metadata": {},
     "output_type": "execute_result"
    }
   ],
   "source": [
    "copy_file_2('task_1.2_source.txt','111/aaa.txt')"
   ]
  },
  {
   "cell_type": "markdown",
   "metadata": {},
   "source": [
    "1.2\n",
    "=="
   ]
  },
  {
   "cell_type": "code",
   "execution_count": 41,
   "metadata": {
    "collapsed": false
   },
   "outputs": [],
   "source": [
    "text = \"\"\"apple - malum, pomum, popula\n",
    "fruit - baca, bacca, popum\n",
    "punishment - malum, multa\n",
    "\"\"\"\n",
    "with open('111/task_1.2_source.txt', 'w') as f:\n",
    "    f.write(text)\n",
    "\n",
    "import re\n",
    "import os\n",
    "def eng_lat_2_lat_eng(source_path, target_path):\n",
    "    if os.path.exists(source_path)==False:\n",
    "        return 'Bad route'\n",
    "    else:\n",
    "        with open (source_path) as f:\n",
    "            a=f.read()\n",
    "\n",
    "        # список из строк text, где каждый элемент список из слов строки без запятых и тире\n",
    "        c=[re.split('[ ,-]',a.replace(' ','').split('\\n')[h]) for h in range(len(a.split('\\n'))) if len(a.split('\\n')[h])>0]\n",
    "        dic={}\n",
    "        lis, lis2=[],[]\n",
    "        # список пар латинское слово - перевод\n",
    "        for i in range(len(c)):\n",
    "            for j in range(1,len(c[i])):\n",
    "                lis.append([c[i][j],c[i][0]])\n",
    "        # словарь для объединения повторов\n",
    "        for [f,s] in lis:\n",
    "            if f in dic:\n",
    "                dic[f]=dic[f]+', '+s\n",
    "            else:\n",
    "                dic[f]=s\n",
    "        # список из всех строк требуемого файла и объединение в одну str\n",
    "        for f,s in dic.items():\n",
    "            lis2.append(f+' - '+s)\n",
    "        a=('\\n').join(sorted(lis2))\n",
    "        # запись в файл; на выход функции - переменная с содержимым файла\n",
    "        with open(target_path, 'w') as ff:\n",
    "            ff.write(a)\n",
    "        return a"
   ]
  },
  {
   "cell_type": "code",
   "execution_count": 45,
   "metadata": {
    "collapsed": false
   },
   "outputs": [
    {
     "name": "stdout",
     "output_type": "stream",
     "text": [
      "baca - fruit\n",
      "bacca - fruit\n",
      "malum - apple, punishment\n",
      "multa - punishment\n",
      "pomum - apple\n",
      "popula - apple\n",
      "popum - fruit\n"
     ]
    }
   ],
   "source": [
    "print eng_lat_2_lat_eng('111/task_1.2_source.txt','111/task_1.2_res.txt')"
   ]
  },
  {
   "cell_type": "code",
   "execution_count": 43,
   "metadata": {
    "collapsed": false
   },
   "outputs": [
    {
     "name": "stdout",
     "output_type": "stream",
     "text": [
      "baca - fruit\n",
      "bacca - fruit\n",
      "malum - apple, punishment\n",
      "multa - punishment\n",
      "pomum - apple\n",
      "popula - apple\n",
      "popum - fruit\n"
     ]
    }
   ],
   "source": [
    "with open ('111/task_1.2_res.txt') as f:\n",
    "        print f.read()"
   ]
  },
  {
   "cell_type": "markdown",
   "metadata": {},
   "source": [
    "1.3\n",
    "=="
   ]
  },
  {
   "cell_type": "code",
   "execution_count": 86,
   "metadata": {
    "collapsed": true
   },
   "outputs": [],
   "source": [
    "def my_len(word, encoding=None):\n",
    "    if type(word)!=str and type(word)!=unicode:\n",
    "        return 'Bad argument'\n",
    "    elif type(word)==unicode:\n",
    "        return len(word)\n",
    "    elif encoding!=None:\n",
    "        return len(word.decode(encoding))\n",
    "    else:\n",
    "        return len(unicode(word, chardet.detect(word)['encoding']))"
   ]
  },
  {
   "cell_type": "code",
   "execution_count": 96,
   "metadata": {
    "collapsed": false
   },
   "outputs": [
    {
     "data": {
      "text/plain": [
       "True"
      ]
     },
     "execution_count": 96,
     "metadata": {},
     "output_type": "execute_result"
    }
   ],
   "source": [
    "my_len('текст') == 5"
   ]
  },
  {
   "cell_type": "code",
   "execution_count": 97,
   "metadata": {
    "collapsed": false
   },
   "outputs": [
    {
     "data": {
      "text/plain": [
       "True"
      ]
     },
     "execution_count": 97,
     "metadata": {},
     "output_type": "execute_result"
    }
   ],
   "source": [
    "my_len(u'текст') == 5"
   ]
  },
  {
   "cell_type": "code",
   "execution_count": 98,
   "metadata": {
    "collapsed": false
   },
   "outputs": [
    {
     "data": {
      "text/plain": [
       "True"
      ]
     },
     "execution_count": 98,
     "metadata": {},
     "output_type": "execute_result"
    }
   ],
   "source": [
    "my_len(u'ааааа'.encode('utf_16'), encoding='utf_16') == 5"
   ]
  },
  {
   "cell_type": "code",
   "execution_count": 99,
   "metadata": {
    "collapsed": false
   },
   "outputs": [
    {
     "data": {
      "text/plain": [
       "True"
      ]
     },
     "execution_count": 99,
     "metadata": {},
     "output_type": "execute_result"
    }
   ],
   "source": [
    "my_len(u'текст'.encode('windows-1251')) == 5"
   ]
  },
  {
   "cell_type": "markdown",
   "metadata": {},
   "source": [
    "Продвинутые\n",
    "=="
   ]
  },
  {
   "cell_type": "markdown",
   "metadata": {},
   "source": [
    "2.1\n",
    "=="
   ]
  },
  {
   "cell_type": "code",
   "execution_count": 92,
   "metadata": {
    "collapsed": true
   },
   "outputs": [],
   "source": [
    "def get_dir_content_info(dir_path):\n",
    "    import os\n",
    "    a=[(i,os.stat(os.path.join(dir_path,i)).st_size)\\\n",
    "       for i in os.listdir(dir_path) if os.path.isfile(os.path.join(dir_path,i))==True]\n",
    "    b=sorted(sorted(a), key=lambda a: -a[1])\n",
    "    c=('\\n').join([str(i)+(' - ')+str(j)+' Bytes' for (i,j) in b])\n",
    "    return c"
   ]
  },
  {
   "cell_type": "code",
   "execution_count": 93,
   "metadata": {
    "collapsed": false
   },
   "outputs": [
    {
     "name": "stdout",
     "output_type": "stream",
     "text": [
      "This_notebook_3.ipynb - 29387 Bytes\n",
      "This_notebook_2.ipynb - 13772 Bytes\n",
      "This_notebook_4.ipynb - 8868 Bytes\n",
      "This_notebook.ipynb - 3366 Bytes\n",
      "task_1.1_res.txt - 120 Bytes\n",
      "task_1.2_source.txt - 85 Bytes\n"
     ]
    }
   ],
   "source": [
    "print get_dir_content_info('.')"
   ]
  },
  {
   "cell_type": "code",
   "execution_count": 94,
   "metadata": {
    "collapsed": false
   },
   "outputs": [
    {
     "name": "stdout",
     "output_type": "stream",
     "text": [
      "python27.pdb - 5155840 Bytes\n",
      "python27.dll - 3031040 Bytes\n",
      "msvcp90.dll - 853328 Bytes\n",
      "Uninstall-Anaconda.exe - 653822 Bytes\n",
      "msvcr90.dll - 624464 Bytes\n",
      "pythoncom27.dll - 547840 Bytes\n",
      "xlwings64.dll - 344064 Bytes\n",
      "xlwings32.dll - 276480 Bytes\n",
      "msvcm90.dll - 245760 Bytes\n",
      "pythonw.pdb - 191488 Bytes\n",
      "python.pdb - 183296 Bytes\n",
      "pywintypes27.dll - 137216 Bytes\n",
      "vcomp90.dll - 56656 Bytes\n",
      "w9xpopen.exe - 53760 Bytes\n",
      "pythonw.exe - 27648 Bytes\n",
      "python.exe - 27136 Bytes\n",
      "pythoncomloader27.dll - 8704 Bytes\n",
      "cwp.py - 1034 Bytes\n",
      "qt.conf - 159 Bytes\n",
      ".nonadmin - 0 Bytes\n"
     ]
    }
   ],
   "source": [
    "print get_dir_content_info('C:/Anaconda')"
   ]
  },
  {
   "cell_type": "markdown",
   "metadata": {},
   "source": [
    "2.2\n",
    "=="
   ]
  },
  {
   "cell_type": "code",
   "execution_count": 155,
   "metadata": {
    "collapsed": true
   },
   "outputs": [],
   "source": [
    "text = \"\"\"button - кнопка, пуговица\n",
    "key - ключ, кнопка\n",
    "spring - весна, ключ, родник\n",
    "\"\"\"\n",
    "with open('111/task_2.2_source.txt', 'w') as f:\n",
    "    f.write(text)\n",
    "import re    \n",
    "import chardet\n",
    "def eng_rus_2_rus_eng(source_path, target_path, encoding=None):\n",
    "    if os.path.exists(source_path)==False:\n",
    "        return 'Bad route'\n",
    "    else:\n",
    "        with open (source_path) as f:\n",
    "            a=f.read()\n",
    "        # перевод в unicode\n",
    "        if type(a)!=str and type(a)!=unicode:\n",
    "            return 'Bad argument'\n",
    "        elif type(a)!=unicode and encoding!=None:\n",
    "            a=a.decode(encoding)\n",
    "        elif type(a)!=unicode and encoding==None:\n",
    "            encoding=chardet.detect(a)['encoding']\n",
    "            a=unicode(a, encoding)\n",
    "            \n",
    "        # изменение словаря\n",
    "        c=[re.split('[ ,-]',a.replace(' ','').split('\\n')[h]) for h in range(len(a.split('\\n'))) if len(a.split('\\n')[h])>0]\n",
    "        dic={}\n",
    "        lis, lis2=[],[]\n",
    "        # список пар латинское слово - перевод\n",
    "        for i in range(len(c)):\n",
    "            for j in range(1,len(c[i])):\n",
    "                lis.append([c[i][j],c[i][0]])\n",
    "        # словарь для объединения повторов\n",
    "        for [f,s] in lis:\n",
    "            if f in dic:\n",
    "                dic[f]=dic[f]+', '+s\n",
    "            else:\n",
    "                dic[f]=s\n",
    "        # список из всех строк требуемого файла и объединение в одну str\n",
    "        for f,s in dic.items():\n",
    "            lis2.append(f+' - '+s)\n",
    "        a=('\\n').join(sorted(lis2))\n",
    "        # запись в файл; на выход функции - переменная с содержимым файла\n",
    "        with open(target_path, 'w') as ff:\n",
    "            ff.write(a.encode(encoding))\n",
    "        return a"
   ]
  },
  {
   "cell_type": "code",
   "execution_count": 157,
   "metadata": {
    "collapsed": false
   },
   "outputs": [
    {
     "name": "stdout",
     "output_type": "stream",
     "text": [
      "весна - spring\n",
      "ключ - key, spring\n",
      "кнопка - button, key\n",
      "пуговица - button\n",
      "родник - spring\n"
     ]
    }
   ],
   "source": [
    "print eng_rus_2_rus_eng('111/task_2.2_source.txt','111/task_2.2_res.txt','utf-8')"
   ]
  },
  {
   "cell_type": "code",
   "execution_count": 160,
   "metadata": {
    "collapsed": false
   },
   "outputs": [
    {
     "name": "stdout",
     "output_type": "stream",
     "text": [
      "весна - spring\n",
      "ключ - key, spring\n",
      "кнопка - button, key\n",
      "пуговица - button\n",
      "родник - spring\n"
     ]
    }
   ],
   "source": [
    "print eng_rus_2_rus_eng('111/task_2.2_source.txt','111/task_2.2_res.txt')"
   ]
  },
  {
   "cell_type": "code",
   "execution_count": 158,
   "metadata": {
    "collapsed": false
   },
   "outputs": [
    {
     "name": "stdout",
     "output_type": "stream",
     "text": [
      "весна - spring\n",
      "ключ - key, spring\n",
      "кнопка - button, key\n",
      "пуговица - button\n",
      "родник - spring\n"
     ]
    }
   ],
   "source": [
    "with open ('111/task_2.2_res.txt') as f:\n",
    "        print f.read()"
   ]
  },
  {
   "cell_type": "markdown",
   "metadata": {},
   "source": [
    "Сложные\n",
    "=="
   ]
  },
  {
   "cell_type": "markdown",
   "metadata": {},
   "source": [
    "3.1\n",
    "=="
   ]
  },
  {
   "cell_type": "code",
   "execution_count": 105,
   "metadata": {
    "collapsed": false
   },
   "outputs": [],
   "source": [
    "t=\"\"\"Существует исследование, говорящее о том, что в словах текста можно произвольно переставить буквы\n",
    "(не затрагивая первую и последнюю), и от этого читабельность текста практически не ухудшится.\n",
    "Напишите функцию для проверки этого факта.\n",
    "\"\"\"\n",
    "t2=\"\"\"The National Basketball Association is the major men's professional\n",
    "basketball league in North America, and is widely considered to be the\n",
    "premier men's professional basketball league in the world\n",
    "\"\"\""
   ]
  },
  {
   "cell_type": "code",
   "execution_count": 106,
   "metadata": {
    "collapsed": false
   },
   "outputs": [],
   "source": [
    "def text_shuffle(text, seed=None):\n",
    "    import re    \n",
    "    import chardet\n",
    "    a=filter(lambda x: x!='',re.split('[\\n,.() ]',text.decode(chardet.detect(text)['encoding'])))\n",
    "    ff,fl,fm,fm2,res=[],[],[],[],[] \n",
    "    for i in range(len(a)):\n",
    "        ff.append(a[i][0]) # список первых букв\n",
    "        fl.append(a[i][-1]) # список последних букв\n",
    "        fm.append(a[i][1:-1]) # список остальных букв\n",
    "    for j in range(len(fm)):\n",
    "        nn=[]\n",
    "        nn=list(fm[j])\n",
    "        if seed!=None:\n",
    "            random.seed(seed)\n",
    "            random.shuffle(nn)\n",
    "        else:\n",
    "            nn=sorted(nn)\n",
    "        fm2.append(''.join(nn))\n",
    "    for i in range(len(a)):\n",
    "        if len(a[i])>2: # если в исходном слове менее 3-х букв оставляем его без изменений, иначе - вставляем перетасованную середину\n",
    "            res.append(ff[i]+fm2[i]+fl[i])\n",
    "        else:\n",
    "            res.append(a[i])\n",
    "    return (' ').join(res)"
   ]
  },
  {
   "cell_type": "code",
   "execution_count": 107,
   "metadata": {
    "collapsed": false,
    "scrolled": false
   },
   "outputs": [
    {
     "name": "stdout",
     "output_type": "stream",
     "text": [
      "The Nianatol Bsalbeaktl Atiaoscsoin is the moajr m'ens poneiaosrfsl bsalbeaktl lauege in Ntorh Acimera and is wdliey cnreeiosdd to be the peiremr m'ens poneiaosrfsl bsalbeaktl lauege in the wlord\n",
      "Свеестуущт иавдеилноссе гвеоорщяе о том что в савлох текста мжноо пвзилноорьо павееирстть бвкуы не зааавгиртя пверую и пделносюю и от эгото чабеилносттьь текста паеиккрстчи не удистухшя Наииптше фикнуцю для пвекорри эгото факта\n"
     ]
    }
   ],
   "source": [
    "print text_shuffle(t2,30)\n",
    "print text_shuffle(t)"
   ]
  },
  {
   "cell_type": "markdown",
   "metadata": {},
   "source": [
    "*ТЕСТ  \n",
    "Та же функция но без перевода в unicode*  \n",
    "Работает с латинскими символами, но сбивается с кириллицей, так как jupyter по умолчанию считает, что символ должен занимать один байт"
   ]
  },
  {
   "cell_type": "code",
   "execution_count": 103,
   "metadata": {
    "collapsed": true
   },
   "outputs": [],
   "source": [
    "def text_shuffle2(text, seed=None):\n",
    "    import re    \n",
    "    import chardet\n",
    "    a=filter(lambda x: x!='',re.split('[\\n,.() ]',text))\n",
    "    ff,fl,fm,fm2,res=[],[],[],[],[] \n",
    "    for i in range(len(a)):\n",
    "        ff.append(a[i][0]) # список первых букв\n",
    "        fl.append(a[i][-1]) # список последних букв\n",
    "        fm.append(a[i][1:-1]) # список остальных букв\n",
    "    for j in range(len(fm)):\n",
    "        nn=[]\n",
    "        nn=list(fm[j])\n",
    "        if seed!=None:\n",
    "            random.seed(seed)\n",
    "            random.shuffle(nn)\n",
    "        else:\n",
    "            nn=sorted(nn)\n",
    "        fm2.append(''.join(nn))\n",
    "    for i in range(len(a)):\n",
    "        if len(a[i])>2: # если в исходном слове менее 3-х букв оставляем без изменений, иначе - вставляем перетасованную середину\n",
    "            res.append(ff[i]+fm2[i]+fl[i])\n",
    "        else:\n",
    "            res.append(a[i])\n",
    "    return (' ').join(res)"
   ]
  },
  {
   "cell_type": "code",
   "execution_count": 104,
   "metadata": {
    "collapsed": false
   },
   "outputs": [
    {
     "name": "stdout",
     "output_type": "stream",
     "text": [
      "The Nianatol Bsalbeaktl Atiaoscsoin is the moajr m'ens poneiaosrfsl bsalbeaktl lauege in Ntorh Acimera and is wdliey cnreeiosdd to be the peiremr m'ens poneiaosrfsl bsalbeaktl lauege in the wlord\n",
      "Ё����������������т Ё��������������������ѵ Ѐ��������������ѵ о т��м т��Ѿ в с��������х с��������Ѱ ж������о Ѐ������������������Ѿ Ѐ������������������ь Ѓ������ы не Ѐ����������������я Ѐ��������ю и Ё��������������ю и от т������Ѿ с����������������������ь с��������Ѱ Ѐ������������������Ѹ не с��������������я Ђ������������ѵ у����������ю д��я Ѐ������������Ѹ т������Ѿ т������Ѱ\n"
     ]
    }
   ],
   "source": [
    "print text_shuffle2(t2,30)\n",
    "print text_shuffle2(t)"
   ]
  },
  {
   "cell_type": "markdown",
   "metadata": {},
   "source": [
    "3.2\n",
    "=="
   ]
  },
  {
   "cell_type": "code",
   "execution_count": 71,
   "metadata": {
    "collapsed": false
   },
   "outputs": [],
   "source": [
    "def process(fst_source_path, snd_source_path, target_path):\n",
    "    with open('111/task_3.2_1.txt', 'r') as ff1, open('111/task_3.2_2.txt', 'r') as ff2:\n",
    "        a=map(lambda x,y: 'First' if x<y else 'Second' if x>y else 'Equal', ff1.xreadlines(), ff2.xreadlines())\n",
    "        with open('111/task_3.2_res.txt', 'w') as ff:\n",
    "            ff.write('\\n'.join(a))\n",
    "    return '\\n'.join(a)"
   ]
  },
  {
   "cell_type": "code",
   "execution_count": 72,
   "metadata": {
    "collapsed": true
   },
   "outputs": [],
   "source": [
    "tlist1=\"\"\"Abramov\n",
    "Glushakov\n",
    "Смирнов\n",
    "Иванов\n",
    "Кузнецов\n",
    "Соколов\n",
    "Попов\n",
    "Лебедев\n",
    "Козлов\n",
    "Новиков\n",
    "Морозов\n",
    "Петров\n",
    "aaa\n",
    "\"\"\"\n",
    "tlist2=\"\"\"Abramov\n",
    "Petuhov\n",
    "Лазарев\n",
    "Медведев\n",
    "Ершов\n",
    "Никитин\n",
    "Соболев\n",
    "Рябов\n",
    "Поляков\n",
    "Цветков\n",
    "Данилов\n",
    "Жуков\n",
    "\"\"\"\n",
    "with open('111/task_3.2_1.txt', 'w') as f1:\n",
    "    f1.write(tlist1)\n",
    "with open('111/task_3.2_2.txt', 'w') as f2:\n",
    "    f2.write(tlist2)"
   ]
  },
  {
   "cell_type": "code",
   "execution_count": 74,
   "metadata": {
    "collapsed": false
   },
   "outputs": [
    {
     "name": "stdout",
     "output_type": "stream",
     "text": [
      "Equal\n",
      "First\n",
      "Second\n",
      "First\n",
      "Second\n",
      "Second\n",
      "First\n",
      "First\n",
      "First\n",
      "First\n",
      "Second\n",
      "Second\n",
      "Second\n"
     ]
    }
   ],
   "source": [
    "print process('111/task_3.2_1.txt', '111/task_3.2_2.txt', '111/task_3.2_res.txt')"
   ]
  }
 ],
 "metadata": {
  "kernelspec": {
   "display_name": "Python 2",
   "language": "python",
   "name": "python2"
  },
  "language_info": {
   "codemirror_mode": {
    "name": "ipython",
    "version": 2
   },
   "file_extension": ".py",
   "mimetype": "text/x-python",
   "name": "python",
   "nbconvert_exporter": "python",
   "pygments_lexer": "ipython2",
   "version": "2.7.13"
  }
 },
 "nbformat": 4,
 "nbformat_minor": 2
}
