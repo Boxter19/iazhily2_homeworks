{
 "cells": [
  {
   "cell_type": "markdown",
   "metadata": {},
   "source": [
    "1. Базовый уровень: задание по numpy и scipy\n",
    "===\n",
    "1.Напишите свой аналог np.linspace с использованием цикла и с использованием list comprehension. Сравните все три варианта по производительности"
   ]
  },
  {
   "cell_type": "code",
   "execution_count": 2,
   "metadata": {
    "collapsed": false
   },
   "outputs": [],
   "source": [
    "import numpy as np\n",
    "# aa - list comprehension, bb- цикл, сс - np.arange, dd - np.linspace\n",
    "aa=[x*10 for x in range(11)]\n",
    "bb=[]\n",
    "for x in range(11):\n",
    "    bb.append(x*10)\n",
    "cc=np.arange(0, 107, 10)\n",
    "dd=np.linspace(0, 100, num=11, endpoint=True)"
   ]
  },
  {
   "cell_type": "code",
   "execution_count": 3,
   "metadata": {
    "collapsed": false
   },
   "outputs": [
    {
     "name": "stdout",
     "output_type": "stream",
     "text": [
      "[0, 10, 20, 30, 40, 50, 60, 70, 80, 90, 100] <type 'list'>\n",
      "[0, 10, 20, 30, 40, 50, 60, 70, 80, 90, 100] <type 'list'>\n",
      "[  0  10  20  30  40  50  60  70  80  90 100] <type 'numpy.ndarray'>\n",
      "[   0.   10.   20.   30.   40.   50.   60.   70.   80.   90.  100.] <type 'numpy.ndarray'>\n"
     ]
    }
   ],
   "source": [
    "print aa, type(aa)\n",
    "print bb, type(bb)\n",
    "print cc, type(cc)\n",
    "print dd, type(dd)"
   ]
  },
  {
   "cell_type": "code",
   "execution_count": 5,
   "metadata": {
    "collapsed": false
   },
   "outputs": [
    {
     "name": "stdout",
     "output_type": "stream",
     "text": [
      "1000000 loops, best of 3: 1.93 µs per loop\n",
      "The slowest run took 4.22 times longer than the fastest. This could mean that an intermediate result is being cached.\n",
      "100000 loops, best of 3: 2.03 µs per loop\n",
      "The slowest run took 16.65 times longer than the fastest. This could mean that an intermediate result is being cached.\n",
      "1000000 loops, best of 3: 796 ns per loop\n",
      "The slowest run took 7.00 times longer than the fastest. This could mean that an intermediate result is being cached.\n",
      "100000 loops, best of 3: 5.5 µs per loop\n"
     ]
    }
   ],
   "source": [
    "# для небольших списков/массивов\n",
    "%timeit [x*10 for x in xrange(11)]\n",
    "bb=[]\n",
    "def cyc(x):\n",
    "    for a in xrange(x):\n",
    "        bb.append(a*10)\n",
    "    return bb\n",
    "%timeit cyc(11)\n",
    "%timeit cc=np.arange(0, 107, 10)\n",
    "%timeit dd=np.linspace(0, 100, num=11, endpoint=True)"
   ]
  },
  {
   "cell_type": "code",
   "execution_count": 6,
   "metadata": {
    "collapsed": false
   },
   "outputs": [
    {
     "name": "stdout",
     "output_type": "stream",
     "text": [
      "1000 loops, best of 3: 532 µs per loop\n",
      "1000 loops, best of 3: 1.69 ms per loop\n",
      "The slowest run took 17.42 times longer than the fastest. This could mean that an intermediate result is being cached.\n",
      "1000000 loops, best of 3: 1.72 µs per loop\n",
      "10000 loops, best of 3: 26.2 µs per loop\n"
     ]
    }
   ],
   "source": [
    "# для больших списков/массивов\n",
    "%timeit [x*10 for x in xrange(10001)]\n",
    "bb=[]\n",
    "def cyc(x):\n",
    "    for a in xrange(x):\n",
    "        bb.append(a*10)\n",
    "    return bb\n",
    "%timeit cyc(10001)\n",
    "%timeit cc=np.arange(0, 10007, 10)\n",
    "%timeit dd=np.linspace(0, 10000, num=10001, endpoint=True)"
   ]
  },
  {
   "cell_type": "markdown",
   "metadata": {},
   "source": [
    "Как видно, при любых размерах массива быстрее всего работает np.arrange.  \n",
    "Для небольших массивов np.linspace - наиболее долгий способ.  \n",
    "Но если требуется создать массив из большего кол-ва элементов, производительность np.linspace становится значительно быстрее цикла и list comprehension."
   ]
  },
  {
   "cell_type": "markdown",
   "metadata": {},
   "source": [
    "2.Сравните по производительности основные операции с массивами (array) numpy и с list"
   ]
  },
  {
   "cell_type": "code",
   "execution_count": 32,
   "metadata": {
    "collapsed": false
   },
   "outputs": [
    {
     "name": "stdout",
     "output_type": "stream",
     "text": [
      "<type 'numpy.ndarray'> <type 'numpy.ndarray'> <type 'list'> <type 'list'>\n"
     ]
    }
   ],
   "source": [
    "a1=np.array([1, 2, 3, 4])\n",
    "a2=np.arange(4)\n",
    "b1=[1,2,3,4]\n",
    "b2=[0,1,2,3]\n",
    "b3=3\n",
    "print type(a1), type(a2), type(b1), type(b2)"
   ]
  },
  {
   "cell_type": "code",
   "execution_count": 25,
   "metadata": {
    "collapsed": false
   },
   "outputs": [
    {
     "name": "stdout",
     "output_type": "stream",
     "text": [
      "The slowest run took 26.10 times longer than the fastest. This could mean that an intermediate result is being cached.\n",
      "1000000 loops, best of 3: 492 ns per loop\n",
      "The slowest run took 20.03 times longer than the fastest. This could mean that an intermediate result is being cached.\n",
      "1000000 loops, best of 3: 491 ns per loop\n",
      "The slowest run took 18.94 times longer than the fastest. This could mean that an intermediate result is being cached.\n",
      "1000000 loops, best of 3: 497 ns per loop\n",
      "The slowest run took 21.20 times longer than the fastest. This could mean that an intermediate result is being cached.\n",
      "1000000 loops, best of 3: 726 ns per loop\n",
      "The slowest run took 12.59 times longer than the fastest. This could mean that an intermediate result is being cached.\n",
      "1000000 loops, best of 3: 985 ns per loop\n",
      "The slowest run took 13.19 times longer than the fastest. This could mean that an intermediate result is being cached.\n",
      "1000000 loops, best of 3: 713 ns per loop\n"
     ]
    }
   ],
   "source": [
    "%timeit a1+a2\n",
    "%timeit a1-a2\n",
    "%timeit a1*a2\n",
    "%timeit a2/a1\n",
    "%timeit a1**a2\n",
    "%timeit a2%a1"
   ]
  },
  {
   "cell_type": "code",
   "execution_count": 43,
   "metadata": {
    "collapsed": false
   },
   "outputs": [
    {
     "name": "stdout",
     "output_type": "stream",
     "text": [
      "The slowest run took 11.88 times longer than the fastest. This could mean that an intermediate result is being cached.\n",
      "1000000 loops, best of 3: 180 ns per loop\n",
      "The slowest run took 5.89 times longer than the fastest. This could mean that an intermediate result is being cached.\n",
      "1000000 loops, best of 3: 218 ns per loop\n"
     ]
    }
   ],
   "source": [
    "# для list допустимы только операции сложения двух списков (записи всех элементов в один список) и умножение списка на число\n",
    "# (повторение элементов списка несколько раз)\n",
    "%timeit b1+b2\n",
    "%timeit b1*b3"
   ]
  },
  {
   "cell_type": "code",
   "execution_count": 44,
   "metadata": {
    "collapsed": false
   },
   "outputs": [
    {
     "name": "stdout",
     "output_type": "stream",
     "text": [
      "The slowest run took 17.25 times longer than the fastest. This could mean that an intermediate result is being cached.\n",
      "1000000 loops, best of 3: 1.51 µs per loop\n",
      "100000 loops, best of 3: 8.36 µs per loop\n"
     ]
    }
   ],
   "source": [
    "c1 = np.arange(1000)\n",
    "c2 = np.arange(1000)\n",
    "d1 = range(1000)\n",
    "d2 = range(1000)\n",
    "%timeit c1+c2\n",
    "%timeit d1+d2"
   ]
  },
  {
   "cell_type": "markdown",
   "metadata": {},
   "source": [
    "Как видно, ситуация аналогична предыдущей: для небольших размеров массивов/списков list работает быстрее, но если размер элементов увеличивается np.array явно производительнее"
   ]
  },
  {
   "cell_type": "markdown",
   "metadata": {},
   "source": [
    "3.Попробуйте поменять метод оптимизации в примере решения оптимизационной задачи с помощью scipy.optimize,  \n",
    "показанном на лекции (для этого потребуется обратиться к документации). Подберите метод с наименьшим  \n",
    "количеством вычислений функции. Начальное приближение (точку [5,5]) оставьте тем же."
   ]
  },
  {
   "cell_type": "code",
   "execution_count": 45,
   "metadata": {
    "collapsed": false
   },
   "outputs": [
    {
     "name": "stdout",
     "output_type": "stream",
     "text": [
      "3.0\n"
     ]
    }
   ],
   "source": [
    "from scipy import optimize\n",
    "def f(x):\n",
    "    return (x[0] - 3.2) ** 2 + (x[1] - 0.1) ** 2 + 3\n",
    "\n",
    "print f([3.2, 0.1])"
   ]
  },
  {
   "cell_type": "code",
   "execution_count": 98,
   "metadata": {
    "collapsed": true
   },
   "outputs": [
    {
     "name": "stdout",
     "output_type": "stream",
     "text": [
      " Represents the optimization result.\n",
      "\n",
      "    Attributes\n",
      "    ----------\n",
      "    x : ndarray\n",
      "        The solution of the optimization.\n",
      "    success : bool\n",
      "        Whether or not the optimizer exited successfully.\n",
      "    status : int\n",
      "        Termination status of the optimizer. Its value depends on the\n",
      "        underlying solver. Refer to `message` for details.\n",
      "    message : str\n",
      "        Description of the cause of the termination.\n",
      "    fun, jac, hess: ndarray\n",
      "        Values of objective function, its Jacobian and its Hessian (if\n",
      "        available). The Hessians may be approximations, see the documentation\n",
      "        of the function in question.\n",
      "    hess_inv : object\n",
      "        Inverse of the objective function's Hessian; may be an approximation.\n",
      "        Not available for all solvers. The type of this attribute may be\n",
      "        either np.ndarray or scipy.sparse.linalg.LinearOperator.\n",
      "    nfev, njev, nhev : int\n",
      "        Number of evaluations of the objective functions and of its\n",
      "        Jacobian and Hessian.\n",
      "    nit : int\n",
      "        Number of iterations performed by the optimizer.\n",
      "    maxcv : float\n",
      "        The maximum constraint violation.\n",
      "\n",
      "    Notes\n",
      "    -----\n",
      "    There may be additional attributes not listed above depending of the\n",
      "    specific solver. Since this class is essentially a subclass of dict\n",
      "    with attribute accessors, one can see which attributes are available\n",
      "    using the `keys()` method.\n",
      "    \n"
     ]
    }
   ],
   "source": [
    "print optimize.OptimizeResult.__doc__"
   ]
  },
  {
   "cell_type": "code",
   "execution_count": 117,
   "metadata": {
    "collapsed": true
   },
   "outputs": [],
   "source": [
    "# судя по всему минимизировать необходимо параметр nfev\n",
    "# функция, возвращающая значения данного параметра для выбранного метода вычислений\n",
    "def opt1(x):\n",
    "    x_min = optimize.minimize(f, [5, 5], method = x)\n",
    "    for i in range(len(x_min.items())):\n",
    "        if x_min.items()[i][0] == 'nfev':\n",
    "            return x_min.items()[i][1]"
   ]
  },
  {
   "cell_type": "code",
   "execution_count": 118,
   "metadata": {
    "collapsed": false
   },
   "outputs": [
    {
     "data": {
      "text/plain": [
       "{'BFGS': 16,\n",
       " 'CG': 20,\n",
       " 'COBYLA': 47,\n",
       " 'L-BFGS-B': 9,\n",
       " 'Nelder-Mead': 87,\n",
       " 'Powell': 92,\n",
       " 'SLSQP': 9,\n",
       " 'TNC': 22}"
      ]
     },
     "execution_count": 118,
     "metadata": {},
     "output_type": "execute_result"
    }
   ],
   "source": [
    "met_list1=['Nelder-Mead', 'Powell', 'CG', 'BFGS', 'L-BFGS-B', 'TNC', 'COBYLA', 'SLSQP']\n",
    "#met_list2=['Newton-CG', 'L-BFGS-B', 'dogleg', 'trust-ncg'] - эти методы требуют доп. переменных (матриц Якоби и др.)\n",
    "res_list1 = []\n",
    "for j in range(len(met_list1)):\n",
    "    res_list1.append(opt1(met_list1[j]))\n",
    "dic1=dict(zip(met_list1, res_list1))\n",
    "dic1"
   ]
  },
  {
   "cell_type": "markdown",
   "metadata": {},
   "source": [
    "Таким образом, наименьшим кол-во вычислений функции, как минимум, в данном случае обладают методы L-BFGS-B и SLSQP  \n",
    "(Broyden–Fletcher–Goldfarb–Shanno algorithm и Sequential Least Squares)"
   ]
  },
  {
   "cell_type": "markdown",
   "metadata": {},
   "source": [
    "2. Продвинутый уровень: изучаем изменения в документации sklearn\n",
    "=="
   ]
  },
  {
   "cell_type": "markdown",
   "metadata": {},
   "source": [
    "Установите себе самую свежую версию sklearn. В ней метод train_test_split должен быть в модуле model_selection, а не в  \n",
    "cross_validation, как в старых версиях и в блокноте с лекции. Перепишите код с лекции так, чтобы вместо модуля  \n",
    "sklearn.cross_validation он использовал sklearn.model_selection, и по-прежнему работал (продемонстрируйте это). Будьте  \n",
    "внимательны к документации - сигнатура некоторых функций изменилась."
   ]
  },
  {
   "cell_type": "code",
   "execution_count": 1,
   "metadata": {
    "collapsed": true
   },
   "outputs": [],
   "source": [
    "import pandas as pd\n",
    "import sklearn as sk"
   ]
  },
  {
   "cell_type": "code",
   "execution_count": 2,
   "metadata": {
    "collapsed": true
   },
   "outputs": [],
   "source": [
    "from sklearn.model_selection import train_test_split"
   ]
  },
  {
   "cell_type": "code",
   "execution_count": 13,
   "metadata": {
    "collapsed": false
   },
   "outputs": [
    {
     "data": {
      "text/html": [
       "<div>\n",
       "<table border=\"1\" class=\"dataframe\">\n",
       "  <thead>\n",
       "    <tr style=\"text-align: right;\">\n",
       "      <th></th>\n",
       "      <th>ID</th>\n",
       "      <th>LIMIT_BAL</th>\n",
       "      <th>SEX</th>\n",
       "      <th>EDUCATION</th>\n",
       "      <th>MARRIAGE</th>\n",
       "      <th>AGE</th>\n",
       "      <th>PAY_0</th>\n",
       "      <th>PAY_2</th>\n",
       "      <th>PAY_3</th>\n",
       "      <th>PAY_4</th>\n",
       "      <th>...</th>\n",
       "      <th>BILL_AMT4</th>\n",
       "      <th>BILL_AMT5</th>\n",
       "      <th>BILL_AMT6</th>\n",
       "      <th>PAY_AMT1</th>\n",
       "      <th>PAY_AMT2</th>\n",
       "      <th>PAY_AMT3</th>\n",
       "      <th>PAY_AMT4</th>\n",
       "      <th>PAY_AMT5</th>\n",
       "      <th>PAY_AMT6</th>\n",
       "      <th>default payment next month</th>\n",
       "    </tr>\n",
       "  </thead>\n",
       "  <tbody>\n",
       "    <tr>\n",
       "      <th>0</th>\n",
       "      <td>1</td>\n",
       "      <td>20000</td>\n",
       "      <td>2</td>\n",
       "      <td>2</td>\n",
       "      <td>1</td>\n",
       "      <td>24</td>\n",
       "      <td>2</td>\n",
       "      <td>2</td>\n",
       "      <td>-1</td>\n",
       "      <td>-1</td>\n",
       "      <td>...</td>\n",
       "      <td>0</td>\n",
       "      <td>0</td>\n",
       "      <td>0</td>\n",
       "      <td>0</td>\n",
       "      <td>689</td>\n",
       "      <td>0</td>\n",
       "      <td>0</td>\n",
       "      <td>0</td>\n",
       "      <td>0</td>\n",
       "      <td>1</td>\n",
       "    </tr>\n",
       "    <tr>\n",
       "      <th>1</th>\n",
       "      <td>2</td>\n",
       "      <td>120000</td>\n",
       "      <td>2</td>\n",
       "      <td>2</td>\n",
       "      <td>2</td>\n",
       "      <td>26</td>\n",
       "      <td>-1</td>\n",
       "      <td>2</td>\n",
       "      <td>0</td>\n",
       "      <td>0</td>\n",
       "      <td>...</td>\n",
       "      <td>3272</td>\n",
       "      <td>3455</td>\n",
       "      <td>3261</td>\n",
       "      <td>0</td>\n",
       "      <td>1000</td>\n",
       "      <td>1000</td>\n",
       "      <td>1000</td>\n",
       "      <td>0</td>\n",
       "      <td>2000</td>\n",
       "      <td>1</td>\n",
       "    </tr>\n",
       "    <tr>\n",
       "      <th>2</th>\n",
       "      <td>3</td>\n",
       "      <td>90000</td>\n",
       "      <td>2</td>\n",
       "      <td>2</td>\n",
       "      <td>2</td>\n",
       "      <td>34</td>\n",
       "      <td>0</td>\n",
       "      <td>0</td>\n",
       "      <td>0</td>\n",
       "      <td>0</td>\n",
       "      <td>...</td>\n",
       "      <td>14331</td>\n",
       "      <td>14948</td>\n",
       "      <td>15549</td>\n",
       "      <td>1518</td>\n",
       "      <td>1500</td>\n",
       "      <td>1000</td>\n",
       "      <td>1000</td>\n",
       "      <td>1000</td>\n",
       "      <td>5000</td>\n",
       "      <td>0</td>\n",
       "    </tr>\n",
       "  </tbody>\n",
       "</table>\n",
       "<p>3 rows × 25 columns</p>\n",
       "</div>"
      ],
      "text/plain": [
       "   ID  LIMIT_BAL  SEX  EDUCATION  MARRIAGE  AGE  PAY_0  PAY_2  PAY_3  PAY_4  \\\n",
       "0   1      20000    2          2         1   24      2      2     -1     -1   \n",
       "1   2     120000    2          2         2   26     -1      2      0      0   \n",
       "2   3      90000    2          2         2   34      0      0      0      0   \n",
       "\n",
       "              ...              BILL_AMT4  BILL_AMT5  BILL_AMT6  PAY_AMT1  \\\n",
       "0             ...                      0          0          0         0   \n",
       "1             ...                   3272       3455       3261         0   \n",
       "2             ...                  14331      14948      15549      1518   \n",
       "\n",
       "   PAY_AMT2  PAY_AMT3  PAY_AMT4  PAY_AMT5  PAY_AMT6  \\\n",
       "0       689         0         0         0         0   \n",
       "1      1000      1000      1000         0      2000   \n",
       "2      1500      1000      1000      1000      5000   \n",
       "\n",
       "   default payment next month  \n",
       "0                           1  \n",
       "1                           1  \n",
       "2                           0  \n",
       "\n",
       "[3 rows x 25 columns]"
      ]
     },
     "execution_count": 13,
     "metadata": {},
     "output_type": "execute_result"
    }
   ],
   "source": [
    "url = 'https://raw.github.com/neurospin/pystatsml/master/data/default%20of%20credit%20card%20clients.xls'\n",
    "dataset = pd.read_excel(url, skiprows=1, sheetname='Data')\n",
    "dataset.head(3)"
   ]
  },
  {
   "cell_type": "code",
   "execution_count": 14,
   "metadata": {
    "collapsed": false
   },
   "outputs": [],
   "source": [
    "labels = dataset['default payment next month']\n",
    "dataset.drop(['default payment next month'], axis=1, inplace=True)"
   ]
  },
  {
   "cell_type": "code",
   "execution_count": 6,
   "metadata": {
    "collapsed": true
   },
   "outputs": [
    {
     "name": "stdout",
     "output_type": "stream",
     "text": [
      "Split arrays or matrices into random train and test subsets\n",
      "\n",
      "    Quick utility that wraps input validation and\n",
      "    ``next(ShuffleSplit().split(X, y))`` and application to input data\n",
      "    into a single call for splitting (and optionally subsampling) data in a\n",
      "    oneliner.\n",
      "\n",
      "    Read more in the :ref:`User Guide <cross_validation>`.\n",
      "\n",
      "    Parameters\n",
      "    ----------\n",
      "    *arrays : sequence of indexables with same length / shape[0]\n",
      "        Allowed inputs are lists, numpy arrays, scipy-sparse\n",
      "        matrices or pandas dataframes.\n",
      "\n",
      "    test_size : float, int, or None (default is None)\n",
      "        If float, should be between 0.0 and 1.0 and represent the\n",
      "        proportion of the dataset to include in the test split. If\n",
      "        int, represents the absolute number of test samples. If None,\n",
      "        the value is automatically set to the complement of the train size.\n",
      "        If train size is also None, test size is set to 0.25.\n",
      "\n",
      "    train_size : float, int, or None (default is None)\n",
      "        If float, should be between 0.0 and 1.0 and represent the\n",
      "        proportion of the dataset to include in the train split. If\n",
      "        int, represents the absolute number of train samples. If None,\n",
      "        the value is automatically set to the complement of the test size.\n",
      "\n",
      "    random_state : int or RandomState\n",
      "        Pseudo-random number generator state used for random sampling.\n",
      "\n",
      "    stratify : array-like or None (default is None)\n",
      "        If not None, data is split in a stratified fashion, using this as\n",
      "        the class labels.\n",
      "\n",
      "    Returns\n",
      "    -------\n",
      "    splitting : list, length=2 * len(arrays)\n",
      "        List containing train-test split of inputs.\n",
      "\n",
      "        .. versionadded:: 0.16\n",
      "            If the input is sparse, the output will be a\n",
      "            ``scipy.sparse.csr_matrix``. Else, output type is the same as the\n",
      "            input type.\n",
      "\n",
      "    Examples\n",
      "    --------\n",
      "    >>> import numpy as np\n",
      "    >>> from sklearn.model_selection import train_test_split\n",
      "    >>> X, y = np.arange(10).reshape((5, 2)), range(5)\n",
      "    >>> X\n",
      "    array([[0, 1],\n",
      "           [2, 3],\n",
      "           [4, 5],\n",
      "           [6, 7],\n",
      "           [8, 9]])\n",
      "    >>> list(y)\n",
      "    [0, 1, 2, 3, 4]\n",
      "\n",
      "    >>> X_train, X_test, y_train, y_test = train_test_split(\n",
      "    ...     X, y, test_size=0.33, random_state=42)\n",
      "    ...\n",
      "    >>> X_train\n",
      "    array([[4, 5],\n",
      "           [0, 1],\n",
      "           [6, 7]])\n",
      "    >>> y_train\n",
      "    [2, 0, 3]\n",
      "    >>> X_test\n",
      "    array([[2, 3],\n",
      "           [8, 9]])\n",
      "    >>> y_test\n",
      "    [1, 4]\n",
      "\n",
      "    \n"
     ]
    }
   ],
   "source": [
    "print sk.model_selection.train_test_split.__doc__"
   ]
  },
  {
   "cell_type": "code",
   "execution_count": 17,
   "metadata": {
    "collapsed": false
   },
   "outputs": [
    {
     "name": "stdout",
     "output_type": "stream",
     "text": [
      "22500 7500\n"
     ]
    }
   ],
   "source": [
    "train_x, test_x, train_y, test_y = train_test_split(dataset, labels, test_size=0.25, random_state=42)\n",
    "print len(train_x), len(test_x)"
   ]
  },
  {
   "cell_type": "code",
   "execution_count": 18,
   "metadata": {
    "collapsed": false
   },
   "outputs": [
    {
     "data": {
      "text/plain": [
       "LogisticRegression(C=1.0, class_weight=None, dual=False, fit_intercept=True,\n",
       "          intercept_scaling=1, max_iter=100, multi_class='ovr', n_jobs=1,\n",
       "          penalty='l2', random_state=None, solver='liblinear', tol=0.0001,\n",
       "          verbose=0, warm_start=False)"
      ]
     },
     "execution_count": 18,
     "metadata": {},
     "output_type": "execute_result"
    }
   ],
   "source": [
    "from sklearn.linear_model import LogisticRegression\n",
    "predictive_model = LogisticRegression()\n",
    "predictive_model.fit(train_x, train_y)"
   ]
  },
  {
   "cell_type": "code",
   "execution_count": 21,
   "metadata": {
    "collapsed": false
   },
   "outputs": [
    {
     "name": "stdout",
     "output_type": "stream",
     "text": [
      "[0 0 0 ..., 0 0 0]\n",
      "<type 'numpy.ndarray'>\n",
      "0.783066666667\n",
      "0\n"
     ]
    }
   ],
   "source": [
    "predictions = predictive_model.predict(test_x)\n",
    "print predictions\n",
    "print type(predictions)\n",
    "from sklearn.metrics import accuracy_score\n",
    "print accuracy_score(predictions, test_y)\n",
    "print sum(predictions)"
   ]
  },
  {
   "cell_type": "markdown",
   "metadata": {},
   "source": [
    "Переписал тот же код, что был на лекции, но в новой версии train_test_split (из модуля sklearn.model_selection).  \n",
    "Изменений в документации имеющихся функций по сравнению с тем, что было, не заметил.  \n",
    "Более ничего не менял. Код выдает абсолютно те же результаты. Если не сложно, подскажите, пожалуйста, в чем был подвох."
   ]
  },
  {
   "cell_type": "code",
   "execution_count": 27,
   "metadata": {
    "collapsed": false
   },
   "outputs": [
    {
     "name": "stdout",
     "output_type": "stream",
     "text": [
      "\n",
      "The :mod:`sklearn.datasets` module includes utilities to load datasets,\n",
      "including methods to load and fetch popular reference datasets. It also\n",
      "features some artificial data generators.\n",
      "\n"
     ]
    }
   ],
   "source": [
    "print sk.datasets.__doc__"
   ]
  },
  {
   "cell_type": "code",
   "execution_count": 61,
   "metadata": {
    "collapsed": false
   },
   "outputs": [
    {
     "data": {
      "text/plain": [
       "['alt.atheism',\n",
       " 'comp.graphics',\n",
       " 'comp.os.ms-windows.misc',\n",
       " 'comp.sys.ibm.pc.hardware',\n",
       " 'comp.sys.mac.hardware',\n",
       " 'comp.windows.x',\n",
       " 'misc.forsale',\n",
       " 'rec.autos',\n",
       " 'rec.motorcycles',\n",
       " 'rec.sport.baseball',\n",
       " 'rec.sport.hockey',\n",
       " 'sci.crypt',\n",
       " 'sci.electronics',\n",
       " 'sci.med',\n",
       " 'sci.space',\n",
       " 'soc.religion.christian',\n",
       " 'talk.politics.guns',\n",
       " 'talk.politics.mideast',\n",
       " 'talk.politics.misc',\n",
       " 'talk.religion.misc']"
      ]
     },
     "execution_count": 61,
     "metadata": {},
     "output_type": "execute_result"
    }
   ],
   "source": [
    "from sklearn.datasets import fetch_20newsgroups\n",
    "import numpy as np\n",
    "import heapq\n",
    "all_categories = fetch_20newsgroups().target_names\n",
    "all_categories"
   ]
  },
  {
   "cell_type": "code",
   "execution_count": 62,
   "metadata": {
    "collapsed": true
   },
   "outputs": [],
   "source": [
    "categories = [\n",
    "    'sci.electronics',\n",
    "    'sci.space',\n",
    "    'sci.med'\n",
    "]\n",
    "train_data = fetch_20newsgroups(subset='train', categories=categories, remove=('headers', 'footers', 'quotes'))\n",
    "test_data = fetch_20newsgroups(subset='test', categories=categories, remove=('headers', 'footers', 'quotes'))"
   ]
  },
  {
   "cell_type": "code",
   "execution_count": 63,
   "metadata": {
    "collapsed": true
   },
   "outputs": [
    {
     "name": "stdout",
     "output_type": "stream",
     "text": [
      "Convert a collection of text documents to a matrix of token counts\n",
      "\n",
      "    This implementation produces a sparse representation of the counts using\n",
      "    scipy.sparse.coo_matrix.\n",
      "\n",
      "    If you do not provide an a-priori dictionary and you do not use an analyzer\n",
      "    that does some kind of feature selection then the number of features will\n",
      "    be equal to the vocabulary size found by analyzing the data.\n",
      "\n",
      "    Read more in the :ref:`User Guide <text_feature_extraction>`.\n",
      "\n",
      "    Parameters\n",
      "    ----------\n",
      "    input : string {'filename', 'file', 'content'}\n",
      "        If 'filename', the sequence passed as an argument to fit is\n",
      "        expected to be a list of filenames that need reading to fetch\n",
      "        the raw content to analyze.\n",
      "\n",
      "        If 'file', the sequence items must have a 'read' method (file-like\n",
      "        object) that is called to fetch the bytes in memory.\n",
      "\n",
      "        Otherwise the input is expected to be the sequence strings or\n",
      "        bytes items are expected to be analyzed directly.\n",
      "\n",
      "    encoding : string, 'utf-8' by default.\n",
      "        If bytes or files are given to analyze, this encoding is used to\n",
      "        decode.\n",
      "\n",
      "    decode_error : {'strict', 'ignore', 'replace'}\n",
      "        Instruction on what to do if a byte sequence is given to analyze that\n",
      "        contains characters not of the given `encoding`. By default, it is\n",
      "        'strict', meaning that a UnicodeDecodeError will be raised. Other\n",
      "        values are 'ignore' and 'replace'.\n",
      "\n",
      "    strip_accents : {'ascii', 'unicode', None}\n",
      "        Remove accents during the preprocessing step.\n",
      "        'ascii' is a fast method that only works on characters that have\n",
      "        an direct ASCII mapping.\n",
      "        'unicode' is a slightly slower method that works on any characters.\n",
      "        None (default) does nothing.\n",
      "\n",
      "    analyzer : string, {'word', 'char', 'char_wb'} or callable\n",
      "        Whether the feature should be made of word or character n-grams.\n",
      "        Option 'char_wb' creates character n-grams only from text inside\n",
      "        word boundaries.\n",
      "\n",
      "        If a callable is passed it is used to extract the sequence of features\n",
      "        out of the raw, unprocessed input.\n",
      "\n",
      "    preprocessor : callable or None (default)\n",
      "        Override the preprocessing (string transformation) stage while\n",
      "        preserving the tokenizing and n-grams generation steps.\n",
      "\n",
      "    tokenizer : callable or None (default)\n",
      "        Override the string tokenization step while preserving the\n",
      "        preprocessing and n-grams generation steps.\n",
      "        Only applies if ``analyzer == 'word'``.\n",
      "\n",
      "    ngram_range : tuple (min_n, max_n)\n",
      "        The lower and upper boundary of the range of n-values for different\n",
      "        n-grams to be extracted. All values of n such that min_n <= n <= max_n\n",
      "        will be used.\n",
      "\n",
      "    stop_words : string {'english'}, list, or None (default)\n",
      "        If 'english', a built-in stop word list for English is used.\n",
      "\n",
      "        If a list, that list is assumed to contain stop words, all of which\n",
      "        will be removed from the resulting tokens.\n",
      "        Only applies if ``analyzer == 'word'``.\n",
      "\n",
      "        If None, no stop words will be used. max_df can be set to a value\n",
      "        in the range [0.7, 1.0) to automatically detect and filter stop\n",
      "        words based on intra corpus document frequency of terms.\n",
      "\n",
      "    lowercase : boolean, True by default\n",
      "        Convert all characters to lowercase before tokenizing.\n",
      "\n",
      "    token_pattern : string\n",
      "        Regular expression denoting what constitutes a \"token\", only used\n",
      "        if ``analyzer == 'word'``. The default regexp select tokens of 2\n",
      "        or more alphanumeric characters (punctuation is completely ignored\n",
      "        and always treated as a token separator).\n",
      "\n",
      "    max_df : float in range [0.0, 1.0] or int, default=1.0\n",
      "        When building the vocabulary ignore terms that have a document\n",
      "        frequency strictly higher than the given threshold (corpus-specific\n",
      "        stop words).\n",
      "        If float, the parameter represents a proportion of documents, integer\n",
      "        absolute counts.\n",
      "        This parameter is ignored if vocabulary is not None.\n",
      "\n",
      "    min_df : float in range [0.0, 1.0] or int, default=1\n",
      "        When building the vocabulary ignore terms that have a document\n",
      "        frequency strictly lower than the given threshold. This value is also\n",
      "        called cut-off in the literature.\n",
      "        If float, the parameter represents a proportion of documents, integer\n",
      "        absolute counts.\n",
      "        This parameter is ignored if vocabulary is not None.\n",
      "\n",
      "    max_features : int or None, default=None\n",
      "        If not None, build a vocabulary that only consider the top\n",
      "        max_features ordered by term frequency across the corpus.\n",
      "\n",
      "        This parameter is ignored if vocabulary is not None.\n",
      "\n",
      "    vocabulary : Mapping or iterable, optional\n",
      "        Either a Mapping (e.g., a dict) where keys are terms and values are\n",
      "        indices in the feature matrix, or an iterable over terms. If not\n",
      "        given, a vocabulary is determined from the input documents. Indices\n",
      "        in the mapping should not be repeated and should not have any gap\n",
      "        between 0 and the largest index.\n",
      "\n",
      "    binary : boolean, default=False\n",
      "        If True, all non zero counts are set to 1. This is useful for discrete\n",
      "        probabilistic models that model binary events rather than integer\n",
      "        counts.\n",
      "\n",
      "    dtype : type, optional\n",
      "        Type of the matrix returned by fit_transform() or transform().\n",
      "\n",
      "    Attributes\n",
      "    ----------\n",
      "    vocabulary_ : dict\n",
      "        A mapping of terms to feature indices.\n",
      "\n",
      "    stop_words_ : set\n",
      "        Terms that were ignored because they either:\n",
      "\n",
      "          - occurred in too many documents (`max_df`)\n",
      "          - occurred in too few documents (`min_df`)\n",
      "          - were cut off by feature selection (`max_features`).\n",
      "\n",
      "        This is only available if no vocabulary was given.\n",
      "\n",
      "    See also\n",
      "    --------\n",
      "    HashingVectorizer, TfidfVectorizer\n",
      "\n",
      "    Notes\n",
      "    -----\n",
      "    The ``stop_words_`` attribute can get large and increase the model size\n",
      "    when pickling. This attribute is provided only for introspection and can\n",
      "    be safely removed using delattr or set to None before pickling.\n",
      "    \n"
     ]
    }
   ],
   "source": [
    "print sk.feature_extraction.text.CountVectorizer.__doc__"
   ]
  },
  {
   "cell_type": "code",
   "execution_count": 64,
   "metadata": {
    "collapsed": true
   },
   "outputs": [
    {
     "name": "stdout",
     "output_type": "stream",
     "text": [
      "Learn the vocabulary dictionary and return term-document matrix.\n",
      "\n",
      "        This is equivalent to fit followed by transform, but more efficiently\n",
      "        implemented.\n",
      "\n",
      "        Parameters\n",
      "        ----------\n",
      "        raw_documents : iterable\n",
      "            An iterable which yields either str, unicode or file objects.\n",
      "\n",
      "        Returns\n",
      "        -------\n",
      "        X : array, [n_samples, n_features]\n",
      "            Document-term matrix.\n",
      "        \n"
     ]
    }
   ],
   "source": [
    "print count_vectorizer.fit_transform.__doc__"
   ]
  },
  {
   "cell_type": "code",
   "execution_count": 65,
   "metadata": {
    "collapsed": false
   },
   "outputs": [],
   "source": [
    "from sklearn.feature_extraction.text import CountVectorizer\n",
    "count_vectorizer = CountVectorizer(min_df=5, ngram_range=(1, 2))"
   ]
  },
  {
   "cell_type": "code",
   "execution_count": 66,
   "metadata": {
    "collapsed": true
   },
   "outputs": [],
   "source": [
    "from sklearn.svm import SVC, LinearSVC\n",
    "from sklearn.linear_model import LogisticRegression\n",
    "from sklearn.metrics import accuracy_score\n",
    "from sklearn.model_selection import cross_val_score"
   ]
  },
  {
   "cell_type": "code",
   "execution_count": 67,
   "metadata": {
    "collapsed": false
   },
   "outputs": [
    {
     "data": {
      "text/plain": [
       "Pipeline(steps=[('vectorizer', CountVectorizer(analyzer=u'word', binary=False, decode_error=u'strict',\n",
       "        dtype=<type 'numpy.int64'>, encoding=u'utf-8', input=u'content',\n",
       "        lowercase=True, max_df=1.0, max_features=None, min_df=5,\n",
       "        ngram_range=(1, 2), preprocessor=None, stop_words=None,\n",
       "    ...,\n",
       "  max_iter=-1, probability=False, random_state=None, shrinking=True,\n",
       "  tol=0.001, verbose=False))])"
      ]
     },
     "execution_count": 67,
     "metadata": {},
     "output_type": "execute_result"
    }
   ],
   "source": [
    "from sklearn.pipeline import Pipeline\n",
    "pipeline = Pipeline([(\"vectorizer\", CountVectorizer(min_df=5, ngram_range=(1, 2))), (\"algo\", SVC(C=100000))])\n",
    "pipeline.fit(train_data.data, train_data.target)"
   ]
  },
  {
   "cell_type": "code",
   "execution_count": 68,
   "metadata": {
    "collapsed": false
   },
   "outputs": [
    {
     "data": {
      "text/plain": [
       "0.67878275570583257"
      ]
     },
     "execution_count": 68,
     "metadata": {},
     "output_type": "execute_result"
    }
   ],
   "source": [
    "accuracy_score(pipeline.predict(test_data.data), test_data.target)"
   ]
  },
  {
   "cell_type": "markdown",
   "metadata": {},
   "source": [
    "3. Сложный уровень: творческая часть\n",
    "=="
   ]
  },
  {
   "cell_type": "markdown",
   "metadata": {},
   "source": [
    "2.Выберите любой модуль из не рассмотренных на последней лекции (можно взять любой из рекомендованных, можно любой на ваше усмотрение), напишите, зачем его используют и покажите несколько простых примеров его применения, предварительно разобравшись с ними в документации."
   ]
  },
  {
   "cell_type": "markdown",
   "metadata": {},
   "source": [
    "Код посвящен скачиванию с известного ресурса новой .mp3 известного исполнителя с помощью модулей requests, twill, urllib, re"
   ]
  },
  {
   "cell_type": "code",
   "execution_count": 1,
   "metadata": {
    "collapsed": false
   },
   "outputs": [
    {
     "data": {
      "text/plain": [
       "'http://zaycev.net/artist/89438-new.html'"
      ]
     },
     "execution_count": 1,
     "metadata": {},
     "output_type": "execute_result"
    }
   ],
   "source": [
    "url1='http://zaycev.net'\n",
    "art_id='/artist/89438' # (Scooter) - слабое место. Пока номер html страницы артиста приходится узнавать поиском на самом сайте\n",
    "song='Ramp'\n",
    "dest_fol='111' # локальная папка, в которую будет помещен файл\n",
    "fname='Ramp.mp3' # имя нового файла в локальной папке\n",
    "\n",
    "url2=url1+art_id+'-new.html' # сортировка по новизне; предполагается, что новый трек - на первой странице\n",
    "url2"
   ]
  },
  {
   "cell_type": "code",
   "execution_count": 5,
   "metadata": {
    "collapsed": true
   },
   "outputs": [
    {
     "name": "stdout",
     "output_type": "stream",
     "text": [
      "Help on module twill.commands in twill:\n",
      "\n",
      "NAME\n",
      "    twill.commands\n",
      "\n",
      "FILE\n",
      "    c:\\anaconda\\lib\\site-packages\\twill\\commands.py\n",
      "\n",
      "DESCRIPTION\n",
      "    Implementation of all of the individual 'twill' commands available through\n",
      "    twill-sh.\n",
      "\n",
      "FUNCTIONS\n",
      "    add_auth(realm, uri, user, passwd)\n",
      "        >> add_auth <realm> <uri> <user> <passwd>\n",
      "        \n",
      "        Add HTTP Basic Authentication information for the given realm/uri.\n",
      "        \n",
      "        Note: realms are not currently supported; <realm> is ignored.\n",
      "    \n",
      "    add_extra_header(header_key, header_value)\n",
      "        >> add_header <name> <value>\n",
      "        \n",
      "        Add an HTTP header to each HTTP request.  See 'show_extra_headers' and\n",
      "        'clear_extra_headers'.\n",
      "    \n",
      "    agent(what)\n",
      "        >> agent <agent>\n",
      "        \n",
      "        Set the agent string (identifying the browser brand).\n",
      "        \n",
      "        Some convenient shortcuts:\n",
      "          ie5, ie55, ie6, moz17, opera7, konq32, saf11, aol9.\n",
      "    \n",
      "    back()\n",
      "        >> back\n",
      "        \n",
      "        Return to the previous page.\n",
      "    \n",
      "    clear_cookies()\n",
      "        >> clear_cookies\n",
      "        \n",
      "        Clear the cookie jar.\n",
      "    \n",
      "    clear_extra_headers()\n",
      "        >> clear_extra_headers\n",
      "        \n",
      "        Remove all user-defined HTTP headers.  See 'add_extra_header' and\n",
      "        'show_extra_headers'.\n",
      "    \n",
      "    code(should_be)\n",
      "        >> code <int>\n",
      "        \n",
      "        Check to make sure the response code for the last page is as given.\n",
      "    \n",
      "    config(key=None, value=None)\n",
      "        >> config [<key> [<int value>]]\n",
      "        \n",
      "        Configure/report various options.  If no <value> is given, report\n",
      "        the current key value; if no <key> given, report current settings.\n",
      "        \n",
      "        So far:\n",
      "        \n",
      "         * 'acknowledge_equiv_refresh', default 1 -- follow HTTP-EQUIV=REFRESH\n",
      "         * 'readonly_controls_writeable', default 0 -- make ro controls writeable\n",
      "         * 'require_tidy', default 0 -- *require* that tidy be installed\n",
      "         * 'use_BeautifulSoup', default 1 -- use the BeautifulSoup parser\n",
      "         * 'use_tidy', default 1 -- use tidy, if it's installed\n",
      "         * 'with_default_realm', default 0 -- use a default realm for HTTP AUTH\n",
      "        \n",
      "        Deprecated:\n",
      "         * 'allow_parse_errors' has been removed.\n",
      "    \n",
      "    debug(what, level)\n",
      "        >> debug <what> <level>\n",
      "        \n",
      "        <what> can be:\n",
      "           * http (any level >= 1), to display the HTTP transactions.\n",
      "           * commands (any level >= 1), to display the commands being executed.\n",
      "           * equiv-refresh (any level >= 1) to display HTTP-EQUIV refresh handling.\n",
      "    \n",
      "    echo(*strs)\n",
      "        >> echo <list> <of> <strings>\n",
      "        \n",
      "        Echo the arguments to the screen.\n",
      "    \n",
      "    exit(code='0')\n",
      "        exit [<code>]\n",
      "        \n",
      "        Exits twill, with the given exit code (defaults to 0, \"no error\").\n",
      "    \n",
      "    extend_with(module_name)\n",
      "        >> extend_with <module>\n",
      "        \n",
      "        Import contents of given module.\n",
      "    \n",
      "    fa = formaction(formname, action)\n",
      "        >> formaction <formname> <action_url>\n",
      "        \n",
      "        Sets action parameter on form to action_url\n",
      "    \n",
      "    find(what, flags='')\n",
      "        >> find <regexp> [<flags>]\n",
      "        \n",
      "        Succeed if the regular expression is on the page.  Sets the local\n",
      "        variable __match__ to the matching text.\n",
      "        \n",
      "        Flags is a string consisting of the following characters:\n",
      "        \n",
      "        * i: ignorecase\n",
      "        * m: multiline\n",
      "        * s: dotall\n",
      "        \n",
      "        For explanations of these, please see the Python re module\n",
      "        documentation.\n",
      "    \n",
      "    follow(what)\n",
      "        >> follow <regexp>\n",
      "        \n",
      "        Find the first matching link on the page & visit it.\n",
      "    \n",
      "    formaction(formname, action)\n",
      "        >> formaction <formname> <action_url>\n",
      "        \n",
      "        Sets action parameter on form to action_url\n",
      "    \n",
      "    formclear(formname)\n",
      "        >> formclear <formname>\n",
      "        \n",
      "        Run 'clear' on all of the controls in this form.\n",
      "    \n",
      "    formfile(formname, fieldname, filename, content_type=None)\n",
      "        >> formfile <form> <field> <filename> [ <content_type> ]\n",
      "        \n",
      "        Upload a file via an \"upload file\" form field.\n",
      "    \n",
      "    formvalue(formname, fieldname, value)\n",
      "        >> formvalue <formname> <field> <value>\n",
      "        \n",
      "        Set value of a form field.\n",
      "        \n",
      "        There are some ambiguities in the way formvalue deals with lists:\n",
      "        'formvalue' will *add* the given value to a list of multiple selection,\n",
      "        for lists that allow it.\n",
      "        \n",
      "        Forms are matched against 'formname' as follows:\n",
      "          1. regexp match to actual form name;\n",
      "          2. if 'formname' is an integer, it's tried as an index.\n",
      "        \n",
      "        Form controls are matched against 'fieldname' as follows:\n",
      "          1. unique exact match to control name;\n",
      "          2. unique regexp match to control name;\n",
      "          3. if fieldname is an integer, it's tried as an index;\n",
      "          4. unique & exact match to submit-button values.\n",
      "        \n",
      "        Formvalue ignores read-only fields completely; if they're readonly,\n",
      "        nothing is done, unless the config options ('config' command) are\n",
      "        changed.\n",
      "        \n",
      "        'formvalue' is available as 'fv' as well.\n",
      "    \n",
      "    fv = formvalue(formname, fieldname, value)\n",
      "        >> formvalue <formname> <field> <value>\n",
      "        \n",
      "        Set value of a form field.\n",
      "        \n",
      "        There are some ambiguities in the way formvalue deals with lists:\n",
      "        'formvalue' will *add* the given value to a list of multiple selection,\n",
      "        for lists that allow it.\n",
      "        \n",
      "        Forms are matched against 'formname' as follows:\n",
      "          1. regexp match to actual form name;\n",
      "          2. if 'formname' is an integer, it's tried as an index.\n",
      "        \n",
      "        Form controls are matched against 'fieldname' as follows:\n",
      "          1. unique exact match to control name;\n",
      "          2. unique regexp match to control name;\n",
      "          3. if fieldname is an integer, it's tried as an index;\n",
      "          4. unique & exact match to submit-button values.\n",
      "        \n",
      "        Formvalue ignores read-only fields completely; if they're readonly,\n",
      "        nothing is done, unless the config options ('config' command) are\n",
      "        changed.\n",
      "        \n",
      "        'formvalue' is available as 'fv' as well.\n",
      "    \n",
      "    get_browser()\n",
      "    \n",
      "    getinput(prompt)\n",
      "        >> getinput <prompt>\n",
      "        Get input, store it in '__input__'.\n",
      "    \n",
      "    getpassword(prompt)\n",
      "        >> getpassword <prompt>\n",
      "        \n",
      "        Get a password (\"invisible input\"), store it in '__password__'.\n",
      "    \n",
      "    go(url)\n",
      "        >> go <url>\n",
      "        \n",
      "        Visit the URL given.\n",
      "    \n",
      "    info()\n",
      "        >> info\n",
      "        \n",
      "        Report information on current page.\n",
      "    \n",
      "    load_cookies(filename)\n",
      "        >> load_cookies <filename>\n",
      "        \n",
      "        Clear the cookie jar and load cookies from the given file.\n",
      "    \n",
      "    notfind(what, flags='')\n",
      "        >> notfind <regexp> [<flags>]\n",
      "        \n",
      "        Fail if the regular expression is on the page.\n",
      "    \n",
      "    redirect_error(filename)\n",
      "        >> redirect_error <filename>\n",
      "        \n",
      "        Append all twill error output to the given file.\n",
      "    \n",
      "    redirect_output(filename)\n",
      "        >> redirect_output <filename>\n",
      "        \n",
      "        Append all twill output to the given file.\n",
      "    \n",
      "    reload()\n",
      "        >> reload\n",
      "        \n",
      "        Reload the current URL.\n",
      "    \n",
      "    reset_browser()\n",
      "        >> reset_browser\n",
      "        \n",
      "        Reset the browser completely.\n",
      "    \n",
      "    reset_error()\n",
      "        >> reset_error\n",
      "        \n",
      "        Reset twill error output to go to the screen.\n",
      "    \n",
      "    reset_output()\n",
      "        >> reset_output\n",
      "        \n",
      "        Reset twill output to go to the screen.\n",
      "    \n",
      "    run(cmd)\n",
      "        >> run <command>\n",
      "        \n",
      "        <command> can be any valid python command; 'exec' is used to run it.\n",
      "    \n",
      "    runfile(*files)\n",
      "        >> runfile <file1> [ <file2> ... ]\n",
      "    \n",
      "    save_cookies(filename)\n",
      "        >> save_cookies <filename>\n",
      "        \n",
      "        Save all of the current cookies to the given file.\n",
      "    \n",
      "    save_html(filename=None)\n",
      "        >> save_html [<filename>]\n",
      "        \n",
      "        Save the HTML for the current page into <filename>.  If no filename\n",
      "        given, construct the filename from the URL.\n",
      "    \n",
      "    setglobal(name, value)\n",
      "        setglobal <name> <value>\n",
      "        \n",
      "        Sets the variable <name> to the value <value> in the global namespace.\n",
      "    \n",
      "    setlocal(name, value)\n",
      "        setlocal <name> <value>\n",
      "        \n",
      "        Sets the variable <name> to the value <value> in the local namespace.\n",
      "    \n",
      "    show()\n",
      "        >> show\n",
      "        \n",
      "        Show the HTML for the current page.\n",
      "    \n",
      "    show_cookies()\n",
      "        >> show_cookies\n",
      "        \n",
      "        Show all of the cookies in the cookie jar.\n",
      "    \n",
      "    show_extra_headers()\n",
      "        >> show_extra_headers\n",
      "        \n",
      "        Show any extra headers being added to each HTTP request.\n",
      "    \n",
      "    showforms()\n",
      "        >> showforms\n",
      "        \n",
      "        Show all of the forms on the current page.\n",
      "    \n",
      "    showhistory()\n",
      "        >> showhistory\n",
      "        \n",
      "        Show the browser history (what URLs were visited).\n",
      "    \n",
      "    showlinks()\n",
      "        >> showlinks\n",
      "        \n",
      "        Show all of the links on the current page.\n",
      "    \n",
      "    sleep(interval=1)\n",
      "        >> sleep [<interval>]\n",
      "        \n",
      "        Sleep for the specified amount of time.\n",
      "        If no interval is given, sleep for 1 second.\n",
      "    \n",
      "    submit(submit_button=None)\n",
      "        >> submit [<buttonspec>]\n",
      "        \n",
      "        Submit the current form (the one last clicked on) by clicking on the\n",
      "        n'th submission button.  If no \"buttonspec\" is given, submit the current\n",
      "        form by using the last clicked submit button.\n",
      "        \n",
      "        The form to submit is the last form clicked on with a 'formvalue' command.\n",
      "        \n",
      "        The button used to submit is chosen based on 'buttonspec'.  If 'buttonspec'\n",
      "        is given, it's matched against buttons using the same rules that\n",
      "        'formvalue' uses.  If 'buttonspec' is not given, submit uses the last\n",
      "        submit button clicked on by 'formvalue'.  If none can be found,\n",
      "        submit submits the form with no submit button clicked.\n",
      "    \n",
      "    tidy_ok()\n",
      "        >> tidy_ok\n",
      "        \n",
      "        Assert that 'tidy' produces no warnings or errors when run on the current\n",
      "        page.\n",
      "        \n",
      "        If 'tidy' cannot be run, will fail silently (unless 'tidy_should_exist'\n",
      "        option is true; see 'config' command).\n",
      "    \n",
      "    title(what)\n",
      "        >> title <regexp>\n",
      "        \n",
      "        Succeed if the regular expression is in the page title.\n",
      "    \n",
      "    url(should_be)\n",
      "        >> url <regexp>\n",
      "        \n",
      "        Check to make sure that the current URL matches the regexp.  The local\n",
      "        variable __match__ is set to the matching part of the URL.\n",
      "\n",
      "DATA\n",
      "    __all__ = ['get_browser', 'reset_browser', 'extend_with', 'exit', 'go'...\n",
      "\n",
      "\n"
     ]
    }
   ],
   "source": [
    "# импортируем команды. Пригодятся go и getbrowser()\n",
    "import requests\n",
    "import twill\n",
    "import twill.commands\n",
    "from twill.commands import *\n",
    "help(twill.commands)"
   ]
  },
  {
   "cell_type": "code",
   "execution_count": 6,
   "metadata": {
    "collapsed": false
   },
   "outputs": [
    {
     "name": "stdout",
     "output_type": "stream",
     "text": [
      "\n",
      "twill Web testing language & associated utilities.\n",
      "\n"
     ]
    }
   ],
   "source": [
    "print twill.__doc__"
   ]
  },
  {
   "cell_type": "code",
   "execution_count": 7,
   "metadata": {
    "collapsed": true
   },
   "outputs": [
    {
     "name": "stdout",
     "output_type": "stream",
     "text": [
      "==> at http://zaycev.net/artist/89438-new.html\n",
      "\n",
      "Form #1\n",
      "## ## __Name__________________ __Type___ __ID________ __Value__________________\n",
      "1     detectedGeoCountryName   hidden    (None)        \n",
      "2     country                  text      (None)       None \n",
      "3     email                    email     (None)       None \n",
      "4     text                     select    (None)        \n",
      "5     None                     submit    (None)       Submit \n",
      "6     None                     submit    (None)       Отправить \n",
      "\n",
      "\n",
      "Form #2\n",
      "## ## __Name__________________ __Type___ __ID________ __Value__________________\n",
      "1     q                        text      head-sea ...  \n",
      "\n",
      "\n",
      "Form #3\n",
      "## ## __Name__________________ __Type___ __ID________ __Value__________________\n",
      "1     j_username               text      j_username_  None \n",
      "2     j_password               password  j_password_  None \n",
      "\n",
      "\n",
      "Form #4\n",
      "## ## __Name__________________ __Type___ __ID________ __Value__________________\n",
      "1     None                     hidden    (None)       42 \n",
      "\n"
     ]
    }
   ],
   "source": [
    "# на всякий случай, можно просмотреть все html-формы и определить названия полей для логина, пароля, cookies, если нужно их вводить\n",
    "go(url2)\n",
    "get_browser().showforms()"
   ]
  },
  {
   "cell_type": "code",
   "execution_count": 8,
   "metadata": {
    "collapsed": true
   },
   "outputs": [
    {
     "name": "stdout",
     "output_type": "stream",
     "text": [
      "<!DOCTYPE html SYSTEM \"about:legacy-compat\">\n",
      "<html xmlns=\"http://www.w3.org/1999/xhtml\"><head><title>Скачать песни Scooter в MP3 бесплатно – музыкальная подборка и альбомы исполнителя Scooter - слушать музыку онлайн на Зайцев.нет</title><meta content=\"На музыкальном портале Зайцев.нет Вы можете скачать песни Scooter бесплатно в MP3. Лучшая музыкальная подборка и альбомы исполнителя Scooter.\" name=\"description\"/><link id=\"favicon\" href=\"/static/images/3d/b28fc0/favicon.ico\" rel=\"shortcut icon\"/><link href=\"/static/images/3d/b28fc0/favicon/apple-touch-icon.png\" rel=\"apple-touch-icon\"/><meta content=\"/suggest5/\" name=\"zina-search-suggest\"/><meta content=\"filezmeta.zaycev.net\" name=\"zina-filezmeta-domain\"/><meta content=\"\" name=\"zina-geoban-country-name\"/><meta content=\"false\" name=\"zina-geoban-country-banned\"/><meta content=\"true\" name=\"zina-geoban-disable-autoshow\"/><meta content=\"\" name=\"zina-geoban-flags-path\"/><meta content=\"ru:mow\" name=\"zina-geoban-countries\"/><meta content=\"1499609495244\" name=\"zina-geoban-timestamp\"/><meta content=\"\" name=\"zina-player-disable-logging\"/><meta content=\"true\" name=\"zina-player-log-latency\"/><meta content=\"adfox\" name=\"zina-player-audioinfo-type\"/><meta content=\"1200\" name=\"zina-player-audioinfo-expires\"/><meta content=\"\" name=\"zina-player-audioinfo-expires2\"/><meta content=\"true\" name=\"zina-player-audioinfo-modal\"/><meta content=\"true\" name=\"zina-player-audioinfo-preroll\"/><meta content=\"2000\" name=\"zina-player-audioinfo-preroll-timeout\"/><meta content=\"http://ads.adfox.ru/230620/getCode?pp=g&ps=bzjy&p2=fcmk&pfc=a&pfb=a&plp=a&pli=a&pop=a\" name=\"zina-player-audioinfo-link\"/><meta content=\"text/html; charset=utf-8\" http-equiv=\"Content-Type\"/><meta content=\"noyaca\" name=\"robots\"/><meta content=\"noodp\" name=\"robots\"/><link type=\"text/css\" href=\"/static/styles/3d/b28fc0/reset-min.css\" rel=\"stylesheet\"/><link type=\"text/css\" href=\"/static/styles/3d/b28fc0/util.css\" rel=\"stylesheet\"/><link type=\"text/css\" href=\"/static/styles/3d/b28fc0/base.css\" rel=\"stylesheet\"/><link type=\"text/css\" href=\"/static/styles/3d/b28fc0/pages.css\" rel=\"stylesheet\"/><link type=\"text/css\" href=\"/static/styles/3d/b28fc0/jquery-ui-1.8.20.custom.css\" rel=\"stylesheet\"/><link type=\"text/css\" href=\"/static/styles/3d/b28fc0/jquery-ui-1.8.20.dialog.css\" rel=\"stylesheet\"/><link type=\"text/css\" href=\"/static/styles/3d/b28fc0/search-suggest.css\" rel=\"stylesheet\"/><link type=\"text/css\" href=\"/static/styles/3d/b28fc0/social-likes_flat.css\" rel=\"stylesheet\"/><!--[if lte IE 7]><link type=\"text/css\" href=\"/static/styles/3d/b28fc0/ie.css\" rel=\"stylesheet\"/><![endif]--><link href=\"http://cdndl.zaycev.net/commonImage/89438_top917.jpg\" rel=\"image_src\" id=\"social-share-image\"/><link type=\"text/css\" href=\"/static/styles/3d/b28fc0/controls.css\" rel=\"stylesheet\"/><link type=\"text/css\" href=\"/static/styles/3d/b28fc0/audiotrack.css\" rel=\"stylesheet\"/><link type=\"text/css\" href=\"/static/styles/3d/b28fc0/jquery-ui-1.8.20.dialog.css\" rel=\"stylesheet\"/><script src=\"/static/js/3d/b28fc0/util/jquery/jquery-1.7.2.min.js\"></script><script src=\"/static/js/3d/b28fc0/util/jquery/jquery-ui-1.8.20.custom.min.js\"></script><script src=\"/static/js/3d/b28fc0/util/jquery/jquery.form.min.js\"></script><script src=\"/static/js/3d/b28fc0/swfobject.js\"></script><script src=\"/static/js/3d/b28fc0/util/cookie.js\"></script><script src=\"/static/js/3d/b28fc0/common.min.js\"></script><script src=\"/static/js/3d/b28fc0/l10n/countries.js\"></script><script src=\"/static/js/3d/b28fc0/app.min.js\"></script><script src=\"/static/js/3d/b28fc0/search/suggest.min.js\"></script><script src=\"/static/js/3d/b28fc0/person/dialog-profile-edit.min.js\"></script><script src=\"/static/js/3d/b28fc0/util/social-likes.min.js\"></script><script src=\"/static/js/3d/b28fc0/util/modernizr.js\"></script><script src=\"/static/js/3d/b28fc0/util/json2-underscore-backbone.min.js\"></script><script src=\"/static/js/3d/b28fc0/inline-player.min.js\"></script><script src=\"/static/js/3d/b28fc0/widget/captcha.min.js\"></script><script src=\"/static/js/3d/b28fc0/musicset-new/musicset-player.min.js\"></script><script src=\"/static/js/3d/b28fc0/musicset-new/musicset-track.min.js\"></script><link type=\"text/css\" href=\"/static/styles/3d/b28fc0/flipclock.css\" rel=\"stylesheet\"/><script src=\"/static/js/3d/b28fc0/musicset-new/flipclock.min.js\"></script><script src=\"/static/js/3d/b28fc0/musicset-new/musicset-audioinfo.min.js\"></script><script src=\"/static/js/3d/b28fc0/musicset-new/musicset.min.js\"></script><script src=\"//vk.com/js/api/openapi.js?121&amp;3db28fc0\"></script><script src=\"/static/js/3d/b28fc0/person/favorite-artist.min.js\"></script><script src=\"/static/js/3d/b28fc0/artist.min.js\"></script><meta content=\"summary_large_image\" name=\"twitter:card\"/><meta content=\"Scooter\" name=\"twitter:title\"/><meta content=\"zaycev.net\" name=\"twitter:description\"/><meta content=\"http://cdndl.zaycev.net/artist/894/89438-32915.jpg\" name=\"twitter:image\"/><meta content=\"website\" property=\"og:type\"/><meta content=\"Scooter\" property=\"og:title\"/><meta content=\"zaycev.net\" property=\"og:description\"/><meta content=\"http://cdndl.zaycev.net/artist/894/89438-32915.jpg\" property=\"og:image\"/><meta content=\"http://cdndl.zaycev.net/artist/894/89438-32915.jpg?3db28fc0\" property=\"og:image:secure_url\"/><meta content=\"image/jpeg\" property=\"og:image:type\"/><meta content=\"http://zaycev.net/artist/89438\" property=\"og:url\"/><link id=\"social-share-image\" rel=\"image_src\" href=\"\"/><meta content=\"\" name=\"zina-artist-vkgroup\"/><meta content=\"\" name=\"zina-artist-fbpage\"/><meta content=\"\" name=\"zina-artist-okpage\"/><meta content=\"\" name=\"zina-artist-statvk\"/><meta content=\"\" name=\"zina-artist-statfb\"/><meta content=\"\" name=\"zina-artist-statok\"/><script src=\"/static/js/3d/b28fc0/artist/social-widget.js\"></script><script src=\"//zaycev.net/static/geo.js\"></script><script src=\"//rttr2.zaycev.net/single?w=10095&t=head\"></script><script src=\"//cdndl.zaycev.net/static/1945/zaycev_ru_net.js\"></script><script src=\"//dl.zaycev.net/static/1978/zaycevrunetmailrucounter.js\"></script><script charset=\"UTF-8\" src=\"//cdn.sendpulse.com/js/push/873f6912e359b9ffa7b41110394465b8_0.js\" async></script></head><body><!--noindex--><div style=\"display: none\" class=\"geo__content modal__window\"><div class=\"geo__switcher\"><span class=\"geo__lang geo__lang_hidden\">Перевести на русский</span></div><div class=\"geo__switcher\"><span class=\"geo__lang\">Switch to English</span></div><div class=\"geo-info__track\"><div class=\"geo__flag\"></div></div><div class=\"geo-info__all-tracks\"><div class=\"geo__flag\"><img alt=\"\" src=\"/static/images/3d/b28fc0/flags/us.png\" class=\"geo__flag-img\"/></div></div><div class=\"geo__info\"><div class=\"geo-info__track\"><div class=\"geo__description geo__lang geo__lang_hidden\"><p>Playing track <span class=\"geo-descr__track-name\"></span> is&nbsp;prohibited in&nbsp;this&nbsp;country (<span class=\"geo-descr__country geo-descr__country_eng\"></span>) by&nbsp;request of&nbsp;the&nbsp;copyright holders.</p></div><div class=\"geo__description geo__lang\"><p>Прослушивание трека <span class=\"geo-descr__track-name\"></span> в&nbsp;этой&nbsp;стране (<span class=\"geo-descr__country geo-descr__country_rus\"></span>) запрещено по требованию правообладателей.</p></div></div><div class=\"geo-info__all-tracks\"><div class=\"geo__description geo__lang geo__lang_hidden\"><p>Playing and downloading tracks from&nbsp;zaycev.net is&nbsp;prohibited in&nbsp;this&nbsp;country (<span class=\"geo-descr__country geo-descr__country_eng\"></span>) by&nbsp;request of&nbsp;the&nbsp;copyright holders.</p></div><div class=\"geo__description geo__lang\"><p>Прослушивание и скачивание треков с&nbsp;zaycev.net в&nbsp;этой&nbsp;стране (<span class=\"geo-descr__country geo-descr__country_rus\"></span>) запрещено по требованию правообладателей.</p></div></div><div style=\"display: none\" class=\"geo__message-sent\"><div class=\"geo-message-sent__wrapper\"><div class=\"geo-message-sent__text geo__lang geo__lang_hidden\">Thank you, your message was sent.</div><div class=\"geo-message-sent__text geo__lang\">Спасибо, ваше сообщение отправлено.</div><div class=\"geo-content__close-btn geo-content__close-btn-sent\"><span class=\"geo__lang geo__lang_hidden\">Close</span><span class=\"geo__lang\">Закрыть</span></div></div></div><div class=\"geo__form-question\"><span class=\"geo__lang geo__lang_hidden\">Is your country determined incorrectly?</span><span class=\"geo__lang\">Страна определилась неверно?</span></div><div class=\"geo-content__close-btn\"><span class=\"geo__lang geo__lang_hidden\">Close</span><span class=\"geo__lang\">Закрыть</span></div><div style=\"display: none\" class=\"geo__form\"><form target=\"feedback-io\" id=\"geofeedback\" method=\"post\" action=\"/geoBanFeedback/submit\"><div class=\"geo__feedback\"><input value=\"\" name=\"detectedGeoCountryName\" type=\"hidden\"/><div class=\"geo__lang geo__lang_hidden\"><p class=\"geo-feedback__label\">Your current location (country)</p></div><div class=\"geo__lang\"><p class=\"geo-feedback__label\">Ваше текущее местоположение (страна)</p></div><div class=\"geo-feedback__country\"><div class=\"geo-feedback__input\"><input name=\"country\" type=\"text\" class=\"geo-feedback__text\"/></div></div><div class=\"geo__lang geo__lang_hidden\"><p class=\"geo-feedback__label\">Email</p></div><div class=\"geo__lang\"><p class=\"geo-feedback__label\">Эл. почта</p></div><div class=\"geo-feedback__email\"><div class=\"geo-feedback__input\"><input required=\"required\" name=\"email\" type=\"email\" class=\"geo-feedback__text\"/></div></div><div class=\"geo__lang geo__lang_hidden\"><p class=\"geo-feedback__label\">Additional information</p></div><div class=\"geo__lang\"><p class=\"geo-feedback__label\">Дополнительная информация</p></div><div>\n",
      "\t\t\t\t\t\t\t<textarea class=\"geo-feedback__text\" name=\"text\" rows=\"5\" cols=\"60\" placeholder=\"\"></textarea>\n",
      "\t\t\t\t\t\t\t</div><div class=\"geo-feedback__btn-cont geo__lang geo__lang_hidden\"><input value=\"Submit\" type=\"submit\" class=\"geo-feedback__button\"/></div><div class=\"geo-feedback__btn-cont geo__lang\"><input value=\"Отправить\" type=\"submit\" class=\"geo-feedback__button\"/></div></div></form></div></div>\n",
      "\t\t<div class=\"geo__footer-container\">\n",
      "\t\t\t<div class=\"geo__footer-left\">\n",
      "\t\t\t\t<a href=\"mailto:admin@zaycev.net\">admin@zaycev.net</a>\n",
      "\t\t\t</div>\n",
      "\t\t\t<div class=\"geo__footer-right\">Copyright &copy; Zaycev Media Group Ltd., 2004-2014</div>\n",
      "\t\t</div>\n",
      "\t\t</div><!--/noindex-->\n",
      "\t<div style=\"position: absolute; top: -1000px; left: -1000px;\">\n",
      "\t\t<iframe id=\"feedback-io\" name=\"feedback-io\" src=\"about:blank\"></iframe>\n",
      "\t</div>\n",
      "\t<script src=\"//dl.zaycev.net/static/1990/zaycevnetcounters.js\" async=\"\"></script>\n",
      "\n",
      "<!-- Rating@Mail.ru counter -->\n",
      "<noscript><div style=\"position:absolute;left:-10000px;\">\n",
      "<img src=\"//top-fwz1.mail.ru/counter?id=2615436;js=na\" style=\"border:0;\" height=\"1\" width=\"1\" alt=\"Рейтинг@Mail.ru\" />\n",
      "</div></noscript>\n",
      "<!-- //Rating@Mail.ru counter --><script src=\"//dl.zaycev.net/static/1579/countersga.js\" async=\"\"></script><!— Yandex.Metrika counter —>\n",
      "<script type=\"text/javascript\">\n",
      "    (function (d, w, c) {\n",
      "var isMobile = $(\".container-zaycev\").length != 0;\n",
      "if(!isMobile) {\n",
      "        (w[c] = w[c] || []).push(function() {\n",
      "            try {\n",
      "                w.yaCounter14469772 = new Ya.Metrika2({\n",
      "                    id:14469772,\n",
      "                    clickmap:true,\n",
      "                    trackLinks:true,\n",
      "                    accurateTrackBounce:true,\n",
      "                    webvisor:true\n",
      "                });\n",
      "            } catch(e) { }\n",
      "        });\n",
      "\n",
      "        var n = d.getElementsByTagName(\"script\")[0],\n",
      "            s = d.createElement(\"script\"),\n",
      "            f = function () { n.parentNode.insertBefore(s, n); };\n",
      "        s.type = \"text/javascript\";\n",
      "        s.async = true;\n",
      "        s.src = \"https://mc.yandex.ru/metrika/tag.js\";\n",
      "\n",
      "        if (w.opera == \"[object Opera]\") {\n",
      "            d.addEventListener(\"DOMContentLoaded\", f, false);\n",
      "        } else { f(); }\n",
      "}\n",
      "    })(document, window, \"yandex_metrika_callbacks2\");\n",
      "</script>\n",
      "<noscript><div><img src=\"https://mc.yandex.ru/watch/14469772\" style=\"position:absolute; left:-9999px;\" alt=\"\" /></div></noscript>\n",
      "<!— /Yandex.Metrika counter —><script src=\"//rttr2.zaycev.net/single?t=branding&amp;artistId=89438\"></script><noscript><div class=\"noscript-message\"><div class=\"noscript-message__title\">Для работы с сайтом необходима поддержка JavaScript и Cookies.</div><div class=\"noscript-message__text\">Чтобы использовать все возможности сайта, загрузите и установите один из этих браузеров:</div><div class=\"noscript-message__browsers\"><a rel=\"nofollow\" href=\"https://www.google.ru/chrome/\" class=\"noscript-message-browsers__browser\"><div class=\"browser__icon browser__icon_chrome\"></div><div class=\"browser__name\">Chrome</div></a><a rel=\"nofollow\" href=\"https://www.mozilla.org/ru/firefox/new/\" class=\"noscript-message-browsers__browser\"><div class=\"browser__icon browser__icon_forefox\"></div><div class=\"browser__name\">Firefox</div></a><a rel=\"nofollow\" href=\"http://www.opera.com/ru\" class=\"noscript-message-browsers__browser\"><div class=\"browser__icon browser__icon_opera\"></div><div class=\"browser__name\">Opera</div></a></div></div></noscript><div style=\"display: none\" class=\"noscript-message\"><div class=\"noscript-message__title\">Для работы с сайтом необходима поддержка JavaScript и Cookies.</div><div class=\"noscript-message__text\">Чтобы использовать все возможности сайта, загрузите и установите один из этих браузеров:</div><div class=\"noscript-message__browsers\"><a rel=\"nofollow\" href=\"https://www.google.ru/chrome/\" class=\"noscript-message-browsers__browser\"><div class=\"browser__icon browser__icon_chrome\"></div><div class=\"browser__name\">Chrome</div></a><a rel=\"nofollow\" href=\"https://www.mozilla.org/ru/firefox/new/\" class=\"noscript-message-browsers__browser\"><div class=\"browser__icon browser__icon_forefox\"></div><div class=\"browser__name\">Firefox</div></a><a rel=\"nofollow\" href=\"http://www.opera.com/ru\" class=\"noscript-message-browsers__browser\"><div class=\"browser__icon browser__icon_opera\"></div><div class=\"browser__name\">Opera</div></a></div></div><script src=\"/static/js/3d/b28fc0/noScriptWarning.js\"></script><div class=\"body-branding\"><div style=\"display: none\" class=\"ifFromClon\"><a class=\"ifFromClon__button\" rel=\"sidebar\" title=\"Zaycev.net\" href=\"http://zaycev.net\">\n",
      "\t\t\tДобавьте Zaycev.net в закладки\n",
      "\t\t</a><div class=\"ifFromClon__close\"></div></div><div class=\"rot-beforeHeader boxa\"><script src=\"//rttr2.zaycev.net/single?t=beforeHeader&amp;artistId=89438\"></script></div><div class=\"page-head-bg\"><div id=\"page-head\"><div class=\"page-head-wide\"><div class=\"box clearfix page-head page-head-anonymous\"><div class=\"page-head-w\"><div class=\"head-col-l\"><div data-height=\"66\" data-width=\"248\" class=\"site-logo\" id=\"zina-site-logo\"><a id=\"zina-site-logo-placeholder\" class=\"site-logo__link\" href=\"/\"><img height=\"66\" width=\"248\" class=\"site-logo__poster\" title=\"ZAYCEV.NET\" alt=\"ZAYCEV.NET\" src=\"/static/images/3d/b28fc0/logo/logo-light.png\"/></a></div> </div><div class=\"head-col-c\"><div class=\"head-col-w\"><div class=\"search-form-wrapper\">\n",
      "\t\t\t<div id=\"search-form-box\" class=\"search-form-box\"> <form class=\"search\" id=\"topsearchwithmailru\" action=\"http://go.mail.ru/zaycev\" target=\"_blank\" method=\"get\"> <button class=\"submit\" type=\"submit\" disabled=\"disabled\">Найти</button> <div class=\"input-field\"> <label class=\"\" for=\"head-search-form-field\">Трек или исполнитель</label> <input autocomplete=\"off\" value=\"\" id=\"head-search-form-field\" name=\"q\" type=\"text\" class=\"search-suggester-field\"> </div> </form> </div> <script src=\"//cdndl.zaycev.net/static/2317/searchonhead110117.js\"></script> <style>#page-head .head-search-on-mailru {display:block !important;}</style>\n",
      "\t\t</div></div></div><div class=\"head-col-r\"><div class=\"user-head-wrap\"><a class=\"user-head-wrap__link\" href=\"/registration/index.php\">Регистрация</a><a class=\"user-head-wrap__link user-head-wrap__link_login\" href=\"/auth/login.php\">Вход</a></div><div style=\"display: none\" class=\"login-toolbar\"><i class=\"login-toolbar__triange\"></i><div class=\"login-toolbar__wrapper login-toolbar__wrapper_wide\"><form class=\"authentication__form authentication__new-form clearfix\" method=\"post\" action=\"/auth/signin.php\"><div class=\"row authentication__field authentication__social clearfix\"><label>Через соцсети</label><div class=\"row-w\"><span class=\"login-social-icon login-social-icon-vk\" data-href=\"https://oauth.vk.com/authorize?client_id=2781240&amp;redirect_uri=%2fvkontakte%2fcallback&amp;scope=audio&amp;display=popup\">Вконтакте</span><span class=\"login-social-icon login-social-icon-ok\" data-href=\"http://www.odnoklassniki.ru/oauth/authorize?client_id=34244096&amp;redirect_uri=%2fodnoklassniki%2fcallback&amp;response_type=code&amp;scope=0&amp;display=popup\">Одноклассники</span><span class=\"login-social-icon login-social-icon-gp\" data-href=\"https://accounts.google.com/o/oauth2/auth?client_id=57584664307.apps.googleusercontent.com&amp;redirect_uri=%2fgoogleplus%2fcallback&amp;response_type=code&amp;scope=https%3a%2f%2fwww.googleapis.com%2fauth%2fuserinfo.profile+https%3a%2f%2fwww.googleapis.com%2fauth%2fuserinfo.email&amp;display=popup&amp;hl=ru\">Google+</span></div></div><div class=\"row row_registration authentication__field authentication_login clearfix\"><div class=\"row-w\"><label for=\"j_username_\">Электронная почта или логин</label><input class=\"text\" type=\"text\" name=\"j_username\" id=\"j_username_\"/></div></div><div class=\"row row_registration authentication__field authentication_password clearfix\"><div class=\"row-w\"><label for=\"j_password_\">Пароль</label><input class=\"text\" type=\"password\" name=\"j_password\" id=\"j_password_\"/></div><div class=\"reset-password__login\"><a href=\"/resetPassword/index.php\">Напомнить пароль</a></div></div><div class=\"authentication__submit registration__button clearfix\"><button class=\"submit\" type=\"submit\">Войти</button></div></form></div></div></div></div></div></div></div></div><div class=\"body-gaps\"><div class=\"clearfix grid-left-248\" id=\"page-body\"><div class=\"unit-sidebar sidebar sidebar_position_left\"><div class=\"region_name_leftmenutop\"><div id=\"zina-region-leftmenutop\"><ul><!--/noindex--><li><a href=\"/search.html\">Поиск</a></li> <li><a href=\"/new/index.html\">Новинки</a></li> <li><a href=\"/artist/index.html\">Исполнители</a></li><li><a href=\"/genres/index.html\">Жанры</a></li><li><a href=\"/musicset/index.html\">Сборники</a></li><li><a href=\"http://www.zaycev.fm/\" target=\"_blank\">Радио</a></li><li><a href=\"http://forum.zaycev.net/\" target=\"_blank\">Форум</a></li><!--noindex--><li><a href=\"/m3_moder/upload.php\"><b>Добавить трек</b></a></li><li><a href=\"http://r.interakt.ru/?extra=zaycevnet_web\" target=\"_blank\">Хиты вместо гудков</a></li><li><a href=\"https://play.google.com/store/apps/details?id=free.zaycev.net&referrer=utm_source%3DSite%26utm_medium%3Dsite\" target=\"_blank\" rel=\"nofollow\">Мобильное приложение</a>\n",
      "<script>\n",
      "$(function(){\n",
      "if($(\"meta[name=zina-geoban-countries]\").attr(\"content\") == \"ru:mow\" || $(\"meta[name=zina-geoban-countries]\").attr(\"content\") == \"ru:mos\") {\n",
      "$(\"a[href='https://play.google.com/store/apps/details?id=free.zaycev.net&referrer=utm_source%3DSite%26utm_medium%3Dsite']\").each(function(i, ele){\n",
      "$(ele).attr(\"href\", \"https://play.google.com/store/apps/details?id=free.zaycev.net&referrer=utm_source%3DSite%26utm_medium%3Dsite']\");\n",
      "})\n",
      "}\n",
      "});\n",
      "</script></li><li><a href=\"http://www.litres.ru/audioknigi/?lfrom=176003558\" target=\"_blank\" rel=\"nofollow\">Аудиокниги</a></li><!--/noindex--></ul></div></div><script src=\"//rttr2.zaycev.net/single?t=leftBeforeShare-above&amp;artistId=89438\"></script><div class=\"block sidebar-share\"><!--noindex--><div class=\"sidebar-share__title\">Расскажи о Zaycev.net</div><div class=\"sidebar-share__likes social-likes social-likes_vertical\" data-url=\"http://zaycev.net\" data-title=\"Зайцев.нет! Скачать музыку бесплатно в формате MP3 – Скачать песни бесплатно онлайн – Слушать музыку без регистрации\" data-zeroes=\"yes\"><div class=\"vkontakte\" title=\"Поделиться ссылкой во Вконтакте\">Вконтакте</div><div class=\"odnoklassniki\" title=\"Поделиться ссылкой в Одноклассниках\">Одноклассники</div><div class=\"mailru\" title=\"Поделиться ссылкой в Моём мире\">Мой мир</div></div><!--/noindex--></div><div class=\"region_name_leftmenubottomvkwidget\"><script src=\"//userapi.com/js/api/openapi.js?137\" async=\"\"></script><div><div id=\"vk_group\"></div></div><script src=\"//cdndl.zaycev.net/static/2139/vkwidget.js\"></script><iframe src=\"https://www.facebook.com/plugins/page.php?href=https%3A%2F%2Fwww.facebook.com%2FZaycevnet-292639761070910%2F&tabs&width=216&height=154&small_header=true&adapt_container_width=true&hide_cover=false&show_facepile=true&appId\" width=\"216\" height=\"154\" style=\"border:none;overflow:hidden;margin-top:-15px;margin-top:25px;\" scrolling=\"no\" frameborder=\"0\" allowTransparency=\"true\"></iframe></div><script src=\"//rttr2.zaycev.net/single?t=leftBeforeShare&amp;artistId=89438\"></script></div><div class=\"unit-main\"><div class=\"unit-w\"><div class=\"rot-middlePageContentBefore1\"><script src=\"//rttr2.zaycev.net/single?t=middlePageContentBefore1&amp;artistId=89438\"></script></div><div id=\"fb-root\"></div><div class=\"clearfix\"><div class=\"unit-content\"><div itemtype=\"http://schema.org/MusicGroup\" itemscope=\"itemscope\" class=\"unit-w unit-w100\"><div data-next-page=\"-new-2.html?\" data-artist-id=\"89438\" data-pages=\"16\" data-page=\"1\" class=\"block artist-page clearfix\" id=\"artist-info\"><meta content=\"Scooter\" itemprop=\"name\"/><link href=\"http://zaycev.net/artist/89438\" itemprop=\"url\"/><!--noindex--><div class=\"breadcrumbs\"><span itemscope=\"itemscope\" itemtype=\"http://data-vocabulary.org/Breadcrumb\"><a class=\"breadcrumbs__item\" itemprop=\"url\" href=\"http://zaycev.net\"><span itemprop=\"title\">Главная</span></a><span class=\"breadcrumbs__dlm\">&#8250;</span><span itemprop=\"child\" itemscope=\"itemscope\" itemtype=\"http://data-vocabulary.org/Breadcrumb\"><a class=\"breadcrumbs__item\" itemprop=\"url\" href=\"http://zaycev.net/artist/index.html\"><span itemprop=\"title\">Исполнители</span></a><span class=\"breadcrumbs__dlm\">&#8250;</span><span itemprop=\"child\" itemscope=\"itemscope\" itemtype=\"http://data-vocabulary.org/Breadcrumb\"><span class=\"breadcrumbs__item\" itemprop=\"title\">Scooter<meta content=\"http://zaycev.net/artist/89438\" itemprop=\"url\"/></span></span></span></span></div><!--/noindex-->\n",
      "                            <div class=\"block__image\"><img itemprop=\"logo\" title=\"Scooter\" alt=\"Scooter\" height=\"420\" width=\"917\" src=\"http://cdndl.zaycev.net/commonImage/89438_top917.jpg\"/></div>\n",
      "                        <div class=\"clearfix wysiwyg-content\"><h1 class=\"artist-page__title\"><span class=\"artist-page__name\">Scooter</span></h1><div class=\"artist-page__note\">На музыкальном портале Зайцев.нет Вы можете бесплатно скачать и слушать онлайн песни Scooter в формате mp3. Лучшая музыкальная подборка и альбомы исполнителя Scooter.</div><div class=\"artist-page__buttons clearfix\"><div class=\"artist-page__subscribe\"><a data-count=\"true\" data-artist=\"89438\" class=\"favorite-artist-subscribe-action\" href=\"/favorite/artist/subscribe.php?artistId=89438\">Стать фанатом и следить за свежими mp3  >>></a></div><div class=\"audiotrack-button audiotrack-button_share share-button\"><button class=\"audiotrack-button__label audiotrack-button__label_share share-button__label audiotrack-button__label_artist-page\"><i class=\"audiotrack-icon audiotrack-icon_share\"></i><span class=\"share-button__text\">Поделиться</span></button><div class=\"share-button__tooltip\"><i class=\"audiotrack-icon audiotrack-icon_dropdown\"></i><div class=\"tooltip__box\"><div class=\"share-button__likes social-likes_vertical\" data-zeroes=\"yes\"><div class=\"vkontakte\" title=\"Поделиться ссылкой во Вконтакте\">Вконтакте</div><div class=\"mailru\" title=\"Поделиться ссылкой в Моём мире\">Мой мир</div><div class=\"odnoklassniki\" title=\"Поделиться ссылкой в Одноклассниках\">Одноклассники</div><div class=\"plusone\" title=\"Поделиться ссылкой в Гугл-плюсе\">Google+</div></div></div></div></div></div></div><div class=\"artist__descrtiption wysiwyg-content\"><div class=\"artist-description__text artist-description__text_one artist-description__text_short\"><p>Scooter – один из самых известных коллективов Германии, популярность которого уже давно вышла далеко за пределы родной страны. Продажи их релизов исчисляются десятками миллионов, и уже трудно сосчитать, сколько раз альбомы Scooter признавали золотыми и платиновыми. Феномен бешеной популярности группы обусловлен англоязычными текстами, что для немецких коллективов не слишком характерно.</p>\n",
      "<p>Необычен и музыкальный стиль – в своем творчестве Scooter смешивают транс, хаус, техно, хэппи-хардкор и другие электронные жанры.</p>\n",
      "<p>Ганс, больше известный как Эйч Пи, Бакстер основал группу в 1993 году вместе с командой единомышленников. Уже тогда Бакстер охотно демонстрировал свою сумасшедшую харизму на выступлениях в германских клубах в качестве диджея: благодаря его крикам &laquo;Hyper! Hyper!&raquo; родилось название для первого сингла Scooter. Дебютный альбом &laquo;…and the Beat Goes On!&raquo; вышел двумя годами позже, продался огромным тиражом и заполучил статус золотого.</p>\n",
      "<div class=\"artist-description__player\" id=\"about-track-100034571\"><div class=\"musicset-track-list \"><div class=\"musicset-track-list__items\">\n",
      "<div data-rbt-content-id=\"\" data-dkey=\"/1000345/100034571.mp3\" data-duration=\"209\" data-url=\"/musicset/play/b13acb80b7fadb6e13a20607345b4476/100034571.json\" data-id=\"100034571\" class=\"musicset-track clearfix\"><div class=\"musicset-track__title track-geo__title\"><div class=\"musicset-track__control musicset__button track-geo__control\"><i class=\"musicset-player__icon\" title=\"Прослушать Scooter &ndash; Hyper Hyper\"></i></div><div class=\"musicset-track__artist\"><a target=\"_blank\" class=\"musicset-track__link\" href=\"/artist/89438\">Scooter</a></div><div class=\"musicset-track__track-dash\"> – </div><div class=\"musicset-track__track-name\"><a href=\"/pages/1000345/100034571.shtml\" class='musicset-track__link' target=\"_blank\" >Hyper Hyper</a></div></div><div class=\"musicset-track__duration\">03:29</div><div class=\"musicset-track__download track-geo\"><a href=\"/pages/1000345/100034571.shtml\" class='musicset-track__download-link track-geo__control'                  title='Скачать песню' target=\"_blank\" ><span class=\"musicset__button musicset__button_download\"><i class=\"musicset-icon musicset-icon_download\"></i></span></a></div></div></div></div></div>\n",
      "<p>Судьба группы была предопределена: один за другим они выпускают успешные альбомы &laquo;Our Happy Hardcore&raquo;, &laquo;Wicked&raquo; и &laquo;Age of Love&raquo;, а трек с последнего был использован в качестве заглавной темы к фильму &laquo;Терминатор&raquo;. Начав 1998 год в новом составе, музыканты постепенно уходят от хэппи-хардкора, отдавая предпочтение другим направлениям. Тогда же выходит самый известный альбом – &laquo;No Time to Chill&raquo; с хитами <a href=\"http://zaycev.net/pages/76/7630.shtml\">&laquo;Fire&raquo;</a>, <a href=\"http://zaycev.net/pages/22902/2290231.shtml\">&laquo;How Much is the Fish&raquo;</a> и <a href=\"http://zaycev.net/pages/11894/1189428.shtml\">&laquo;I’m Raving&raquo;</a>. Европа покорена, что подтвердил масштабный тур в поддержку альбома. В июне 2001 года Scooter представили общественности альбом &laquo;We Bring the Noise&raquo;, во многом отдававший дань раннему периоду творчества группы.</p>\n",
      "<div class=\"artist-description__player\" id=\"about-track-2290231\"><div class=\"musicset-track-list \"><div class=\"musicset-track-list__items\">\n",
      "<div data-rbt-content-id=\"\" data-dkey=\"/22902/2290231.mp3\" data-duration=\"228\" data-url=\"/musicset/play/0753bd6c58e23b39c8221eea5ba71a43/2290231.json\" data-id=\"2290231\" class=\"musicset-track clearfix\"><div class=\"musicset-track__title track-geo__title\"><div class=\"musicset-track__control musicset__button track-geo__control\"><i class=\"musicset-player__icon\" title=\"Прослушать Scooter &ndash; How Much Is the Fish\"></i></div><div class=\"musicset-track__artist\"><a target=\"_blank\" class=\"musicset-track__link\" href=\"/artist/89438\">Scooter</a></div><div class=\"musicset-track__track-dash\"> – </div><div class=\"musicset-track__track-name\"><a href=\"/pages/22902/2290231.shtml\" class='musicset-track__link' target=\"_blank\" >How Much Is the Fish</a></div></div><div class=\"musicset-track__duration\">03:48</div><div class=\"musicset-track__download track-geo\"><a href=\"/pages/22902/2290231.shtml\" class='musicset-track__download-link track-geo__control'                  title='Скачать песню' target=\"_blank\" ><span class=\"musicset__button musicset__button_download\"><i class=\"musicset-icon musicset-icon_download\"></i></span></a></div></div></div></div></div>\n",
      "<p>Начало нового века Scooter встретили на волнах успеха: что ни релиз – то &laquo;золотой&raquo; или &laquo;платиновый&raquo;, стадионные концерты и участие в отборочном туре &laquo;Евровидения-2004&raquo;. Год спустя музыканты впервые выступили в США. Жирной точкой в этом этапе развития Scooter стал выпуск DVD &laquo;Excess All Areas&raquo; с концертом в Гамбурге и полной видеографией.</p>\n",
      "<p>Путь на вершину музыкального Олимпа можно было официально считать оконченным, когда альбом &laquo;Jumping All Over the World&raquo; 2008 года влегкую обогнал новый релиз самой Мадонны. Дальнейшие работы коллектива претерпевали незначительные изменения в стилистическом плане, но все равно оставались по вкусу слушателям и критикам – так было с синглом &laquo;Friends Turbo&raquo;, записанным для нидерландского фильма New Kids Turbo.</p>\n",
      "<div class=\"artist-description__player\" id=\"about-track-969147\"><div class=\"musicset-track-list \"><div class=\"musicset-track-list__items\">\n",
      "<div data-rbt-content-id=\"\" data-dkey=\"/9691/969147.mp3\" data-duration=\"199\" data-url=\"/musicset/play/e16d34ce9819116b1ae7749f31369e6a/969147.json\" data-id=\"969147\" class=\"musicset-track clearfix\"><div class=\"musicset-track__title track-geo__title\"><div class=\"musicset-track__control musicset__button track-geo__control\"><i class=\"musicset-player__icon\" title=\"Прослушать Scooter &ndash; Friends Turbo\"></i></div><div class=\"musicset-track__artist\"><a target=\"_blank\" class=\"musicset-track__link\" href=\"/artist/89438\">Scooter</a></div><div class=\"musicset-track__track-dash\"> – </div><div class=\"musicset-track__track-name\"><a href=\"/pages/9691/969147.shtml\" class='musicset-track__link' target=\"_blank\" >Friends Turbo</a></div></div><div class=\"musicset-track__duration\">03:19</div><div class=\"musicset-track__download track-geo\"><a href=\"/pages/9691/969147.shtml\" class='musicset-track__download-link track-geo__control'                  title='Скачать песню' target=\"_blank\" ><span class=\"musicset__button musicset__button_download\"><i class=\"musicset-icon musicset-icon_download\"></i></span></a></div></div></div></div></div>\n",
      "<p>После масштабнейшего тура &laquo;20 Years of Hardcore&raquo; Scooter лишились одного из основателей – Рика Джордана, но продолжили движение – к концу 2015 года поклонники ожидают новый альбом коллектива.</p></div><div class=\"artist-description__switcher artist-description__switcher_one\"><span style=\"display: none\" class=\"artist-description__switch\">Свернуть</span><span style=\"display: inline\" class=\"artist-description__switch\">Читать далее</span></div></div><div class=\"artist__tracks\"><ul class=\"artist-tracks__filter unstyled-list clearfix\"><li class=\"artist-tracks__filter-el\"><a href=\"89438\">\n",
      "                                                                по популярности</a></li><li class=\"artist-tracks__filter-el artist-tracks__filter-el_current\">\n",
      "                                                            по новизне</li><li class=\"artist-tracks__filter-el\"><a href=\"89438-alphabet.html\">\n",
      "                                                                по алфавиту</a></li></ul><div class=\"musicset-track-list musicset-autoplayed\"><div style=\"display: none;\" class=\"musicset-track-list__error not-available not-available_flash\"><span class=\"not-available__label not-available__label_flash\"><!--noindex-->Установите <a href=\"http://get.adobe.com/ru/flashplayer/\" target=\"_blank\">Flash Player</a> для прослушивания<!--/noindex--></span></div><div class=\"musicset-track-list__items\">\n",
      "<div data-rbt-content-id=\"\" data-dkey=\"/45812/4581253.mp3\" data-duration=\"218\" data-url=\"/musicset/play/c9ee17baca92a0fe277c401956d0c4e3/4581253.json\" data-id=\"4581253\" class=\"musicset-track clearfix\"><div class=\"musicset-track__title track-geo__title\"><div class=\"musicset-track__control musicset__button track-geo__control\"><i class=\"musicset-player__icon\" title=\"Прослушать Scooter &ndash; Bora! Bora! Bora! (Hardstyle mix)\"></i></div><div class=\"musicset-track__artist\"><a target=\"_blank\" class=\"musicset-track__link\" href=\"/artist/89438\">Scooter</a></div><div class=\"musicset-track__track-dash\"> – </div><div class=\"musicset-track__track-name\"><a href=\"/pages/45812/4581253.shtml\" class='musicset-track__link' target=\"_blank\" >Bora! Bora! Bora! (Hardstyle mix)</a></div></div><div class=\"musicset-track__duration\">03:38</div><div class=\"musicset-track__download track-geo\"><a href=\"/pages/45812/4581253.shtml\" class='musicset-track__download-link track-geo__control'                  title='Скачать песню' target=\"_blank\" ><span class=\"musicset__button musicset__button_download\"><i class=\"musicset-icon musicset-icon_download\"></i></span></a></div></div>\n",
      "<div data-rbt-content-id=\"\" data-dkey=\"/45762/4576221.mp3\" data-duration=\"192\" data-url=\"/musicset/play/4da125d9ad56dfeea104fd63bceb3d1d/4576221.json\" data-id=\"4576221\" class=\"musicset-track clearfix\"><div class=\"musicset-track__title track-geo__title\"><div class=\"musicset-track__control musicset__button track-geo__control\"><i class=\"musicset-player__icon\" title=\"Прослушать Scooter &ndash; Bora! Bora! Bora!\"></i></div><div class=\"musicset-track__artist\"><a target=\"_blank\" class=\"musicset-track__link\" href=\"/artist/89438\">Scooter</a></div><div class=\"musicset-track__track-dash\"> – </div><div class=\"musicset-track__track-name\"><a href=\"/pages/45762/4576221.shtml\" class='musicset-track__link' target=\"_blank\" >Bora! Bora! Bora!</a></div></div><div class=\"musicset-track__duration\">03:12</div><div class=\"musicset-track__download track-geo\"><a href=\"/pages/45762/4576221.shtml\" class='musicset-track__download-link track-geo__control'                  title='Скачать песню' target=\"_blank\" ><span class=\"musicset__button musicset__button_download\"><i class=\"musicset-icon musicset-icon_download\"></i></span></a></div></div>\n",
      "<div data-rbt-content-id=\"\" data-dkey=\"/45762/4576220.mp3\" data-duration=\"240\" data-url=\"/musicset/play/ef5b7061548e14c462d4f19a7e9fa3ba/4576220.json\" data-id=\"4576220\" class=\"musicset-track clearfix\"><div class=\"musicset-track__title track-geo__title\"><div class=\"musicset-track__control musicset__button track-geo__control\"><i class=\"musicset-player__icon\" title=\"Прослушать Scooter &ndash; Bora! Bora! Bora! (Extended Mix)\"></i></div><div class=\"musicset-track__artist\"><a target=\"_blank\" class=\"musicset-track__link\" href=\"/artist/89438\">Scooter</a></div><div class=\"musicset-track__track-dash\"> – </div><div class=\"musicset-track__track-name\"><a href=\"/pages/45762/4576220.shtml\" class='musicset-track__link' target=\"_blank\" >Bora! Bora! Bora! (Extended Mix)</a></div></div><div class=\"musicset-track__duration\">04:00</div><div class=\"musicset-track__download track-geo\"><a href=\"/pages/45762/4576220.shtml\" class='musicset-track__download-link track-geo__control'                  title='Скачать песню' target=\"_blank\" ><span class=\"musicset__button musicset__button_download\"><i class=\"musicset-icon musicset-icon_download\"></i></span></a></div></div>\n",
      "<div data-rbt-content-id=\"\" data-dkey=\"/45557/4555748.mp3\" data-duration=\"1213\" data-url=\"/musicset/play/4e2b62b2cfca5a372b68949c9ffa46b8/4555748.json\" data-id=\"4555748\" class=\"musicset-track clearfix\"><div class=\"musicset-track__title track-geo__title\"><div class=\"musicset-track__control musicset__button track-geo__control\"><i class=\"musicset-player__icon\" title=\"Прослушать Scooter &ndash; Megamix (DG Version)\"></i></div><div class=\"musicset-track__artist\"><a target=\"_blank\" class=\"musicset-track__link\" href=\"/artist/89438\">Scooter</a></div><div class=\"musicset-track__track-dash\"> – </div><div class=\"musicset-track__track-name\"><a href=\"/pages/45557/4555748.shtml\" class='musicset-track__link' target=\"_blank\" >Megamix (DG Version)</a></div></div><div class=\"musicset-track__duration\">20:13</div><div class=\"musicset-track__download track-geo\"><a href=\"/pages/45557/4555748.shtml\" class='musicset-track__download-link track-geo__control'                  title='Скачать песню' target=\"_blank\" ><span class=\"musicset__button musicset__button_download\"><i class=\"musicset-icon musicset-icon_download\"></i></span></a></div></div>\n",
      "<div data-rbt-content-id=\"\" data-dkey=\"/43990/4399043.mp3\" data-duration=\"255\" data-url=\"/musicset/play/7c3aa66b09a84c169dba34cbebb9f39c/4399043.json\" data-id=\"4399043\" class=\"musicset-track clearfix\"><div class=\"musicset-track__title track-geo__title\"><div class=\"musicset-track__control musicset__button track-geo__control\"><i class=\"musicset-player__icon\" title=\"Прослушать Scooter &ndash; See your smile\"></i></div><div class=\"musicset-track__artist\"><a target=\"_blank\" class=\"musicset-track__link\" href=\"/artist/89438\">Scooter</a></div><div class=\"musicset-track__track-dash\"> – </div><div class=\"musicset-track__track-name\"><a href=\"/pages/43990/4399043.shtml\" class='musicset-track__link' target=\"_blank\" >See your smile</a></div></div><div class=\"musicset-track__duration\">04:15</div><div class=\"musicset-track__download track-geo\"><a href=\"/pages/43990/4399043.shtml\" class='musicset-track__download-link track-geo__control'                  title='Скачать песню' target=\"_blank\" ><span class=\"musicset__button musicset__button_download\"><i class=\"musicset-icon musicset-icon_download\"></i></span></a></div></div>\n",
      "<div data-rbt-content-id=\"\" data-dkey=\"/43807/4380714.mp3\" data-duration=\"227\" data-url=\"/musicset/play/86981125cdd3e80b420bc36adef11190/4380714.json\" data-id=\"4380714\" class=\"musicset-track clearfix\"><div class=\"musicset-track__title track-geo__title\"><div class=\"musicset-track__control musicset__button track-geo__control\"><i class=\"musicset-player__icon\" title=\"Прослушать Scooter &ndash; Jumping All Over The World (Radio Edit)\"></i></div><div class=\"musicset-track__artist\"><a target=\"_blank\" class=\"musicset-track__link\" href=\"/artist/89438\">Scooter</a></div><div class=\"musicset-track__track-dash\"> – </div><div class=\"musicset-track__track-name\"><a href=\"/pages/43807/4380714.shtml\" class='musicset-track__link' target=\"_blank\" >Jumping All Over The World (Radio Edit)</a></div></div><div class=\"musicset-track__duration\">03:47</div><div class=\"musicset-track__download track-geo\"><a href=\"/pages/43807/4380714.shtml\" class='musicset-track__download-link track-geo__control'                  title='Скачать песню' target=\"_blank\" ><span class=\"musicset__button musicset__button_download\"><i class=\"musicset-icon musicset-icon_download\"></i></span></a></div></div>\n",
      "<div data-rbt-content-id=\"\" data-dkey=\"/43807/4380712.mp3\" data-duration=\"345\" data-url=\"/musicset/play/1437c54648ae356b7ed404325071847b/4380712.json\" data-id=\"4380712\" class=\"musicset-track clearfix\"><div class=\"musicset-track__title track-geo__title\"><div class=\"musicset-track__control musicset__button track-geo__control\"><i class=\"musicset-player__icon\" title=\"Прослушать Scooter &ndash; Jumping All Over The World (Extended Mix)\"></i></div><div class=\"musicset-track__artist\"><a target=\"_blank\" class=\"musicset-track__link\" href=\"/artist/89438\">Scooter</a></div><div class=\"musicset-track__track-dash\"> – </div><div class=\"musicset-track__track-name\"><a href=\"/pages/43807/4380712.shtml\" class='musicset-track__link' target=\"_blank\" >Jumping All Over The World (Extended Mix)</a></div></div><div class=\"musicset-track__duration\">05:45</div><div class=\"musicset-track__download track-geo\"><a href=\"/pages/43807/4380712.shtml\" class='musicset-track__download-link track-geo__control'                  title='Скачать песню' target=\"_blank\" ><span class=\"musicset__button musicset__button_download\"><i class=\"musicset-icon musicset-icon_download\"></i></span></a></div></div>\n",
      "<div data-rbt-content-id=\"\" data-dkey=\"/43751/4375199.mp3\" data-duration=\"208\" data-url=\"/musicset/play/923df645223e4d4261ba13767793da52/4375199.json\" data-id=\"4375199\" class=\"musicset-track clearfix\"><div class=\"musicset-track__title track-geo__title\"><div class=\"musicset-track__control musicset__button track-geo__control\"><i class=\"musicset-player__icon\" title=\"Прослушать Scooter &ndash; Mary Got No Lamb (DJ Jey Remix)\"></i></div><div class=\"musicset-track__artist\"><a target=\"_blank\" class=\"musicset-track__link\" href=\"/artist/89438\">Scooter</a></div><div class=\"musicset-track__track-dash\"> – </div><div class=\"musicset-track__track-name\"><a href=\"/pages/43751/4375199.shtml\" class='musicset-track__link' target=\"_blank\" >Mary Got No Lamb (DJ Jey Remix)</a></div></div><div class=\"musicset-track__duration\">03:28</div><div class=\"musicset-track__download track-geo\"><a href=\"/pages/43751/4375199.shtml\" class='musicset-track__download-link track-geo__control'                  title='Скачать песню' target=\"_blank\" ><span class=\"musicset__button musicset__button_download\"><i class=\"musicset-icon musicset-icon_download\"></i></span></a></div></div>\n",
      "<div data-rbt-content-id=\"\" data-dkey=\"/43281/4328151.mp3\" data-duration=\"241\" data-url=\"/musicset/play/98429fb2f86abb73843cc838917d53eb/4328151.json\" data-id=\"4328151\" class=\"musicset-track clearfix\"><div class=\"musicset-track__title track-geo__title\"><div class=\"musicset-track__control musicset__button track-geo__control\"><i class=\"musicset-player__icon\" title=\"Прослушать Scooter &ndash; Fire (feat. B-Boy NRJ Remix) Part 2\"></i></div><div class=\"musicset-track__artist\"><a target=\"_blank\" class=\"musicset-track__link\" href=\"/artist/89438\">Scooter</a></div><div class=\"musicset-track__track-dash\"> – </div><div class=\"musicset-track__track-name\"><a href=\"/pages/43281/4328151.shtml\" class='musicset-track__link' target=\"_blank\" >Fire (feat. B-Boy NRJ Remix) Part 2</a></div></div><div class=\"musicset-track__duration\">04:01</div><div class=\"musicset-track__download track-geo\"><a href=\"/pages/43281/4328151.shtml\" class='musicset-track__download-link track-geo__control'                  title='Скачать песню' target=\"_blank\" ><span class=\"musicset__button musicset__button_download\"><i class=\"musicset-icon musicset-icon_download\"></i></span></a></div></div>\n",
      "<div data-rbt-content-id=\"\" data-dkey=\"/43221/4322143.mp3\" data-duration=\"214\" data-url=\"/musicset/play/c22bb242f2d393024b79c195923abf4b/4322143.json\" data-id=\"4322143\" class=\"musicset-track clearfix\"><div class=\"musicset-track__title track-geo__title\"><div class=\"musicset-track__control musicset__button track-geo__control\"><i class=\"musicset-player__icon\" title=\"Прослушать Scooter &ndash; The Only One\"></i></div><div class=\"musicset-track__artist\"><a target=\"_blank\" class=\"musicset-track__link\" href=\"/artist/89438\">Scooter</a></div><div class=\"musicset-track__track-dash\"> – </div><div class=\"musicset-track__track-name\"><a href=\"/pages/43221/4322143.shtml\" class='musicset-track__link' target=\"_blank\" >The Only One</a></div></div><div class=\"musicset-track__duration\">03:34</div><div class=\"musicset-track__download track-geo\"><a href=\"/pages/43221/4322143.shtml\" class='musicset-track__download-link track-geo__control'                  title='Скачать песню' target=\"_blank\" ><span class=\"musicset__button musicset__button_download\"><i class=\"musicset-icon musicset-icon_download\"></i></span></a></div></div>\n",
      "<div data-rbt-content-id=\"\" data-dkey=\"/43221/4322139.mp3\" data-duration=\"246\" data-url=\"/musicset/play/8905f3d7ca4ccbaa0a60a93c75c1349f/4322139.json\" data-id=\"4322139\" class=\"musicset-track clearfix\"><div class=\"musicset-track__title track-geo__title\"><div class=\"musicset-track__control musicset__button track-geo__control\"><i class=\"musicset-player__icon\" title=\"Прослушать Scooter &ndash; Fuck the millenium\"></i></div><div class=\"musicset-track__artist\"><a target=\"_blank\" class=\"musicset-track__link\" href=\"/artist/89438\">Scooter</a></div><div class=\"musicset-track__track-dash\"> – </div><div class=\"musicset-track__track-name\"><a href=\"/pages/43221/4322139.shtml\" class='musicset-track__link' target=\"_blank\" >Fuck the millenium</a></div></div><div class=\"musicset-track__duration\">04:06</div><div class=\"musicset-track__download track-geo\"><a href=\"/pages/43221/4322139.shtml\" class='musicset-track__download-link track-geo__control'                  title='Скачать песню' target=\"_blank\" ><span class=\"musicset__button musicset__button_download\"><i class=\"musicset-icon musicset-icon_download\"></i></span></a></div></div>\n",
      "<div data-rbt-content-id=\"\" data-dkey=\"/43221/4322138.mp3\" data-duration=\"199\" data-url=\"/musicset/play/6911a9fecadb8820203bbbfb4d4ac4fc/4322138.json\" data-id=\"4322138\" class=\"musicset-track clearfix\"><div class=\"musicset-track__title track-geo__title\"><div class=\"musicset-track__control musicset__button track-geo__control\"><i class=\"musicset-player__icon\" title=\"Прослушать Scooter &ndash; Shake That!\"></i></div><div class=\"musicset-track__artist\"><a target=\"_blank\" class=\"musicset-track__link\" href=\"/artist/89438\">Scooter</a></div><div class=\"musicset-track__track-dash\"> – </div><div class=\"musicset-track__track-name\"><a href=\"/pages/43221/4322138.shtml\" class='musicset-track__link' target=\"_blank\" >Shake That!</a></div></div><div class=\"musicset-track__duration\">03:19</div><div class=\"musicset-track__download track-geo\"><a href=\"/pages/43221/4322138.shtml\" class='musicset-track__download-link track-geo__control'                  title='Скачать песню' target=\"_blank\" ><span class=\"musicset__button musicset__button_download\"><i class=\"musicset-icon musicset-icon_download\"></i></span></a></div></div>\n",
      "<div data-rbt-content-id=\"\" data-dkey=\"/43221/4322137.mp3\" data-duration=\"213\" data-url=\"/musicset/play/728a34528f159ad4cb807f60e3e7c476/4322137.json\" data-id=\"4322137\" class=\"musicset-track clearfix\"><div class=\"musicset-track__title track-geo__title\"><div class=\"musicset-track__control musicset__button track-geo__control\"><i class=\"musicset-player__icon\" title=\"Прослушать Scooter &ndash; Fire original\"></i></div><div class=\"musicset-track__artist\"><a target=\"_blank\" class=\"musicset-track__link\" href=\"/artist/89438\">Scooter</a></div><div class=\"musicset-track__track-dash\"> – </div><div class=\"musicset-track__track-name\"><a href=\"/pages/43221/4322137.shtml\" class='musicset-track__link' target=\"_blank\" >Fire original</a></div></div><div class=\"musicset-track__duration\">03:33</div><div class=\"musicset-track__download track-geo\"><a href=\"/pages/43221/4322137.shtml\" class='musicset-track__download-link track-geo__control'                  title='Скачать песню' target=\"_blank\" ><span class=\"musicset__button musicset__button_download\"><i class=\"musicset-icon musicset-icon_download\"></i></span></a></div></div>\n",
      "<div data-rbt-content-id=\"\" data-dkey=\"/43221/4322135.mp3\" data-duration=\"236\" data-url=\"/musicset/play/a9935cea4b7ba9cfb8dd6d6e13962da5/4322135.json\" data-id=\"4322135\" class=\"musicset-track clearfix\"><div class=\"musicset-track__title track-geo__title\"><div class=\"musicset-track__control musicset__button track-geo__control\"><i class=\"musicset-player__icon\" title=\"Прослушать Scooter &ndash; Ramp\"></i></div><div class=\"musicset-track__artist\"><a target=\"_blank\" class=\"musicset-track__link\" href=\"/artist/89438\">Scooter</a></div><div class=\"musicset-track__track-dash\"> – </div><div class=\"musicset-track__track-name\"><a href=\"/pages/43221/4322135.shtml\" class='musicset-track__link' target=\"_blank\" >Ramp</a></div></div><div class=\"musicset-track__duration\">03:56</div><div class=\"musicset-track__download track-geo\"><a href=\"/pages/43221/4322135.shtml\" class='musicset-track__download-link track-geo__control'                  title='Скачать песню' target=\"_blank\" ><span class=\"musicset__button musicset__button_download\"><i class=\"musicset-icon musicset-icon_download\"></i></span></a></div></div>\n",
      "<div data-rbt-content-id=\"\" data-dkey=\"/43210/4321093.mp3\" data-duration=\"214\" data-url=\"/musicset/play/cdd28b69ccc10be7e9a71f644988eddd/4321093.json\" data-id=\"4321093\" class=\"musicset-track clearfix\"><div class=\"musicset-track__title track-geo__title\"><div class=\"musicset-track__control musicset__button track-geo__control\"><i class=\"musicset-player__icon\" title=\"Прослушать Scooter &ndash; The Only One\"></i></div><div class=\"musicset-track__artist\"><a target=\"_blank\" class=\"musicset-track__link\" href=\"/artist/89438\">Scooter</a></div><div class=\"musicset-track__track-dash\"> – </div><div class=\"musicset-track__track-name\"><a href=\"/pages/43210/4321093.shtml\" class='musicset-track__link' target=\"_blank\" >The Only One</a></div></div><div class=\"musicset-track__duration\">03:34</div><div class=\"musicset-track__download track-geo\"><a href=\"/pages/43210/4321093.shtml\" class='musicset-track__download-link track-geo__control'                  title='Скачать песню' target=\"_blank\" ><span class=\"musicset__button musicset__button_download\"><i class=\"musicset-icon musicset-icon_download\"></i></span></a></div></div>\n",
      "<div data-rbt-content-id=\"\" data-dkey=\"/43210/4321089.mp3\" data-duration=\"213\" data-url=\"/musicset/play/187da4917b49ff8b163a665a431c9a1d/4321089.json\" data-id=\"4321089\" class=\"musicset-track clearfix\"><div class=\"musicset-track__title track-geo__title\"><div class=\"musicset-track__control musicset__button track-geo__control\"><i class=\"musicset-player__icon\" title=\"Прослушать Scooter &ndash; Fire original\"></i></div><div class=\"musicset-track__artist\"><a target=\"_blank\" class=\"musicset-track__link\" href=\"/artist/89438\">Scooter</a></div><div class=\"musicset-track__track-dash\"> – </div><div class=\"musicset-track__track-name\"><a href=\"/pages/43210/4321089.shtml\" class='musicset-track__link' target=\"_blank\" >Fire original</a></div></div><div class=\"musicset-track__duration\">03:33</div><div class=\"musicset-track__download track-geo\"><a href=\"/pages/43210/4321089.shtml\" class='musicset-track__download-link track-geo__control'                  title='Скачать песню' target=\"_blank\" ><span class=\"musicset__button musicset__button_download\"><i class=\"musicset-icon musicset-icon_download\"></i></span></a></div></div>\n",
      "<div data-rbt-content-id=\"\" data-dkey=\"/42432/4243202.mp3\" data-duration=\"236\" data-url=\"/musicset/play/a4f96c071a190061f4dbc9d2336aac98/4243202.json\" data-id=\"4243202\" class=\"musicset-track clearfix\"><div class=\"musicset-track__title track-geo__title\"><div class=\"musicset-track__control musicset__button track-geo__control\"><i class=\"musicset-player__icon\" title=\"Прослушать Scooter &ndash; Call Me Manana\"></i></div><div class=\"musicset-track__artist\"><a target=\"_blank\" class=\"musicset-track__link\" href=\"/artist/89438\">Scooter</a></div><div class=\"musicset-track__track-dash\"> – </div><div class=\"musicset-track__track-name\"><a href=\"/pages/42432/4243202.shtml\" class='musicset-track__link' target=\"_blank\" >Call Me Manana</a></div></div><div class=\"musicset-track__duration\">03:56</div><div class=\"musicset-track__download track-geo\"><a href=\"/pages/42432/4243202.shtml\" class='musicset-track__download-link track-geo__control'                  title='Скачать песню' target=\"_blank\" ><span class=\"musicset__button musicset__button_download\"><i class=\"musicset-icon musicset-icon_download\"></i></span></a></div></div>\n",
      "<div data-rbt-content-id=\"\" data-dkey=\"/41304/4130486.mp3\" data-duration=\"172\" data-url=\"/musicset/play/667b24dd7569c63f0277762e2e2bac4d/4130486.json\" data-id=\"4130486\" class=\"musicset-track clearfix\"><div class=\"musicset-track__title track-geo__title\"><div class=\"musicset-track__control musicset__button track-geo__control\"><i class=\"musicset-player__icon\" title=\"Прослушать Scooter &ndash; Fire\"></i></div><div class=\"musicset-track__artist\"><a target=\"_blank\" class=\"musicset-track__link\" href=\"/artist/89438\">Scooter</a></div><div class=\"musicset-track__track-dash\"> – </div><div class=\"musicset-track__track-name\"><a href=\"/pages/41304/4130486.shtml\" class='musicset-track__link' target=\"_blank\" >Fire</a></div></div><div class=\"musicset-track__duration\">02:52</div><div class=\"musicset-track__download track-geo\"><a href=\"/pages/41304/4130486.shtml\" class='musicset-track__download-link track-geo__control'                  title='Скачать песню' target=\"_blank\" ><span class=\"musicset__button musicset__button_download\"><i class=\"musicset-icon musicset-icon_download\"></i></span></a></div></div>\n",
      "<div data-rbt-content-id=\"\" data-dkey=\"/41025/4102562.mp3\" data-duration=\"198\" data-url=\"/musicset/play/c6f524bd5ceb189cc5de724bfe6afdd1/4102562.json\" data-id=\"4102562\" class=\"musicset-track clearfix\"><div class=\"musicset-track__title track-geo__title\"><div class=\"musicset-track__control musicset__button track-geo__control\"><i class=\"musicset-player__icon\" title=\"Прослушать Scooter &ndash; 4.A.M.\"></i></div><div class=\"musicset-track__artist\"><a target=\"_blank\" class=\"musicset-track__link\" href=\"/artist/89438\">Scooter</a></div><div class=\"musicset-track__track-dash\"> – </div><div class=\"musicset-track__track-name\"><a href=\"/pages/41025/4102562.shtml\" class='musicset-track__link' target=\"_blank\" >4.A.M.</a></div></div><div class=\"musicset-track__duration\">03:18</div><div class=\"musicset-track__download track-geo\"><a href=\"/pages/41025/4102562.shtml\" class='musicset-track__download-link track-geo__control'                  title='Скачать песню' target=\"_blank\" ><span class=\"musicset__button musicset__button_download\"><i class=\"musicset-icon musicset-icon_download\"></i></span></a></div></div>\n",
      "<div data-rbt-content-id=\"\" data-dkey=\"/41025/4102557.mp3\" data-duration=\"223\" data-url=\"/musicset/play/cf8778a9f55af2d97e58c91893031dbd/4102557.json\" data-id=\"4102557\" class=\"musicset-track clearfix\"><div class=\"musicset-track__title track-geo__title\"><div class=\"musicset-track__control musicset__button track-geo__control\"><i class=\"musicset-player__icon\" title=\"Прослушать Scooter &ndash; How much is the fish\"></i></div><div class=\"musicset-track__artist\"><a target=\"_blank\" class=\"musicset-track__link\" href=\"/artist/89438\">Scooter</a></div><div class=\"musicset-track__track-dash\"> – </div><div class=\"musicset-track__track-name\"><a href=\"/pages/41025/4102557.shtml\" class='musicset-track__link' target=\"_blank\" >How much is the fish</a></div></div><div class=\"musicset-track__duration\">03:43</div><div class=\"musicset-track__download track-geo\"><a href=\"/pages/41025/4102557.shtml\" class='musicset-track__download-link track-geo__control'                  title='Скачать песню' target=\"_blank\" ><span class=\"musicset__button musicset__button_download\"><i class=\"musicset-icon musicset-icon_download\"></i></span></a></div></div>\n",
      "<div data-rbt-content-id=\"\" data-dkey=\"/40907/4090706.mp3\" data-duration=\"197\" data-url=\"/musicset/play/e61adef6136d706dc29551083b895a41/4090706.json\" data-id=\"4090706\" class=\"musicset-track clearfix\"><div class=\"musicset-track__title track-geo__title\"><div class=\"musicset-track__control musicset__button track-geo__control\"><i class=\"musicset-player__icon\" title=\"Прослушать Scooter &ndash; 4 A.M. (Original)\"></i></div><div class=\"musicset-track__artist\"><a target=\"_blank\" class=\"musicset-track__link\" href=\"/artist/89438\">Scooter</a></div><div class=\"musicset-track__track-dash\"> – </div><div class=\"musicset-track__track-name\"><a href=\"/pages/40907/4090706.shtml\" class='musicset-track__link' target=\"_blank\" >4 A.M. (Original)</a></div></div><div class=\"musicset-track__duration\">03:17</div><div class=\"musicset-track__download track-geo\"><a href=\"/pages/40907/4090706.shtml\" class='musicset-track__download-link track-geo__control'                  title='Скачать песню' target=\"_blank\" ><span class=\"musicset__button musicset__button_download\"><i class=\"musicset-icon musicset-icon_download\"></i></span></a></div></div>\n",
      "<div data-rbt-content-id=\"\" data-dkey=\"/1000496/100049621.mp3\" data-duration=\"196\" data-url=\"/musicset/play/24278e8af407a97541453396c6717c89/100049621.json\" data-id=\"100049621\" class=\"musicset-track clearfix\"><div class=\"musicset-track__title track-geo__title\"><div class=\"musicset-track__control musicset__button track-geo__control\"><i class=\"musicset-player__icon\" title=\"Прослушать Scooter &ndash; Shake That\"></i></div><div class=\"musicset-track__artist\"><a target=\"_blank\" class=\"musicset-track__link\" href=\"/artist/89438\">Scooter</a></div><div class=\"musicset-track__track-dash\"> – </div><div class=\"musicset-track__track-name\"><a href=\"/pages/1000496/100049621.shtml\" class='musicset-track__link' target=\"_blank\" >Shake That</a></div></div><div class=\"musicset-track__duration\">03:16</div><div class=\"musicset-track__download track-geo\"><a href=\"/pages/1000496/100049621.shtml\" class='musicset-track__download-link track-geo__control'                  title='Скачать песню' target=\"_blank\" ><span class=\"musicset__button musicset__button_download\"><i class=\"musicset-icon musicset-icon_download\"></i></span></a></div></div>\n",
      "<div data-rbt-content-id=\"\" data-dkey=\"/40603/4060380.mp3\" data-duration=\"308\" data-url=\"/musicset/play/92351ecbe291eae5fff9d198d97ae045/4060380.json\" data-id=\"4060380\" class=\"musicset-track clearfix\"><div class=\"musicset-track__title track-geo__title\"><div class=\"musicset-track__control musicset__button track-geo__control\"><i class=\"musicset-player__icon\" title=\"Прослушать Scooter &ndash; 4 A.M. (remix 2012)\"></i></div><div class=\"musicset-track__artist\"><a target=\"_blank\" class=\"musicset-track__link\" href=\"/artist/89438\">Scooter</a></div><div class=\"musicset-track__track-dash\"> – </div><div class=\"musicset-track__track-name\"><a href=\"/pages/40603/4060380.shtml\" class='musicset-track__link' target=\"_blank\" >4 A.M. (remix 2012)</a></div></div><div class=\"musicset-track__duration\">05:08</div><div class=\"musicset-track__download track-geo\"><a href=\"/pages/40603/4060380.shtml\" class='musicset-track__download-link track-geo__control'                  title='Скачать песню' target=\"_blank\" ><span class=\"musicset__button musicset__button_download\"><i class=\"musicset-icon musicset-icon_download\"></i></span></a></div></div>\n",
      "<div data-rbt-content-id=\"\" data-dkey=\"/40603/4060378.mp3\" data-duration=\"223\" data-url=\"/musicset/play/9b649c36b9c5adeb28b1e793c79bc685/4060378.json\" data-id=\"4060378\" class=\"musicset-track clearfix\"><div class=\"musicset-track__title track-geo__title\"><div class=\"musicset-track__control musicset__button track-geo__control\"><i class=\"musicset-player__icon\" title=\"Прослушать Scooter &ndash; Oi (A-One Remix)\"></i></div><div class=\"musicset-track__artist\"><a target=\"_blank\" class=\"musicset-track__link\" href=\"/artist/89438\">Scooter</a></div><div class=\"musicset-track__track-dash\"> – </div><div class=\"musicset-track__track-name\"><a href=\"/pages/40603/4060378.shtml\" class='musicset-track__link' target=\"_blank\" >Oi (A-One Remix)</a></div></div><div class=\"musicset-track__duration\">03:43</div><div class=\"musicset-track__download track-geo\"><a href=\"/pages/40603/4060378.shtml\" class='musicset-track__download-link track-geo__control'                  title='Скачать песню' target=\"_blank\" ><span class=\"musicset__button musicset__button_download\"><i class=\"musicset-icon musicset-icon_download\"></i></span></a></div></div>\n",
      "<div data-rbt-content-id=\"\" data-dkey=\"/40603/4060377.mp3\" data-duration=\"105\" data-url=\"/musicset/play/4ebe9189f65e28180b6e035ba9d85c43/4060377.json\" data-id=\"4060377\" class=\"musicset-track clearfix\"><div class=\"musicset-track__title track-geo__title\"><div class=\"musicset-track__control musicset__button track-geo__control\"><i class=\"musicset-player__icon\" title=\"Прослушать Scooter &ndash; Posse, I Need You On The Floor (Dj Infin remix)\"></i></div><div class=\"musicset-track__artist\"><a target=\"_blank\" class=\"musicset-track__link\" href=\"/artist/89438\">Scooter</a></div><div class=\"musicset-track__track-dash\"> – </div><div class=\"musicset-track__track-name\"><a href=\"/pages/40603/4060377.shtml\" class='musicset-track__link' target=\"_blank\" >Posse, I Need You On The Floor (Dj Infin remix)</a></div></div><div class=\"musicset-track__duration\">01:45</div><div class=\"musicset-track__download track-geo\"><a href=\"/pages/40603/4060377.shtml\" class='musicset-track__download-link track-geo__control'                  title='Скачать песню' target=\"_blank\" ><span class=\"musicset__button musicset__button_download\"><i class=\"musicset-icon musicset-icon_download\"></i></span></a></div></div>\n",
      "<div data-rbt-content-id=\"\" data-dkey=\"/40603/4060376.mp3\" data-duration=\"176\" data-url=\"/musicset/play/159ea510c29b51be7b4e0376e8b76410/4060376.json\" data-id=\"4060376\" class=\"musicset-track clearfix\"><div class=\"musicset-track__title track-geo__title\"><div class=\"musicset-track__control musicset__button track-geo__control\"><i class=\"musicset-player__icon\" title=\"Прослушать Scooter &ndash; Oi (A-One Remix)\"></i></div><div class=\"musicset-track__artist\"><a target=\"_blank\" class=\"musicset-track__link\" href=\"/artist/89438\">Scooter</a></div><div class=\"musicset-track__track-dash\"> – </div><div class=\"musicset-track__track-name\"><a href=\"/pages/40603/4060376.shtml\" class='musicset-track__link' target=\"_blank\" >Oi (A-One Remix)</a></div></div><div class=\"musicset-track__duration\">02:56</div><div class=\"musicset-track__download track-geo\"><a href=\"/pages/40603/4060376.shtml\" class='musicset-track__download-link track-geo__control'                  title='Скачать песню' target=\"_blank\" ><span class=\"musicset__button musicset__button_download\"><i class=\"musicset-icon musicset-icon_download\"></i></span></a></div></div>\n",
      "<div data-rbt-content-id=\"\" data-dkey=\"/40603/4060373.mp3\" data-duration=\"193\" data-url=\"/musicset/play/990fa8ae2c93fea2f2144af9e169e652/4060373.json\" data-id=\"4060373\" class=\"musicset-track clearfix\"><div class=\"musicset-track__title track-geo__title\"><div class=\"musicset-track__control musicset__button track-geo__control\"><i class=\"musicset-player__icon\" title=\"Прослушать Scooter &ndash; Fire (Instrumental)\"></i></div><div class=\"musicset-track__artist\"><a target=\"_blank\" class=\"musicset-track__link\" href=\"/artist/89438\">Scooter</a></div><div class=\"musicset-track__track-dash\"> – </div><div class=\"musicset-track__track-name\"><a href=\"/pages/40603/4060373.shtml\" class='musicset-track__link' target=\"_blank\" >Fire (Instrumental)</a></div></div><div class=\"musicset-track__duration\">03:13</div><div class=\"musicset-track__download track-geo\"><a href=\"/pages/40603/4060373.shtml\" class='musicset-track__download-link track-geo__control'                  title='Скачать песню' target=\"_blank\" ><span class=\"musicset__button musicset__button_download\"><i class=\"musicset-icon musicset-icon_download\"></i></span></a></div></div>\n",
      "<div data-rbt-content-id=\"\" data-dkey=\"/40603/4060374.mp3\" data-duration=\"207\" data-url=\"/musicset/play/4f5c253de664c9752e34144be94d578d/4060374.json\" data-id=\"4060374\" class=\"musicset-track clearfix\"><div class=\"musicset-track__title track-geo__title\"><div class=\"musicset-track__control musicset__button track-geo__control\"><i class=\"musicset-player__icon\" title=\"Прослушать Scooter &ndash; Mary Got No Lamb\"></i></div><div class=\"musicset-track__artist\"><a target=\"_blank\" class=\"musicset-track__link\" href=\"/artist/89438\">Scooter</a></div><div class=\"musicset-track__track-dash\"> – </div><div class=\"musicset-track__track-name\"><a href=\"/pages/40603/4060374.shtml\" class='musicset-track__link' target=\"_blank\" >Mary Got No Lamb</a></div></div><div class=\"musicset-track__duration\">03:27</div><div class=\"musicset-track__download track-geo\"><a href=\"/pages/40603/4060374.shtml\" class='musicset-track__download-link track-geo__control'                  title='Скачать песню' target=\"_blank\" ><span class=\"musicset__button musicset__button_download\"><i class=\"musicset-icon musicset-icon_download\"></i></span></a></div></div>\n",
      "<div data-rbt-content-id=\"\" data-dkey=\"/30516/3051653.mp3\" data-duration=\"293\" data-url=\"/musicset/play/bb2b58682a8ecf689998725e052524df/3051653.json\" data-id=\"3051653\" class=\"musicset-track clearfix\"><div class=\"musicset-track__title track-geo__title\"><div class=\"musicset-track__control musicset__button track-geo__control\"><i class=\"musicset-player__icon\" title=\"Прослушать Scooter &ndash; Army Of Hardcore (BMG Remix)\"></i></div><div class=\"musicset-track__artist\"><a target=\"_blank\" class=\"musicset-track__link\" href=\"/artist/89438\">Scooter</a></div><div class=\"musicset-track__track-dash\"> – </div><div class=\"musicset-track__track-name\"><a href=\"/pages/30516/3051653.shtml\" class='musicset-track__link' target=\"_blank\" >Army Of Hardcore (BMG Remix)</a></div></div><div class=\"musicset-track__duration\">04:53</div><div class=\"musicset-track__download track-geo\"><a href=\"/pages/30516/3051653.shtml\" class='musicset-track__download-link track-geo__control'                  title='Скачать песню' target=\"_blank\" ><span class=\"musicset__button musicset__button_download\"><i class=\"musicset-icon musicset-icon_download\"></i></span></a></div></div>\n",
      "<div data-rbt-content-id=\"\" data-dkey=\"/30516/3051649.mp3\" data-duration=\"195\" data-url=\"/musicset/play/6b5356839454bb4abc8906a337b11c3f/3051649.json\" data-id=\"3051649\" class=\"musicset-track clearfix\"><div class=\"musicset-track__title track-geo__title\"><div class=\"musicset-track__control musicset__button track-geo__control\"><i class=\"musicset-player__icon\" title=\"Прослушать Scooter &ndash; I'm Lonely (Kindervater Remix)\"></i></div><div class=\"musicset-track__artist\"><a target=\"_blank\" class=\"musicset-track__link\" href=\"/artist/89438\">Scooter</a></div><div class=\"musicset-track__track-dash\"> – </div><div class=\"musicset-track__track-name\"><a href=\"/pages/30516/3051649.shtml\" class='musicset-track__link' target=\"_blank\" >I'm Lonely (Kindervater Remix)</a></div></div><div class=\"musicset-track__duration\">03:15</div><div class=\"musicset-track__download track-geo\"><a href=\"/pages/30516/3051649.shtml\" class='musicset-track__download-link track-geo__control'                  title='Скачать песню' target=\"_blank\" ><span class=\"musicset__button musicset__button_download\"><i class=\"musicset-icon musicset-icon_download\"></i></span></a></div></div>\n",
      "<div data-rbt-content-id=\"\" data-dkey=\"/30522/3052245.mp3\" data-duration=\"256\" data-url=\"/musicset/play/01c94796e4883977964a26343284d211/3052245.json\" data-id=\"3052245\" class=\"musicset-track clearfix\"><div class=\"musicset-track__title track-geo__title\"><div class=\"musicset-track__control musicset__button track-geo__control\"><i class=\"musicset-player__icon\" title=\"Прослушать Scooter &ndash; Jigga Jigga! (Dave202 Remix)\"></i></div><div class=\"musicset-track__artist\"><a target=\"_blank\" class=\"musicset-track__link\" href=\"/artist/89438\">Scooter</a></div><div class=\"musicset-track__track-dash\"> – </div><div class=\"musicset-track__track-name\"><a href=\"/pages/30522/3052245.shtml\" class='musicset-track__link' target=\"_blank\" >Jigga Jigga! (Dave202 Remix)</a></div></div><div class=\"musicset-track__duration\">04:16</div><div class=\"musicset-track__download track-geo\"><a href=\"/pages/30522/3052245.shtml\" class='musicset-track__download-link track-geo__control'                  title='Скачать песню' target=\"_blank\" ><span class=\"musicset__button musicset__button_download\"><i class=\"musicset-icon musicset-icon_download\"></i></span></a></div></div>\n",
      "<div data-rbt-content-id=\"\" data-dkey=\"/30516/3051651.mp3\" data-duration=\"288\" data-url=\"/musicset/play/ef219b992b956bfd02fba3ca4e092889/3051651.json\" data-id=\"3051651\" class=\"musicset-track clearfix\"><div class=\"musicset-track__title track-geo__title\"><div class=\"musicset-track__control musicset__button track-geo__control\"><i class=\"musicset-player__icon\" title=\"Прослушать Scooter &ndash; Chopstick (Mado Kara Mieru)\"></i></div><div class=\"musicset-track__artist\"><a target=\"_blank\" class=\"musicset-track__link\" href=\"/artist/89438\">Scooter</a></div><div class=\"musicset-track__track-dash\"> – </div><div class=\"musicset-track__track-name\"><a href=\"/pages/30516/3051651.shtml\" class='musicset-track__link' target=\"_blank\" >Chopstick (Mado Kara Mieru)</a></div></div><div class=\"musicset-track__duration\">04:48</div><div class=\"musicset-track__download track-geo\"><a href=\"/pages/30516/3051651.shtml\" class='musicset-track__download-link track-geo__control'                  title='Скачать песню' target=\"_blank\" ><span class=\"musicset__button musicset__button_download\"><i class=\"musicset-icon musicset-icon_download\"></i></span></a></div></div>\n",
      "<div data-rbt-content-id=\"\" data-dkey=\"/30512/3051231.mp3\" data-duration=\"186\" data-url=\"/musicset/play/15796e91bdae7681a02319a24fa4b9b4/3051231.json\" data-id=\"3051231\" class=\"musicset-track clearfix\"><div class=\"musicset-track__title track-geo__title\"><div class=\"musicset-track__control musicset__button track-geo__control\"><i class=\"musicset-player__icon\" title=\"Прослушать Scooter &ndash; Fuck Forever\"></i></div><div class=\"musicset-track__artist\"><a target=\"_blank\" class=\"musicset-track__link\" href=\"/artist/89438\">Scooter</a></div><div class=\"musicset-track__track-dash\"> – </div><div class=\"musicset-track__track-name\"><a href=\"/pages/30512/3051231.shtml\" class='musicset-track__link' target=\"_blank\" >Fuck Forever</a></div></div><div class=\"musicset-track__duration\">03:06</div><div class=\"musicset-track__download track-geo\"><a href=\"/pages/30512/3051231.shtml\" class='musicset-track__download-link track-geo__control'                  title='Скачать песню' target=\"_blank\" ><span class=\"musicset__button musicset__button_download\"><i class=\"musicset-icon musicset-icon_download\"></i></span></a></div></div>\n",
      "<div data-rbt-content-id=\"\" data-dkey=\"/31643/3164335.mp3\" data-duration=\"221\" data-url=\"/musicset/play/4f23ed6ccf20a065ef7a162b148854ac/3164335.json\" data-id=\"3164335\" class=\"musicset-track clearfix\"><div class=\"musicset-track__title track-geo__title\"><div class=\"musicset-track__control musicset__button track-geo__control\"><i class=\"musicset-player__icon\" title=\"Прослушать Scooter &ndash; Home Again\"></i></div><div class=\"musicset-track__artist\"><a target=\"_blank\" class=\"musicset-track__link\" href=\"/artist/89438\">Scooter</a></div><div class=\"musicset-track__track-dash\"> – </div><div class=\"musicset-track__track-name\"><a href=\"/pages/31643/3164335.shtml\" class='musicset-track__link' target=\"_blank\" >Home Again</a></div></div><div class=\"musicset-track__duration\">03:41</div><div class=\"musicset-track__download track-geo\"><a href=\"/pages/31643/3164335.shtml\" class='musicset-track__download-link track-geo__control'                  title='Скачать песню' target=\"_blank\" ><span class=\"musicset__button musicset__button_download\"><i class=\"musicset-icon musicset-icon_download\"></i></span></a></div></div>\n",
      "<div data-rbt-content-id=\"\" data-dkey=\"/30932/3093241.mp3\" data-duration=\"215\" data-url=\"/musicset/play/5790b7b1bc60f89be9206e619fb83abf/3093241.json\" data-id=\"3093241\" class=\"musicset-track clearfix\"><div class=\"musicset-track__title track-geo__title\"><div class=\"musicset-track__control musicset__button track-geo__control\"><i class=\"musicset-player__icon\" title=\"Прослушать Scooter &ndash; 999 (Call The Police)\"></i></div><div class=\"musicset-track__artist\"><a target=\"_blank\" class=\"musicset-track__link\" href=\"/artist/89438\">Scooter</a></div><div class=\"musicset-track__track-dash\"> – </div><div class=\"musicset-track__track-name\"><a href=\"/pages/30932/3093241.shtml\" class='musicset-track__link' target=\"_blank\" >999 (Call The Police)</a></div></div><div class=\"musicset-track__duration\">03:35</div><div class=\"musicset-track__download track-geo\"><a href=\"/pages/30932/3093241.shtml\" class='musicset-track__download-link track-geo__control'                  title='Скачать песню' target=\"_blank\" ><span class=\"musicset__button musicset__button_download\"><i class=\"musicset-icon musicset-icon_download\"></i></span></a></div></div>\n",
      "<div data-rbt-content-id=\"\" data-dkey=\"/24471/2447178.mp3\" data-duration=\"216\" data-url=\"/musicset/play/0e520baca3bb8ff707f0211a23f2be5e/2447178.json\" data-id=\"2447178\" class=\"musicset-track clearfix\"><div class=\"musicset-track__title track-geo__title\"><div class=\"musicset-track__control musicset__button track-geo__control\"><i class=\"musicset-player__icon\" title=\"Прослушать Scooter &ndash; David Doesn't Eat\"></i></div><div class=\"musicset-track__artist\"><a target=\"_blank\" class=\"musicset-track__link\" href=\"/artist/89438\">Scooter</a></div><div class=\"musicset-track__track-dash\"> – </div><div class=\"musicset-track__track-name\"><a href=\"/pages/24471/2447178.shtml\" class='musicset-track__link' target=\"_blank\" >David Doesn't Eat</a></div></div><div class=\"musicset-track__duration\">03:36</div><div class=\"musicset-track__download track-geo\"><a href=\"/pages/24471/2447178.shtml\" class='musicset-track__download-link track-geo__control'                  title='Скачать песню' target=\"_blank\" ><span class=\"musicset__button musicset__button_download\"><i class=\"musicset-icon musicset-icon_download\"></i></span></a></div></div>\n",
      "<div data-rbt-content-id=\"\" data-dkey=\"/39694/3969478.mp3\" data-duration=\"199\" data-url=\"/musicset/play/b2128d433d8b8a5abd7f5c543d637654/3969478.json\" data-id=\"3969478\" class=\"musicset-track clearfix\"><div class=\"musicset-track__title track-geo__title\"><div class=\"musicset-track__control musicset__button track-geo__control\"><i class=\"musicset-player__icon\" title=\"Прослушать Scooter &ndash; Don't Break The Silence\"></i></div><div class=\"musicset-track__artist\"><a target=\"_blank\" class=\"musicset-track__link\" href=\"/artist/89438\">Scooter</a></div><div class=\"musicset-track__track-dash\"> – </div><div class=\"musicset-track__track-name\"><a href=\"/pages/39694/3969478.shtml\" class='musicset-track__link' target=\"_blank\" >Don't Break The Silence</a></div></div><div class=\"musicset-track__duration\">03:19</div><div class=\"musicset-track__download track-geo\"><a href=\"/pages/39694/3969478.shtml\" class='musicset-track__download-link track-geo__control'                  title='Скачать песню' target=\"_blank\" ><span class=\"musicset__button musicset__button_download\"><i class=\"musicset-icon musicset-icon_download\"></i></span></a></div></div>\n",
      "<div data-rbt-content-id=\"\" data-dkey=\"/39694/3969474.mp3\" data-duration=\"234\" data-url=\"/musicset/play/65d259513dac38ed6a89dff232a47a69/3969474.json\" data-id=\"3969474\" class=\"musicset-track clearfix\"><div class=\"musicset-track__title track-geo__title\"><div class=\"musicset-track__control musicset__button track-geo__control\"><i class=\"musicset-player__icon\" title=\"Прослушать Scooter &ndash; Encore\"></i></div><div class=\"musicset-track__artist\"><a target=\"_blank\" class=\"musicset-track__link\" href=\"/artist/89438\">Scooter</a></div><div class=\"musicset-track__track-dash\"> – </div><div class=\"musicset-track__track-name\"><a href=\"/pages/39694/3969474.shtml\" class='musicset-track__link' target=\"_blank\" >Encore</a></div></div><div class=\"musicset-track__duration\">03:54</div><div class=\"musicset-track__download track-geo\"><a href=\"/pages/39694/3969474.shtml\" class='musicset-track__download-link track-geo__control'                  title='Скачать песню' target=\"_blank\" ><span class=\"musicset__button musicset__button_download\"><i class=\"musicset-icon musicset-icon_download\"></i></span></a></div></div>\n",
      "<div data-rbt-content-id=\"\" data-dkey=\"/30512/3051236.mp3\" data-duration=\"250\" data-url=\"/musicset/play/369174cf9e9fdc4e50f26eadcfcaedfa/3051236.json\" data-id=\"3051236\" class=\"musicset-track clearfix\"><div class=\"musicset-track__title track-geo__title\"><div class=\"musicset-track__control musicset__button track-geo__control\"><i class=\"musicset-player__icon\" title=\"Прослушать Scooter &ndash; Fallin'\"></i></div><div class=\"musicset-track__artist\"><a target=\"_blank\" class=\"musicset-track__link\" href=\"/artist/89438\">Scooter</a></div><div class=\"musicset-track__track-dash\"> – </div><div class=\"musicset-track__track-name\"><a href=\"/pages/30512/3051236.shtml\" class='musicset-track__link' target=\"_blank\" >Fallin'</a></div></div><div class=\"musicset-track__duration\">04:10</div><div class=\"musicset-track__download track-geo\"><a href=\"/pages/30512/3051236.shtml\" class='musicset-track__download-link track-geo__control'                  title='Скачать песню' target=\"_blank\" ><span class=\"musicset__button musicset__button_download\"><i class=\"musicset-icon musicset-icon_download\"></i></span></a></div></div>\n",
      "<div data-rbt-content-id=\"\" data-dkey=\"/30512/3051237.mp3\" data-duration=\"216\" data-url=\"/musicset/play/1c2fd763d1ca9768dc9e8c21c2f443ea/3051237.json\" data-id=\"3051237\" class=\"musicset-track clearfix\"><div class=\"musicset-track__title track-geo__title\"><div class=\"musicset-track__control musicset__button track-geo__control\"><i class=\"musicset-player__icon\" title=\"Прослушать Scooter &ndash; In Need\"></i></div><div class=\"musicset-track__artist\"><a target=\"_blank\" class=\"musicset-track__link\" href=\"/artist/89438\">Scooter</a></div><div class=\"musicset-track__track-dash\"> – </div><div class=\"musicset-track__track-name\"><a href=\"/pages/30512/3051237.shtml\" class='musicset-track__link' target=\"_blank\" >In Need</a></div></div><div class=\"musicset-track__duration\">03:36</div><div class=\"musicset-track__download track-geo\"><a href=\"/pages/30512/3051237.shtml\" class='musicset-track__download-link track-geo__control'                  title='Скачать песню' target=\"_blank\" ><span class=\"musicset__button musicset__button_download\"><i class=\"musicset-icon musicset-icon_download\"></i></span></a></div></div>\n",
      "<div data-rbt-content-id=\"\" data-dkey=\"/39694/3969482.mp3\" data-duration=\"206\" data-url=\"/musicset/play/0d8c4f196b8ccb216ae76f4c31dead9a/3969482.json\" data-id=\"3969482\" class=\"musicset-track clearfix\"><div class=\"musicset-track__title track-geo__title\"><div class=\"musicset-track__control musicset__button track-geo__control\"><i class=\"musicset-player__icon\" title=\"Прослушать Scooter &ndash; Mary Got No Lamb\"></i></div><div class=\"musicset-track__artist\"><a target=\"_blank\" class=\"musicset-track__link\" href=\"/artist/89438\">Scooter</a></div><div class=\"musicset-track__track-dash\"> – </div><div class=\"musicset-track__track-name\"><a href=\"/pages/39694/3969482.shtml\" class='musicset-track__link' target=\"_blank\" >Mary Got No Lamb</a></div></div><div class=\"musicset-track__duration\">03:26</div><div class=\"musicset-track__download track-geo\"><a href=\"/pages/39694/3969482.shtml\" class='musicset-track__download-link track-geo__control'                  title='Скачать песню' target=\"_blank\" ><span class=\"musicset__button musicset__button_download\"><i class=\"musicset-icon musicset-icon_download\"></i></span></a></div></div>\n",
      "<div data-rbt-content-id=\"\" data-dkey=\"/39694/3969479.mp3\" data-duration=\"190\" data-url=\"/musicset/play/be3047d1cb8ca24fa0d1c8a4b0ef6d78/3969479.json\" data-id=\"3969479\" class=\"musicset-track clearfix\"><div class=\"musicset-track__title track-geo__title\"><div class=\"musicset-track__control musicset__button track-geo__control\"><i class=\"musicset-player__icon\" title=\"Прослушать Scooter &ndash; Oi\"></i></div><div class=\"musicset-track__artist\"><a target=\"_blank\" class=\"musicset-track__link\" href=\"/artist/89438\">Scooter</a></div><div class=\"musicset-track__track-dash\"> – </div><div class=\"musicset-track__track-name\"><a href=\"/pages/39694/3969479.shtml\" class='musicset-track__link' target=\"_blank\" >Oi</a></div></div><div class=\"musicset-track__duration\">03:10</div><div class=\"musicset-track__download track-geo\"><a href=\"/pages/39694/3969479.shtml\" class='musicset-track__download-link track-geo__control'                  title='Скачать песню' target=\"_blank\" ><span class=\"musicset__button musicset__button_download\"><i class=\"musicset-icon musicset-icon_download\"></i></span></a></div></div>\n",
      "<div data-rbt-content-id=\"\" data-dkey=\"/39694/3969492.mp3\" data-duration=\"237\" data-url=\"/musicset/play/937ed3ffaafb5b9d789300e276fc3498/3969492.json\" data-id=\"3969492\" class=\"musicset-track clearfix\"><div class=\"musicset-track__title track-geo__title\"><div class=\"musicset-track__control musicset__button track-geo__control\"><i class=\"musicset-player__icon\" title=\"Прослушать Scooter &ndash; Opium\"></i></div><div class=\"musicset-track__artist\"><a target=\"_blank\" class=\"musicset-track__link\" href=\"/artist/89438\">Scooter</a></div><div class=\"musicset-track__track-dash\"> – </div><div class=\"musicset-track__track-name\"><a href=\"/pages/39694/3969492.shtml\" class='musicset-track__link' target=\"_blank\" >Opium</a></div></div><div class=\"musicset-track__duration\">03:57</div><div class=\"musicset-track__download track-geo\"><a href=\"/pages/39694/3969492.shtml\" class='musicset-track__download-link track-geo__control'                  title='Скачать песню' target=\"_blank\" ><span class=\"musicset__button musicset__button_download\"><i class=\"musicset-icon musicset-icon_download\"></i></span></a></div></div>\n",
      "<div data-rbt-content-id=\"\" data-dkey=\"/37445/3744562.mp3\" data-duration=\"185\" data-url=\"/musicset/play/52f5c1835cf633e2c96145302852c555/3744562.json\" data-id=\"3744562\" class=\"musicset-track clearfix\"><div class=\"musicset-track__title track-geo__title\"><div class=\"musicset-track__control musicset__button track-geo__control\"><i class=\"musicset-player__icon\" title=\"Прослушать Scooter &ndash; Riot\"></i></div><div class=\"musicset-track__artist\"><a target=\"_blank\" class=\"musicset-track__link\" href=\"/artist/89438\">Scooter</a></div><div class=\"musicset-track__track-dash\"> – </div><div class=\"musicset-track__track-name\"><a href=\"/pages/37445/3744562.shtml\" class='musicset-track__link' target=\"_blank\" >Riot</a></div></div><div class=\"musicset-track__duration\">03:05</div><div class=\"musicset-track__download track-geo\"><a href=\"/pages/37445/3744562.shtml\" class='musicset-track__download-link track-geo__control'                  title='Скачать песню' target=\"_blank\" ><span class=\"musicset__button musicset__button_download\"><i class=\"musicset-icon musicset-icon_download\"></i></span></a></div></div>\n",
      "<div data-rbt-content-id=\"\" data-dkey=\"/31144/3114419.mp3\" data-duration=\"78\" data-url=\"/musicset/play/8f80ef29a48e675e3bfa4776e8ce6356/3114419.json\" data-id=\"3114419\" class=\"musicset-track clearfix\"><div class=\"musicset-track__title track-geo__title\"><div class=\"musicset-track__control musicset__button track-geo__control\"><i class=\"musicset-player__icon\" title=\"Прослушать Scooter &ndash; T5c\"></i></div><div class=\"musicset-track__artist\"><a target=\"_blank\" class=\"musicset-track__link\" href=\"/artist/89438\">Scooter</a></div><div class=\"musicset-track__track-dash\"> – </div><div class=\"musicset-track__track-name\"><a href=\"/pages/31144/3114419.shtml\" class='musicset-track__link' target=\"_blank\" >T5c</a></div></div><div class=\"musicset-track__duration\">01:18</div><div class=\"musicset-track__download track-geo\"><a href=\"/pages/31144/3114419.shtml\" class='musicset-track__download-link track-geo__control'                  title='Скачать песню' target=\"_blank\" ><span class=\"musicset__button musicset__button_download\"><i class=\"musicset-icon musicset-icon_download\"></i></span></a></div></div>\n",
      "<div data-rbt-content-id=\"\" data-dkey=\"/39694/3969489.mp3\" data-duration=\"214\" data-url=\"/musicset/play/0998ce25cd09cd3c417414027029f696/3969489.json\" data-id=\"3969489\" class=\"musicset-track clearfix\"><div class=\"musicset-track__title track-geo__title\"><div class=\"musicset-track__control musicset__button track-geo__control\"><i class=\"musicset-player__icon\" title=\"Прослушать Scooter &ndash; The Birdwatcher\"></i></div><div class=\"musicset-track__artist\"><a target=\"_blank\" class=\"musicset-track__link\" href=\"/artist/89438\">Scooter</a></div><div class=\"musicset-track__track-dash\"> – </div><div class=\"musicset-track__track-name\"><a href=\"/pages/39694/3969489.shtml\" class='musicset-track__link' target=\"_blank\" >The Birdwatcher</a></div></div><div class=\"musicset-track__duration\">03:34</div><div class=\"musicset-track__download track-geo\"><a href=\"/pages/39694/3969489.shtml\" class='musicset-track__download-link track-geo__control'                  title='Скачать песню' target=\"_blank\" ><span class=\"musicset__button musicset__button_download\"><i class=\"musicset-icon musicset-icon_download\"></i></span></a></div></div>\n",
      "<div data-rbt-content-id=\"\" data-dkey=\"/39694/3969493.mp3\" data-duration=\"188\" data-url=\"/musicset/play/f3dcc879cd3d40b6f45a67b458383a46/3969493.json\" data-id=\"3969493\" class=\"musicset-track clearfix\"><div class=\"musicset-track__title track-geo__title\"><div class=\"musicset-track__control musicset__button track-geo__control\"><i class=\"musicset-player__icon\" title=\"Прослушать Scooter &ndash; Torch\"></i></div><div class=\"musicset-track__artist\"><a target=\"_blank\" class=\"musicset-track__link\" href=\"/artist/89438\">Scooter</a></div><div class=\"musicset-track__track-dash\"> – </div><div class=\"musicset-track__track-name\"><a href=\"/pages/39694/3969493.shtml\" class='musicset-track__link' target=\"_blank\" >Torch</a></div></div><div class=\"musicset-track__duration\">03:08</div><div class=\"musicset-track__download track-geo\"><a href=\"/pages/39694/3969493.shtml\" class='musicset-track__download-link track-geo__control'                  title='Скачать песню' target=\"_blank\" ><span class=\"musicset__button musicset__button_download\"><i class=\"musicset-icon musicset-icon_download\"></i></span></a></div></div>\n",
      "<div data-rbt-content-id=\"\" data-dkey=\"/31935/3193548.mp3\" data-duration=\"174\" data-url=\"/musicset/play/0fdcba678ee238d8a5b40446c8eab0eb/3193548.json\" data-id=\"3193548\" class=\"musicset-track clearfix\"><div class=\"musicset-track__title track-geo__title\"><div class=\"musicset-track__control musicset__button track-geo__control\"><i class=\"musicset-player__icon\" title=\"Прослушать Scooter &ndash; We Got The Sound\"></i></div><div class=\"musicset-track__artist\"><a target=\"_blank\" class=\"musicset-track__link\" href=\"/artist/89438\">Scooter</a></div><div class=\"musicset-track__track-dash\"> – </div><div class=\"musicset-track__track-name\"><a href=\"/pages/31935/3193548.shtml\" class='musicset-track__link' target=\"_blank\" >We Got The Sound</a></div></div><div class=\"musicset-track__duration\">02:54</div><div class=\"musicset-track__download track-geo\"><a href=\"/pages/31935/3193548.shtml\" class='musicset-track__download-link track-geo__control'                  title='Скачать песню' target=\"_blank\" ><span class=\"musicset__button musicset__button_download\"><i class=\"musicset-icon musicset-icon_download\"></i></span></a></div></div>\n",
      "<div data-rbt-content-id=\"\" data-dkey=\"/39694/3969491.mp3\" data-duration=\"214\" data-url=\"/musicset/play/786bf209ca6fcdb46264b6b027df9e57/3969491.json\" data-id=\"3969491\" class=\"musicset-track clearfix\"><div class=\"musicset-track__title track-geo__title\"><div class=\"musicset-track__control musicset__button track-geo__control\"><i class=\"musicset-player__icon\" title=\"Прослушать Scooter &ndash; What You're Waiting for (Feat. Maidwell)\"></i></div><div class=\"musicset-track__artist\"><a target=\"_blank\" class=\"musicset-track__link\" href=\"/artist/89438\">Scooter</a></div><div class=\"musicset-track__track-dash\"> – </div><div class=\"musicset-track__track-name\"><a href=\"/pages/39694/3969491.shtml\" class='musicset-track__link' target=\"_blank\" >What You're Waiting for (Feat. Maidwell)</a></div></div><div class=\"musicset-track__duration\">03:34</div><div class=\"musicset-track__download track-geo\"><a href=\"/pages/39694/3969491.shtml\" class='musicset-track__download-link track-geo__control'                  title='Скачать песню' target=\"_blank\" ><span class=\"musicset__button musicset__button_download\"><i class=\"musicset-icon musicset-icon_download\"></i></span></a></div></div>\n",
      "<div data-rbt-content-id=\"\" data-dkey=\"/39749/3974965.mp3\" data-duration=\"365\" data-url=\"/musicset/play/e307dacee327db66220c016c7acc0956/3974965.json\" data-id=\"3974965\" class=\"musicset-track clearfix\"><div class=\"musicset-track__title track-geo__title\"><div class=\"musicset-track__control musicset__button track-geo__control\"><i class=\"musicset-player__icon\" title=\"Прослушать Scooter &ndash; Wolga\"></i></div><div class=\"musicset-track__artist\"><a target=\"_blank\" class=\"musicset-track__link\" href=\"/artist/89438\">Scooter</a></div><div class=\"musicset-track__track-dash\"> – </div><div class=\"musicset-track__track-name\"><a href=\"/pages/39749/3974965.shtml\" class='musicset-track__link' target=\"_blank\" >Wolga</a></div></div><div class=\"musicset-track__duration\">06:05</div><div class=\"musicset-track__download track-geo\"><a href=\"/pages/39749/3974965.shtml\" class='musicset-track__download-link track-geo__control'                  title='Скачать песню' target=\"_blank\" ><span class=\"musicset__button musicset__button_download\"><i class=\"musicset-icon musicset-icon_download\"></i></span></a></div></div></div></div><div class=\"pager clearfix\"><span class=\"pager__item pager__item_current pager__item_first\"><span class=\"pager__page pager__page_current\">1</span></span><a href=\"/artist/89438-new-2.html\" class=\"pager__item\"><span class=\"pager__page pager__link\">2</span></a><a href=\"/artist/89438-new-3.html\" class=\"pager__item\"><span class=\"pager__page pager__link\">3</span></a><a href=\"/artist/89438-new-4.html\" class=\"pager__item\"><span class=\"pager__page pager__link\">4</span></a><a href=\"/artist/89438-new-5.html\" class=\"pager__item\"><span class=\"pager__page pager__link\">5</span></a><a href=\"/artist/89438-new-2.html\" class=\"pager__item pager__item_last\"><span class=\"pager__link\">Следующая</span><i class=\"pager__icon pager__icon_next\"></i></a></div></div><div class=\"artist-page__similar\"><span class=\"artist-page-similar__title\">Рекомендуем</span><ul class=\"artist-list unstyled-list clearfix\"><li class=\"artist-list-item artist-list-item_top\"><div class=\"artist-item__pic\"><a class=\"artist-item__pic-link\" href=\"/artist/26258\"><img height=\"100\" width=\"100\" class=\"artist-item__pic-preview\" alt=\"DJ Alligator\" src=\"http://cdnimg.zaycev.net/artist/262/26258-13244.jpg\"/></a></div><div class=\"artist-item__info\"><div class=\"artist-item-info__top\"><div class=\"artist-item__title\"><a class=\"artist-item__link\" href=\"/artist/26258\">\n",
      "\t\t\t\t\t\t\tDJ Alligator\n",
      "\t\t\t\t\t\t</a></div></div><div class=\"artist-item-info__tracks\"><div class=\"musicset-track-list musicset-track-list_artist \"><div class=\"musicset-track-list__items musicset-track-list_artist__items\">\n",
      "<div data-dkey=\"/8629/862960.mp3\" data-url=\"/musicset/play/9637ca08b315322d5cdc50f713484e25/862960.json\" data-id=\"862960\" class=\"musicset-track musicset-track_artist clearfix\"><div class=\"musicset-track__title musicset-track__title_artist\"><div class=\"musicset-track__control musicset__button track-geo__control\"><i class=\"musicset-player__icon\" title=\"Прослушать DJ Alligator &ndash; Doggy Style\"></i></div><span class=\"musicset-track__artist hidden\">DJ Alligator</span><div class=\"musicset-track__track-name\"><a target=\"_blank\" class=\"musicset-track__link track-geo__title\" href=\"/pages/8629/862960.shtml\">\n",
      "\t\t\t\t\t\t\t\t\tDoggy Style\n",
      "\t\t\t\t\t\t\t\t</a></div></div></div>\n",
      "<div data-dkey=\"/15639/1563934.mp3\" data-url=\"/musicset/play/38039e82aa5b60fced7fd65b681eb1e8/1563934.json\" data-id=\"1563934\" class=\"musicset-track musicset-track_artist clearfix\"><div class=\"musicset-track__title musicset-track__title_artist\"><div class=\"musicset-track__control musicset__button track-geo__control\"><i class=\"musicset-player__icon\" title=\"Прослушать DJ Alligator &ndash; Close To You\"></i></div><span class=\"musicset-track__artist hidden\">DJ Alligator</span><div class=\"musicset-track__track-name\"><a target=\"_blank\" class=\"musicset-track__link track-geo__title\" href=\"/pages/15639/1563934.shtml\">\n",
      "\t\t\t\t\t\t\t\t\tClose To You\n",
      "\t\t\t\t\t\t\t\t</a></div></div></div></div></div></div><div class=\"artist-item__details\"><p><a class=\"artist-list-item__details-link\" href=\"/artist/26258\">58 треков</a></p></div></div></li><li class=\"artist-list-item artist-list-item_last artist-list-item_top\"><div class=\"artist-item__pic\"><a class=\"artist-item__pic-link\" href=\"/artist/26201\"><img height=\"100\" width=\"100\" class=\"artist-item__pic-preview\" alt=\"DJ Aligator\" src=\"http://cdnimg.zaycev.net/artist/262/26201-88251.jpg\"/></a></div><div class=\"artist-item__info\"><div class=\"artist-item-info__top\"><div class=\"artist-item__title\"><a class=\"artist-item__link\" href=\"/artist/26201\">\n",
      "\t\t\t\t\t\t\tDJ Aligator\n",
      "\t\t\t\t\t\t</a></div></div><div class=\"artist-item-info__tracks\"><div class=\"musicset-track-list musicset-track-list_artist \"><div class=\"musicset-track-list__items musicset-track-list_artist__items\">\n",
      "<div data-dkey=\"/119/11931.mp3\" data-url=\"/musicset/play/cd46afb02b3c51d196ae7e643a0f2316/11931.json\" data-id=\"11931\" class=\"musicset-track musicset-track_artist clearfix\"><div class=\"musicset-track__title musicset-track__title_artist\"><div class=\"musicset-track__control musicset__button track-geo__control\"><i class=\"musicset-player__icon\" title=\"Прослушать DJ Aligator &ndash; Doggy Style\"></i></div><span class=\"musicset-track__artist hidden\">DJ Aligator</span><div class=\"musicset-track__track-name\"><a target=\"_blank\" class=\"musicset-track__link track-geo__title\" href=\"/pages/119/11931.shtml\">\n",
      "\t\t\t\t\t\t\t\t\tDoggy Style\n",
      "\t\t\t\t\t\t\t\t</a></div></div></div>\n",
      "<div data-dkey=\"/18558/1855881.mp3\" data-url=\"/musicset/play/bae7014cac165255a5ae8c6a72def4ec/1855881.json\" data-id=\"1855881\" class=\"musicset-track musicset-track_artist clearfix\"><div class=\"musicset-track__title musicset-track__title_artist\"><div class=\"musicset-track__control musicset__button track-geo__control\"><i class=\"musicset-player__icon\" title=\"Прослушать DJ Aligator &ndash; Fly High (DJ Aligator remix)\"></i></div><span class=\"musicset-track__artist hidden\">DJ Aligator</span><div class=\"musicset-track__track-name\"><a target=\"_blank\" class=\"musicset-track__link track-geo__title\" href=\"/pages/18558/1855881.shtml\">\n",
      "\t\t\t\t\t\t\t\t\tFly High (DJ Aligator remix)\n",
      "\t\t\t\t\t\t\t\t</a></div></div></div></div></div></div><div class=\"artist-item__details\"><p><a class=\"artist-list-item__details-link\" href=\"/artist/26201\">287 треков</a></p></div></div></li><li class=\"artist-list-item\"><div class=\"artist-item__pic\"><a class=\"artist-item__pic-link\" href=\"/artist/100522\"><img height=\"100\" width=\"100\" class=\"artist-item__pic-preview\" alt=\"The Prodigy\" src=\"http://cdndl.zaycev.net/commonImage/100522_square100.jpg\"/></a></div><div class=\"artist-item__info\"><div class=\"artist-item-info__top\"><div class=\"artist-item__title\"><a class=\"artist-item__link\" href=\"/artist/100522\">\n",
      "\t\t\t\t\t\t\tThe Prodigy\n",
      "\t\t\t\t\t\t</a></div></div><div class=\"artist-item-info__tracks\"><div class=\"musicset-track-list musicset-track-list_artist \"><div class=\"musicset-track-list__items musicset-track-list_artist__items\">\n",
      "<div data-dkey=\"/140/14062.mp3\" data-url=\"/musicset/play/93fb307bfb8a2dc627a36e6daf8af456/14062.json\" data-id=\"14062\" class=\"musicset-track musicset-track_artist clearfix\"><div class=\"musicset-track__title musicset-track__title_artist\"><div class=\"musicset-track__control musicset__button track-geo__control\"><i class=\"musicset-player__icon\" title=\"Прослушать The Prodigy &ndash; Firestarter (original)\"></i></div><span class=\"musicset-track__artist hidden\">The Prodigy</span><div class=\"musicset-track__track-name\"><a target=\"_blank\" class=\"musicset-track__link track-geo__title\" href=\"/pages/140/14062.shtml\">\n",
      "\t\t\t\t\t\t\t\t\tFirestarter (original)\n",
      "\t\t\t\t\t\t\t\t</a></div></div></div>\n",
      "<div data-dkey=\"/228/22859.mp3\" data-url=\"/musicset/play/d8956ba8a324f8b2b87b36c7a5ce0aa9/22859.json\" data-id=\"22859\" class=\"musicset-track musicset-track_artist clearfix\"><div class=\"musicset-track__title musicset-track__title_artist\"><div class=\"musicset-track__control musicset__button track-geo__control\"><i class=\"musicset-player__icon\" title=\"Прослушать The Prodigy &ndash; Poison\"></i></div><span class=\"musicset-track__artist hidden\">The Prodigy</span><div class=\"musicset-track__track-name\"><a target=\"_blank\" class=\"musicset-track__link track-geo__title\" href=\"/pages/228/22859.shtml\">\n",
      "\t\t\t\t\t\t\t\t\tPoison\n",
      "\t\t\t\t\t\t\t\t</a></div></div></div></div></div></div><div class=\"artist-item__details\"><p><a class=\"artist-list-item__details-link\" href=\"/artist/100522\">940 треков</a></p></div></div></li><li class=\"artist-list-item artist-list-item_last\"><div class=\"artist-item__pic\"><a class=\"artist-item__pic-link\" href=\"/artist/83925\"><img height=\"100\" width=\"100\" class=\"artist-item__pic-preview\" alt=\"Rammstein\" src=\"http://cdndl.zaycev.net/commonImage/83925_square100.jpg\"/></a></div><div class=\"artist-item__info\"><div class=\"artist-item-info__top\"><div class=\"artist-item__title\"><a class=\"artist-item__link\" href=\"/artist/83925\">\n",
      "\t\t\t\t\t\t\tRammstein\n",
      "\t\t\t\t\t\t</a></div></div><div class=\"artist-item-info__tracks\"><div class=\"musicset-track-list musicset-track-list_artist \"><div class=\"musicset-track-list__items musicset-track-list_artist__items\">\n",
      "<div data-dkey=\"/296/29670.mp3\" data-url=\"/musicset/play/3470aaa0db0e64eb63bdec55035b3a12/29670.json\" data-id=\"29670\" class=\"musicset-track musicset-track_artist clearfix\"><div class=\"musicset-track__title musicset-track__title_artist\"><div class=\"musicset-track__control musicset__button track-geo__control\"><i class=\"musicset-player__icon\" title=\"Прослушать Rammstein &ndash; Engel\"></i></div><span class=\"musicset-track__artist hidden\">Rammstein</span><div class=\"musicset-track__track-name\"><a target=\"_blank\" class=\"musicset-track__link track-geo__title\" href=\"/pages/296/29670.shtml\">\n",
      "\t\t\t\t\t\t\t\t\tEngel\n",
      "\t\t\t\t\t\t\t\t</a></div></div></div>\n",
      "<div data-dkey=\"/200/20075.mp3\" data-url=\"/musicset/play/e136dbfe6c4f3a2b1abaebb64d3d6ace/20075.json\" data-id=\"20075\" class=\"musicset-track musicset-track_artist clearfix\"><div class=\"musicset-track__title musicset-track__title_artist\"><div class=\"musicset-track__control musicset__button track-geo__control\"><i class=\"musicset-player__icon\" title=\"Прослушать Rammstein &ndash; Angel\"></i></div><span class=\"musicset-track__artist hidden\">Rammstein</span><div class=\"musicset-track__track-name\"><a target=\"_blank\" class=\"musicset-track__link track-geo__title\" href=\"/pages/200/20075.shtml\">\n",
      "\t\t\t\t\t\t\t\t\tAngel\n",
      "\t\t\t\t\t\t\t\t</a></div></div></div></div></div></div><div class=\"artist-item__details\"><p><a class=\"artist-list-item__details-link\" href=\"/artist/83925\">722 трека</a></p></div></div></li></ul><div style=\"padding-top:30px;margin-right: 7px;\" class=\"adv-place-pic\"><script src=\"//rttr2.zaycev.net/single?t=rightContentSide\"></script></div></div><div id=\"vk_comments-artist\" style=\"padding-top:30px;float:left\"></div></div><div class=\"artist-info_ready\"></div></div></div></div></div></div></div><div id=\"page-footer\"><div class=\"clearfix\"><div class=\"footer-left\"><div><!--noindex--><div class=\"footer__row\"><div>Уполномоченный представитель по работе с правообладателями</div><div>ООО «Интерактив» +7 495 989-82-91</div></div><div class=\"footer__row\"><div>Официальный представитель на территории РФ и стран СНГ</div><div>ООО «РМС» +7 495 211-85-11</div></div>\n",
      "<div class=\"footer__row\"><div>中国总代理: 广州康湃谊网络技术有限公司.</div><div>+86 139-2881-7508 李世举</div></div>\n",
      "<div class=\"footer__row\"><div>Администратор сайта: Zaycev Media Lp.</div><div>12 SOUTH BRIDGE, SUITE 1, EDINBURGH EH1 1DD, Great Britain</div><div><a class=\"contacts_email_link\" href=\"mailto:admin@zaycev.net\">admin@zaycev.net</a></div></div><!--/noindex--></div></div><div class=\"footer-right\"><div class=\"footer-first-line\"><div class=\"footer__apps\"><!--noindex-->\n",
      "\t\t\t\t\t\t<a target=\"_blank\" title=\"Zaycev.net для Android\" href=\"https://play.google.com/store/apps/details?id=free.zaycev.net&referrer=utm_source%3DSite%26utm_medium%3Dsite\"\n",
      "\t\t\t\t\t\t   rel=\"nofollow\" class=\"footer__store footer__store_android\"></a>\n",
      "\t\t\t\t\t\t<a target=\"_blank\" title=\"Zaycev.net для Apple\"\n",
      "\t\t\t\t\t\t   href=\"https://itunes.apple.com/us/app/zaycev.net-100-popularnyh/id1100155367?ls=1&mt=8\"\n",
      "\t\t\t\t\t\t   rel=\"nofollow\" class=\"footer__store footer__store_apple\"></a>\n",
      "\t\t\t\t\t\t<a target=\"_blank\" title=\"Zaycev.net для Windows Phone\"\n",
      "\t\t\t\t\t\t   href=\"http://www.windowsphone.com/ru-ru/store/app/znplayer-wp/41d65160-ced8-4e10-8db3-e54e2e64f220\"\n",
      "\t\t\t\t\t\t   rel=\"nofollow\" class=\"footer__store footer__store_wp\"></a>\n",
      "\t\t\t\t\t\t<!--/noindex--></div></div><div class=\"footer__links\"><div class=\"footer-links__item\"><a href=\"/useragreement.shtml\">Пользовательское соглашение</a></div><div class=\"footer-links__item\"><a href=\"/law.shtml\">Правообладателям</a></div><div class=\"footer-links__item\"><a href=\"/careers.html\">Работа в Zaycev.net</a></div><div class=\"footer-links__item\"><a href=\"/reklama.shtml\">Реклама на сайте</a></div><div class=\"footer-links__item\"><a href=\"/spages/promo.shtml\">Продвижение трека</a></div></div></div></div><div class=\"footer__row clearfix\"><div class=\"footer-left\"><div class=\"footer__copyright\">Copyright &copy; Zaycev Media Lp. 2004-2017</div></div><div class=\"footer-right\"><div class=\"footer-abuse\"><a href=\"http://zaycev.net/abuse/form\">Пожаловаться на нарушение авторских прав / DMCA complain</a></div></div></div></div></div></div><script src=\"//rttr2.zaycev.net/single?t=fullscreen&amp;artistId=89438\"></script><form id=\"__advaon__\" action=\"#\"><input value=\"42\" type=\"hidden\"/></form><script src=\"//i.addmob.info/static/js/fngr/fngrimgo.js\"></script></body></html>\n"
     ]
    }
   ],
   "source": [
    "# получаем html-код страницы с песнями\n",
    "htext=show()"
   ]
  },
  {
   "cell_type": "code",
   "execution_count": 9,
   "metadata": {
    "collapsed": false
   },
   "outputs": [
    {
     "name": "stdout",
     "output_type": "stream",
     "text": [
      "http://zaycev.net/pages/43221/4322135.shtml\n"
     ]
    }
   ],
   "source": [
    "# находим адрес страницы с нужной песней\n",
    "# нужную комбинацию подсмотрел в html-коде страницы\n",
    "import re\n",
    "cc=re.search(r'(/pages/)(.+?)('+ song+')', htext)\n",
    "dd=re.search(r'(/pages/)(.+?)(html)', cc.group(0)).group(0)\n",
    "url3=url1+dd\n",
    "print url3"
   ]
  },
  {
   "cell_type": "code",
   "execution_count": 10,
   "metadata": {
    "collapsed": false
   },
   "outputs": [
    {
     "name": "stdout",
     "output_type": "stream",
     "text": [
      "http://cdndl.zaycev.net/89438/4322135/Scooter_-_Ramp.mp3\n"
     ]
    }
   ],
   "source": [
    "# на странице с песней находим ссылку для скачивания\n",
    "htext2 = requests.get(url3).text # по аналогии с командой twill show(), но без вывода всей страницы в результат\n",
    "ee=re.search(r'(http://cdn)(.+?)(' + song + '.mp3)', htext2).group(0)\n",
    "print ee"
   ]
  },
  {
   "cell_type": "code",
   "execution_count": 11,
   "metadata": {
    "collapsed": true
   },
   "outputs": [
    {
     "name": "stdout",
     "output_type": "stream",
     "text": [
      "Open an arbitrary URL.\n",
      "\n",
      "See the following document for more info on URLs:\n",
      "\"Names and Addresses, URIs, URLs, URNs, URCs\", at\n",
      "http://www.w3.org/pub/WWW/Addressing/Overview.html\n",
      "\n",
      "See also the HTTP spec (from which the error codes are derived):\n",
      "\"HTTP - Hypertext Transfer Protocol\", at\n",
      "http://www.w3.org/pub/WWW/Protocols/\n",
      "\n",
      "Related standards and specs:\n",
      "- RFC1808: the \"relative URL\" spec. (authoritative status)\n",
      "- RFC1738 - the \"URL standard\". (authoritative status)\n",
      "- RFC1630 - the \"URI spec\". (informational status)\n",
      "\n",
      "The object returned by URLopener().open(file) will differ per\n",
      "protocol.  All you know is that is has methods read(), readline(),\n",
      "readlines(), fileno(), close() and info().  The read*(), fileno()\n",
      "and close() methods work like those of open files.\n",
      "The info() method returns a mimetools.Message object which can be\n",
      "used to query various info about the object, if available.\n",
      "(mimetools.Message objects are queried with the getheader() method.)\n",
      "\n"
     ]
    }
   ],
   "source": [
    "# для скачивания используем urllib, а в ней - класс URLopener\n",
    "import urllib\n",
    "import os\n",
    "print urllib.__doc__"
   ]
  },
  {
   "cell_type": "code",
   "execution_count": 12,
   "metadata": {
    "collapsed": true
   },
   "outputs": [
    {
     "name": "stdout",
     "output_type": "stream",
     "text": [
      "Help on class URLopener in module urllib:\n",
      "\n",
      "class URLopener\n",
      " |  Class to open URLs.\n",
      " |  This is a class rather than just a subroutine because we may need\n",
      " |  more than one set of global protocol-specific options.\n",
      " |  Note -- this is a base class for those who don't want the\n",
      " |  automatic handling of errors type 302 (relocated) and 401\n",
      " |  (authorization needed).\n",
      " |  \n",
      " |  Methods defined here:\n",
      " |  \n",
      " |  __del__(self)\n",
      " |  \n",
      " |  __init__(self, proxies=None, context=None, **x509)\n",
      " |      # Constructor\n",
      " |  \n",
      " |  addheader(self, *args)\n",
      " |      Add a header to be used by the HTTP interface only\n",
      " |      e.g. u.addheader('Accept', 'sound/basic')\n",
      " |  \n",
      " |  cleanup(self)\n",
      " |  \n",
      " |  close(self)\n",
      " |  \n",
      " |  http_error(self, url, fp, errcode, errmsg, headers, data=None)\n",
      " |      Handle http errors.\n",
      " |      Derived class can override this, or provide specific handlers\n",
      " |      named http_error_DDD where DDD is the 3-digit error code.\n",
      " |  \n",
      " |  http_error_default(self, url, fp, errcode, errmsg, headers)\n",
      " |      Default error handler: close the connection and raise IOError.\n",
      " |  \n",
      " |  open(self, fullurl, data=None)\n",
      " |      Use URLopener().open(file) instead of open(file, 'r').\n",
      " |  \n",
      " |  open_data(self, url, data=None)\n",
      " |      Use \"data\" URL.\n",
      " |  \n",
      " |  open_file(self, url)\n",
      " |      Use local file or FTP depending on form of URL.\n",
      " |  \n",
      " |  open_ftp(self, url)\n",
      " |      Use FTP protocol.\n",
      " |  \n",
      " |  open_http(self, url, data=None)\n",
      " |      Use HTTP protocol.\n",
      " |  \n",
      " |  open_https(self, url, data=None)\n",
      " |      Use HTTPS protocol.\n",
      " |  \n",
      " |  open_local_file(self, url)\n",
      " |      Use local file.\n",
      " |  \n",
      " |  open_unknown(self, fullurl, data=None)\n",
      " |      Overridable interface to open unknown URL type.\n",
      " |  \n",
      " |  open_unknown_proxy(self, proxy, fullurl, data=None)\n",
      " |      Overridable interface to open unknown URL type.\n",
      " |  \n",
      " |  retrieve(self, url, filename=None, reporthook=None, data=None)\n",
      " |      retrieve(url) returns (filename, headers) for a local object\n",
      " |      or (tempfilename, headers) for a remote object.\n",
      " |  \n",
      " |  ----------------------------------------------------------------------\n",
      " |  Data and other attributes defined here:\n",
      " |  \n",
      " |  version = 'Python-urllib/1.17'\n",
      "\n",
      "None\n"
     ]
    }
   ],
   "source": [
    "# в классе подойдет метод retrieve\n",
    "print help(urllib.URLopener)"
   ]
  },
  {
   "cell_type": "code",
   "execution_count": 13,
   "metadata": {
    "collapsed": false
   },
   "outputs": [
    {
     "data": {
      "text/plain": [
       "['22.txt',\n",
       " 'aaa.txt',\n",
       " 'Ramp.mp3',\n",
       " 'task_1.2_res.txt',\n",
       " 'task_1.2_source.txt',\n",
       " 'task_2.2_res.txt',\n",
       " 'task_2.2_source.txt',\n",
       " 'task_3.2_1.txt',\n",
       " 'task_3.2_2.txt',\n",
       " 'task_3.2_res.txt',\n",
       " 'test.html']"
      ]
     },
     "execution_count": 13,
     "metadata": {},
     "output_type": "execute_result"
    }
   ],
   "source": [
    "# скачивание файла и проверка его наличия в нужной папке\n",
    "# да, оно играет\n",
    "tfile = urllib.URLopener()\n",
    "tfile.retrieve(ee, dest_fol+'/'+fname)\n",
    "os.listdir(dest_fol)"
   ]
  },
  {
   "cell_type": "markdown",
   "metadata": {},
   "source": [
    "В последствии постараюсь дописать поиск id исполнителя по названию и поиск песни на всех его страницах исполнителя (а не на первой).  \n",
    "Задание 1 с опросом также выполнил."
   ]
  }
 ],
 "metadata": {
  "kernelspec": {
   "display_name": "Python 2",
   "language": "python",
   "name": "python2"
  },
  "language_info": {
   "codemirror_mode": {
    "name": "ipython",
    "version": 2
   },
   "file_extension": ".py",
   "mimetype": "text/x-python",
   "name": "python",
   "nbconvert_exporter": "python",
   "pygments_lexer": "ipython2",
   "version": "2.7.13"
  }
 },
 "nbformat": 4,
 "nbformat_minor": 2
}
