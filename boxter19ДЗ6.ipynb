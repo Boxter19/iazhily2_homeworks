{
 "cells": [
  {
   "cell_type": "markdown",
   "metadata": {},
   "source": [
    "# Базовый уровень\n",
    "\n",
    "*Для получения положительной оценки нужно правильно выполнить не менее 3 заданий из 5*"
   ]
  },
  {
   "cell_type": "markdown",
   "metadata": {},
   "source": [
    "## Задание 1.1\n",
    "\n",
    "Загрузите первый лист (`curr`) из файла `data.xlsx` в `pd.DataFrame` (в этой таблице приведены курсы доллара (USD) и евро (EUR) в рублях)."
   ]
  },
  {
   "cell_type": "code",
   "execution_count": 1,
   "metadata": {
    "collapsed": false,
    "scrolled": true
   },
   "outputs": [
    {
     "data": {
      "text/html": [
       "<div>\n",
       "<table border=\"1\" class=\"dataframe\">\n",
       "  <thead>\n",
       "    <tr style=\"text-align: right;\">\n",
       "      <th></th>\n",
       "      <th>Date</th>\n",
       "      <th>USD</th>\n",
       "      <th>EUR</th>\n",
       "    </tr>\n",
       "  </thead>\n",
       "  <tbody>\n",
       "    <tr>\n",
       "      <th>0</th>\n",
       "      <td>2013-06-22</td>\n",
       "      <td>32.7433</td>\n",
       "      <td>43.3489</td>\n",
       "    </tr>\n",
       "    <tr>\n",
       "      <th>1</th>\n",
       "      <td>2013-06-25</td>\n",
       "      <td>32.9097</td>\n",
       "      <td>43.1018</td>\n",
       "    </tr>\n",
       "    <tr>\n",
       "      <th>2</th>\n",
       "      <td>2013-06-26</td>\n",
       "      <td>32.7140</td>\n",
       "      <td>42.9698</td>\n",
       "    </tr>\n",
       "    <tr>\n",
       "      <th>3</th>\n",
       "      <td>2013-06-27</td>\n",
       "      <td>32.8876</td>\n",
       "      <td>42.9841</td>\n",
       "    </tr>\n",
       "    <tr>\n",
       "      <th>4</th>\n",
       "      <td>2013-06-28</td>\n",
       "      <td>32.8766</td>\n",
       "      <td>42.8349</td>\n",
       "    </tr>\n",
       "    <tr>\n",
       "      <th>5</th>\n",
       "      <td>2013-06-29</td>\n",
       "      <td>32.7090</td>\n",
       "      <td>42.7180</td>\n",
       "    </tr>\n",
       "    <tr>\n",
       "      <th>6</th>\n",
       "      <td>2013-07-02</td>\n",
       "      <td>32.8517</td>\n",
       "      <td>42.8025</td>\n",
       "    </tr>\n",
       "    <tr>\n",
       "      <th>7</th>\n",
       "      <td>2013-07-03</td>\n",
       "      <td>32.9475</td>\n",
       "      <td>43.0525</td>\n",
       "    </tr>\n",
       "    <tr>\n",
       "      <th>8</th>\n",
       "      <td>2013-07-04</td>\n",
       "      <td>33.2204</td>\n",
       "      <td>43.0736</td>\n",
       "    </tr>\n",
       "    <tr>\n",
       "      <th>9</th>\n",
       "      <td>2013-07-05</td>\n",
       "      <td>33.1605</td>\n",
       "      <td>43.0954</td>\n",
       "    </tr>\n",
       "    <tr>\n",
       "      <th>10</th>\n",
       "      <td>2013-07-06</td>\n",
       "      <td>33.2247</td>\n",
       "      <td>42.8399</td>\n",
       "    </tr>\n",
       "    <tr>\n",
       "      <th>11</th>\n",
       "      <td>2013-07-09</td>\n",
       "      <td>33.3210</td>\n",
       "      <td>42.7342</td>\n",
       "    </tr>\n",
       "    <tr>\n",
       "      <th>12</th>\n",
       "      <td>2013-07-10</td>\n",
       "      <td>33.0842</td>\n",
       "      <td>42.6389</td>\n",
       "    </tr>\n",
       "    <tr>\n",
       "      <th>13</th>\n",
       "      <td>2013-07-11</td>\n",
       "      <td>32.9112</td>\n",
       "      <td>42.1033</td>\n",
       "    </tr>\n",
       "    <tr>\n",
       "      <th>14</th>\n",
       "      <td>2013-07-12</td>\n",
       "      <td>32.5867</td>\n",
       "      <td>42.6234</td>\n",
       "    </tr>\n",
       "    <tr>\n",
       "      <th>15</th>\n",
       "      <td>2013-07-13</td>\n",
       "      <td>32.6429</td>\n",
       "      <td>42.6643</td>\n",
       "    </tr>\n",
       "    <tr>\n",
       "      <th>16</th>\n",
       "      <td>2013-07-16</td>\n",
       "      <td>32.6220</td>\n",
       "      <td>42.6076</td>\n",
       "    </tr>\n",
       "    <tr>\n",
       "      <th>17</th>\n",
       "      <td>2013-07-17</td>\n",
       "      <td>32.5417</td>\n",
       "      <td>42.5906</td>\n",
       "    </tr>\n",
       "    <tr>\n",
       "      <th>18</th>\n",
       "      <td>2013-07-18</td>\n",
       "      <td>32.4526</td>\n",
       "      <td>42.6232</td>\n",
       "    </tr>\n",
       "    <tr>\n",
       "      <th>19</th>\n",
       "      <td>2013-07-19</td>\n",
       "      <td>32.3998</td>\n",
       "      <td>42.4437</td>\n",
       "    </tr>\n",
       "    <tr>\n",
       "      <th>20</th>\n",
       "      <td>2013-07-20</td>\n",
       "      <td>32.4288</td>\n",
       "      <td>42.5920</td>\n",
       "    </tr>\n",
       "    <tr>\n",
       "      <th>21</th>\n",
       "      <td>2013-07-23</td>\n",
       "      <td>32.3236</td>\n",
       "      <td>42.5088</td>\n",
       "    </tr>\n",
       "    <tr>\n",
       "      <th>22</th>\n",
       "      <td>2013-07-24</td>\n",
       "      <td>32.3106</td>\n",
       "      <td>42.6209</td>\n",
       "    </tr>\n",
       "    <tr>\n",
       "      <th>23</th>\n",
       "      <td>2013-07-25</td>\n",
       "      <td>32.3462</td>\n",
       "      <td>42.7229</td>\n",
       "    </tr>\n",
       "    <tr>\n",
       "      <th>24</th>\n",
       "      <td>2013-07-26</td>\n",
       "      <td>32.5376</td>\n",
       "      <td>42.9919</td>\n",
       "    </tr>\n",
       "    <tr>\n",
       "      <th>25</th>\n",
       "      <td>2013-07-27</td>\n",
       "      <td>32.6371</td>\n",
       "      <td>43.3421</td>\n",
       "    </tr>\n",
       "    <tr>\n",
       "      <th>26</th>\n",
       "      <td>2013-07-30</td>\n",
       "      <td>32.8556</td>\n",
       "      <td>43.6060</td>\n",
       "    </tr>\n",
       "    <tr>\n",
       "      <th>27</th>\n",
       "      <td>2013-07-31</td>\n",
       "      <td>32.8901</td>\n",
       "      <td>43.6090</td>\n",
       "    </tr>\n",
       "    <tr>\n",
       "      <th>28</th>\n",
       "      <td>2013-08-01</td>\n",
       "      <td>33.0330</td>\n",
       "      <td>43.7786</td>\n",
       "    </tr>\n",
       "    <tr>\n",
       "      <th>29</th>\n",
       "      <td>2013-08-02</td>\n",
       "      <td>32.9741</td>\n",
       "      <td>43.7270</td>\n",
       "    </tr>\n",
       "    <tr>\n",
       "      <th>...</th>\n",
       "      <td>...</td>\n",
       "      <td>...</td>\n",
       "      <td>...</td>\n",
       "    </tr>\n",
       "    <tr>\n",
       "      <th>958</th>\n",
       "      <td>2017-05-06</td>\n",
       "      <td>58.5382</td>\n",
       "      <td>64.2398</td>\n",
       "    </tr>\n",
       "    <tr>\n",
       "      <th>959</th>\n",
       "      <td>2017-05-11</td>\n",
       "      <td>58.0824</td>\n",
       "      <td>63.2634</td>\n",
       "    </tr>\n",
       "    <tr>\n",
       "      <th>960</th>\n",
       "      <td>2017-05-12</td>\n",
       "      <td>57.1161</td>\n",
       "      <td>62.1595</td>\n",
       "    </tr>\n",
       "    <tr>\n",
       "      <th>961</th>\n",
       "      <td>2017-05-13</td>\n",
       "      <td>57.1640</td>\n",
       "      <td>62.0915</td>\n",
       "    </tr>\n",
       "    <tr>\n",
       "      <th>962</th>\n",
       "      <td>2017-05-16</td>\n",
       "      <td>56.5258</td>\n",
       "      <td>61.8449</td>\n",
       "    </tr>\n",
       "    <tr>\n",
       "      <th>963</th>\n",
       "      <td>2017-05-17</td>\n",
       "      <td>56.2603</td>\n",
       "      <td>62.0382</td>\n",
       "    </tr>\n",
       "    <tr>\n",
       "      <th>964</th>\n",
       "      <td>2017-05-18</td>\n",
       "      <td>56.7383</td>\n",
       "      <td>62.9568</td>\n",
       "    </tr>\n",
       "    <tr>\n",
       "      <th>965</th>\n",
       "      <td>2017-05-19</td>\n",
       "      <td>57.4683</td>\n",
       "      <td>63.9967</td>\n",
       "    </tr>\n",
       "    <tr>\n",
       "      <th>966</th>\n",
       "      <td>2017-05-20</td>\n",
       "      <td>57.1602</td>\n",
       "      <td>63.6479</td>\n",
       "    </tr>\n",
       "    <tr>\n",
       "      <th>967</th>\n",
       "      <td>2017-05-23</td>\n",
       "      <td>56.4988</td>\n",
       "      <td>63.1713</td>\n",
       "    </tr>\n",
       "    <tr>\n",
       "      <th>968</th>\n",
       "      <td>2017-05-24</td>\n",
       "      <td>56.5552</td>\n",
       "      <td>63.6189</td>\n",
       "    </tr>\n",
       "    <tr>\n",
       "      <th>969</th>\n",
       "      <td>2017-05-25</td>\n",
       "      <td>56.2743</td>\n",
       "      <td>62.9203</td>\n",
       "    </tr>\n",
       "    <tr>\n",
       "      <th>970</th>\n",
       "      <td>2017-05-26</td>\n",
       "      <td>56.0701</td>\n",
       "      <td>63.0116</td>\n",
       "    </tr>\n",
       "    <tr>\n",
       "      <th>971</th>\n",
       "      <td>2017-05-27</td>\n",
       "      <td>56.7560</td>\n",
       "      <td>63.6689</td>\n",
       "    </tr>\n",
       "    <tr>\n",
       "      <th>972</th>\n",
       "      <td>2017-05-30</td>\n",
       "      <td>56.7106</td>\n",
       "      <td>63.3684</td>\n",
       "    </tr>\n",
       "    <tr>\n",
       "      <th>973</th>\n",
       "      <td>2017-05-31</td>\n",
       "      <td>56.5168</td>\n",
       "      <td>62.9484</td>\n",
       "    </tr>\n",
       "    <tr>\n",
       "      <th>974</th>\n",
       "      <td>2017-06-01</td>\n",
       "      <td>56.6876</td>\n",
       "      <td>63.4107</td>\n",
       "    </tr>\n",
       "    <tr>\n",
       "      <th>975</th>\n",
       "      <td>2017-06-02</td>\n",
       "      <td>56.5373</td>\n",
       "      <td>63.5310</td>\n",
       "    </tr>\n",
       "    <tr>\n",
       "      <th>976</th>\n",
       "      <td>2017-06-03</td>\n",
       "      <td>56.6876</td>\n",
       "      <td>63.6092</td>\n",
       "    </tr>\n",
       "    <tr>\n",
       "      <th>977</th>\n",
       "      <td>2017-06-06</td>\n",
       "      <td>56.6152</td>\n",
       "      <td>63.8110</td>\n",
       "    </tr>\n",
       "    <tr>\n",
       "      <th>978</th>\n",
       "      <td>2017-06-07</td>\n",
       "      <td>56.6747</td>\n",
       "      <td>63.7817</td>\n",
       "    </tr>\n",
       "    <tr>\n",
       "      <th>979</th>\n",
       "      <td>2017-06-08</td>\n",
       "      <td>56.5878</td>\n",
       "      <td>63.7179</td>\n",
       "    </tr>\n",
       "    <tr>\n",
       "      <th>980</th>\n",
       "      <td>2017-06-09</td>\n",
       "      <td>56.9857</td>\n",
       "      <td>64.1488</td>\n",
       "    </tr>\n",
       "    <tr>\n",
       "      <th>981</th>\n",
       "      <td>2017-06-10</td>\n",
       "      <td>57.0020</td>\n",
       "      <td>63.7852</td>\n",
       "    </tr>\n",
       "    <tr>\n",
       "      <th>982</th>\n",
       "      <td>2017-06-14</td>\n",
       "      <td>56.9096</td>\n",
       "      <td>63.7729</td>\n",
       "    </tr>\n",
       "    <tr>\n",
       "      <th>983</th>\n",
       "      <td>2017-06-15</td>\n",
       "      <td>57.0303</td>\n",
       "      <td>63.9481</td>\n",
       "    </tr>\n",
       "    <tr>\n",
       "      <th>984</th>\n",
       "      <td>2017-06-16</td>\n",
       "      <td>57.4437</td>\n",
       "      <td>64.2795</td>\n",
       "    </tr>\n",
       "    <tr>\n",
       "      <th>985</th>\n",
       "      <td>2017-06-17</td>\n",
       "      <td>57.7408</td>\n",
       "      <td>64.4561</td>\n",
       "    </tr>\n",
       "    <tr>\n",
       "      <th>986</th>\n",
       "      <td>2017-06-20</td>\n",
       "      <td>57.9585</td>\n",
       "      <td>64.8614</td>\n",
       "    </tr>\n",
       "    <tr>\n",
       "      <th>987</th>\n",
       "      <td>2017-06-21</td>\n",
       "      <td>58.5786</td>\n",
       "      <td>65.3210</td>\n",
       "    </tr>\n",
       "  </tbody>\n",
       "</table>\n",
       "<p>988 rows × 3 columns</p>\n",
       "</div>"
      ],
      "text/plain": [
       "          Date      USD      EUR\n",
       "0   2013-06-22  32.7433  43.3489\n",
       "1   2013-06-25  32.9097  43.1018\n",
       "2   2013-06-26  32.7140  42.9698\n",
       "3   2013-06-27  32.8876  42.9841\n",
       "4   2013-06-28  32.8766  42.8349\n",
       "5   2013-06-29  32.7090  42.7180\n",
       "6   2013-07-02  32.8517  42.8025\n",
       "7   2013-07-03  32.9475  43.0525\n",
       "8   2013-07-04  33.2204  43.0736\n",
       "9   2013-07-05  33.1605  43.0954\n",
       "10  2013-07-06  33.2247  42.8399\n",
       "11  2013-07-09  33.3210  42.7342\n",
       "12  2013-07-10  33.0842  42.6389\n",
       "13  2013-07-11  32.9112  42.1033\n",
       "14  2013-07-12  32.5867  42.6234\n",
       "15  2013-07-13  32.6429  42.6643\n",
       "16  2013-07-16  32.6220  42.6076\n",
       "17  2013-07-17  32.5417  42.5906\n",
       "18  2013-07-18  32.4526  42.6232\n",
       "19  2013-07-19  32.3998  42.4437\n",
       "20  2013-07-20  32.4288  42.5920\n",
       "21  2013-07-23  32.3236  42.5088\n",
       "22  2013-07-24  32.3106  42.6209\n",
       "23  2013-07-25  32.3462  42.7229\n",
       "24  2013-07-26  32.5376  42.9919\n",
       "25  2013-07-27  32.6371  43.3421\n",
       "26  2013-07-30  32.8556  43.6060\n",
       "27  2013-07-31  32.8901  43.6090\n",
       "28  2013-08-01  33.0330  43.7786\n",
       "29  2013-08-02  32.9741  43.7270\n",
       "..         ...      ...      ...\n",
       "958 2017-05-06  58.5382  64.2398\n",
       "959 2017-05-11  58.0824  63.2634\n",
       "960 2017-05-12  57.1161  62.1595\n",
       "961 2017-05-13  57.1640  62.0915\n",
       "962 2017-05-16  56.5258  61.8449\n",
       "963 2017-05-17  56.2603  62.0382\n",
       "964 2017-05-18  56.7383  62.9568\n",
       "965 2017-05-19  57.4683  63.9967\n",
       "966 2017-05-20  57.1602  63.6479\n",
       "967 2017-05-23  56.4988  63.1713\n",
       "968 2017-05-24  56.5552  63.6189\n",
       "969 2017-05-25  56.2743  62.9203\n",
       "970 2017-05-26  56.0701  63.0116\n",
       "971 2017-05-27  56.7560  63.6689\n",
       "972 2017-05-30  56.7106  63.3684\n",
       "973 2017-05-31  56.5168  62.9484\n",
       "974 2017-06-01  56.6876  63.4107\n",
       "975 2017-06-02  56.5373  63.5310\n",
       "976 2017-06-03  56.6876  63.6092\n",
       "977 2017-06-06  56.6152  63.8110\n",
       "978 2017-06-07  56.6747  63.7817\n",
       "979 2017-06-08  56.5878  63.7179\n",
       "980 2017-06-09  56.9857  64.1488\n",
       "981 2017-06-10  57.0020  63.7852\n",
       "982 2017-06-14  56.9096  63.7729\n",
       "983 2017-06-15  57.0303  63.9481\n",
       "984 2017-06-16  57.4437  64.2795\n",
       "985 2017-06-17  57.7408  64.4561\n",
       "986 2017-06-20  57.9585  64.8614\n",
       "987 2017-06-21  58.5786  65.3210\n",
       "\n",
       "[988 rows x 3 columns]"
      ]
     },
     "execution_count": 1,
     "metadata": {},
     "output_type": "execute_result"
    }
   ],
   "source": [
    "import pandas as pd\n",
    "import numpy as np\n",
    "curr=pd.read_excel('data.xlsx', sheetname='curr')\n",
    "curr"
   ]
  },
  {
   "cell_type": "markdown",
   "metadata": {},
   "source": [
    "## Задание 1.2\n",
    "\n",
    "Выведите на экран тип поля `Date`. Если это `datetime64[ns]` или `<M8[ns]` (по сути то же самое), то мы имеем дело с правильным форматом даты. Если нет, приведите этот столбец к типу `datetime`."
   ]
  },
  {
   "cell_type": "code",
   "execution_count": 3,
   "metadata": {
    "collapsed": false
   },
   "outputs": [
    {
     "data": {
      "text/plain": [
       "pandas.tslib.Timestamp"
      ]
     },
     "execution_count": 3,
     "metadata": {},
     "output_type": "execute_result"
    }
   ],
   "source": [
    "type(curr.Date.iloc[15])"
   ]
  },
  {
   "cell_type": "code",
   "execution_count": 5,
   "metadata": {
    "collapsed": false
   },
   "outputs": [
    {
     "data": {
      "text/plain": [
       "<class 'pandas.tslib.Timestamp'>    988\n",
       "Name: Date, dtype: int64"
      ]
     },
     "execution_count": 5,
     "metadata": {},
     "output_type": "execute_result"
    }
   ],
   "source": [
    "curr.Date.apply(lambda x: type(x)).value_counts()"
   ]
  },
  {
   "cell_type": "code",
   "execution_count": 6,
   "metadata": {
    "collapsed": false
   },
   "outputs": [
    {
     "data": {
      "text/plain": [
       "Date    datetime64[ns]\n",
       "USD            float64\n",
       "EUR            float64\n",
       "dtype: object"
      ]
     },
     "execution_count": 6,
     "metadata": {},
     "output_type": "execute_result"
    }
   ],
   "source": [
    "curr.dtypes"
   ]
  },
  {
   "cell_type": "markdown",
   "metadata": {},
   "source": [
    "## Задание 1.3\n",
    "\n",
    "Выведите на экран минимальную и максимальную дату. Сколько всего дней содержится в наших данных? (*Hint: даты можно вычитать друг из друга*)"
   ]
  },
  {
   "cell_type": "code",
   "execution_count": 224,
   "metadata": {
    "collapsed": false
   },
   "outputs": [
    {
     "name": "stdout",
     "output_type": "stream",
     "text": [
      "2013-06-22 00:00:00 - minimal\n",
      "2017-06-21 00:00:00 - maximal\n",
      "1460 days\n"
     ]
    }
   ],
   "source": [
    "print str(curr.Date.min()) + ' - minimal'\n",
    "print str(curr.Date.max()) + ' - maximal'\n",
    "print str(curr.Date.max() - curr.Date.min()).split(' 0')[0]"
   ]
  },
  {
   "cell_type": "markdown",
   "metadata": {},
   "source": [
    "## Задание 1.4\n",
    "\n",
    "Постройте на одном графике курс доллара и курс евро."
   ]
  },
  {
   "cell_type": "code",
   "execution_count": 70,
   "metadata": {
    "collapsed": false
   },
   "outputs": [
    {
     "data": {
      "text/plain": [
       "<matplotlib.axes._subplots.AxesSubplot at 0xd653048>"
      ]
     },
     "execution_count": 70,
     "metadata": {},
     "output_type": "execute_result"
    },
    {
     "data": {
      "image/png": "[encoded data removed]",
      "text/plain": [
       "<matplotlib.figure.Figure at 0xd698e10>"
      ]
     },
     "metadata": {},
     "output_type": "display_data"
    }
   ],
   "source": [
    "%matplotlib inline\n",
    "import matplotlib\n",
    "matplotlib.rcParams['figure.figsize'] = (10.0, 6.0)\n",
    "matplotlib.pyplot.style.use('ggplot')\n",
    "curr.set_index('Date')[['USD', 'EUR']].plot()"
   ]
  },
  {
   "cell_type": "markdown",
   "metadata": {},
   "source": [
    "## Задание 1.5\n",
    "\n",
    "Найдите среднее значение курса евро в мае 2017 года."
   ]
  },
  {
   "cell_type": "code",
   "execution_count": 20,
   "metadata": {
    "collapsed": false
   },
   "outputs": [
    {
     "data": {
      "text/plain": [
       "62.95527368421053"
      ]
     },
     "execution_count": 20,
     "metadata": {},
     "output_type": "execute_result"
    }
   ],
   "source": [
    "curr.set_index('Date').loc['2017-05-01':'2017-05-31', 'EUR'].mean()"
   ]
  },
  {
   "cell_type": "markdown",
   "metadata": {},
   "source": [
    "# Продвинутый уровень\n",
    "\n",
    "*Для получения положительной оценки нужно правильно выполнить не менее 3 заданий из 5*"
   ]
  },
  {
   "cell_type": "markdown",
   "metadata": {},
   "source": [
    "## Задание 2.1\n",
    "\n",
    "Найдите долю дней, когда доллар растет."
   ]
  },
  {
   "cell_type": "code",
   "execution_count": 24,
   "metadata": {
    "collapsed": false
   },
   "outputs": [],
   "source": [
    "curr.sort_values('Date', ascending=True, inplace=True)"
   ]
  },
  {
   "cell_type": "code",
   "execution_count": 225,
   "metadata": {
    "collapsed": false
   },
   "outputs": [
    {
     "data": {
      "text/plain": [
       "0.52631578947368418"
      ]
     },
     "execution_count": 225,
     "metadata": {},
     "output_type": "execute_result"
    }
   ],
   "source": [
    "curr['date_shift']=curr.USD/curr.USD.shift()-1\n",
    "(curr.date_shift>0).mean()"
   ]
  },
  {
   "cell_type": "markdown",
   "metadata": {},
   "source": [
    "## Задание 2.2\n",
    "\n",
    "Постройте гистограмму доходности доллара."
   ]
  },
  {
   "cell_type": "code",
   "execution_count": 49,
   "metadata": {
    "collapsed": false
   },
   "outputs": [
    {
     "data": {
      "text/plain": [
       "<matplotlib.axes._subplots.AxesSubplot at 0xc9f07f0>"
      ]
     },
     "execution_count": 49,
     "metadata": {},
     "output_type": "execute_result"
    },
    {
     "data": {
      "image/png": "[encoded data removed]",
      "text/plain": [
       "<matplotlib.figure.Figure at 0xca17940>"
      ]
     },
     "metadata": {},
     "output_type": "display_data"
    }
   ],
   "source": [
    "curr.date_shift.hist(bins=50)"
   ]
  },
  {
   "cell_type": "markdown",
   "metadata": {},
   "source": [
    "## Задание 2.3\n",
    "\n",
    "Добавьте в таблицу новую колонку `Weekday` – день недели на русском языке, т.е. строку со значением `u'понедельник'`, `u'вторник'` и т.д. (*Hint: удобно воспользоваться атрибутом* `.dt`)"
   ]
  },
  {
   "cell_type": "code",
   "execution_count": 56,
   "metadata": {
    "collapsed": false
   },
   "outputs": [
    {
     "data": {
      "text/html": [
       "<div>\n",
       "<table border=\"1\" class=\"dataframe\">\n",
       "  <thead>\n",
       "    <tr style=\"text-align: right;\">\n",
       "      <th></th>\n",
       "      <th>Date</th>\n",
       "      <th>USD</th>\n",
       "      <th>EUR</th>\n",
       "      <th>date_shift</th>\n",
       "      <th>Weekday</th>\n",
       "    </tr>\n",
       "  </thead>\n",
       "  <tbody>\n",
       "    <tr>\n",
       "      <th>978</th>\n",
       "      <td>2017-06-07</td>\n",
       "      <td>56.6747</td>\n",
       "      <td>63.7817</td>\n",
       "      <td>0.001051</td>\n",
       "      <td>среда</td>\n",
       "    </tr>\n",
       "    <tr>\n",
       "      <th>979</th>\n",
       "      <td>2017-06-08</td>\n",
       "      <td>56.5878</td>\n",
       "      <td>63.7179</td>\n",
       "      <td>-0.001533</td>\n",
       "      <td>четверг</td>\n",
       "    </tr>\n",
       "    <tr>\n",
       "      <th>980</th>\n",
       "      <td>2017-06-09</td>\n",
       "      <td>56.9857</td>\n",
       "      <td>64.1488</td>\n",
       "      <td>0.007032</td>\n",
       "      <td>пятница</td>\n",
       "    </tr>\n",
       "    <tr>\n",
       "      <th>981</th>\n",
       "      <td>2017-06-10</td>\n",
       "      <td>57.0020</td>\n",
       "      <td>63.7852</td>\n",
       "      <td>0.000286</td>\n",
       "      <td>суббота</td>\n",
       "    </tr>\n",
       "    <tr>\n",
       "      <th>982</th>\n",
       "      <td>2017-06-14</td>\n",
       "      <td>56.9096</td>\n",
       "      <td>63.7729</td>\n",
       "      <td>-0.001621</td>\n",
       "      <td>среда</td>\n",
       "    </tr>\n",
       "    <tr>\n",
       "      <th>983</th>\n",
       "      <td>2017-06-15</td>\n",
       "      <td>57.0303</td>\n",
       "      <td>63.9481</td>\n",
       "      <td>0.002121</td>\n",
       "      <td>четверг</td>\n",
       "    </tr>\n",
       "    <tr>\n",
       "      <th>984</th>\n",
       "      <td>2017-06-16</td>\n",
       "      <td>57.4437</td>\n",
       "      <td>64.2795</td>\n",
       "      <td>0.007249</td>\n",
       "      <td>пятница</td>\n",
       "    </tr>\n",
       "    <tr>\n",
       "      <th>985</th>\n",
       "      <td>2017-06-17</td>\n",
       "      <td>57.7408</td>\n",
       "      <td>64.4561</td>\n",
       "      <td>0.005172</td>\n",
       "      <td>суббота</td>\n",
       "    </tr>\n",
       "    <tr>\n",
       "      <th>986</th>\n",
       "      <td>2017-06-20</td>\n",
       "      <td>57.9585</td>\n",
       "      <td>64.8614</td>\n",
       "      <td>0.003770</td>\n",
       "      <td>вторник</td>\n",
       "    </tr>\n",
       "    <tr>\n",
       "      <th>987</th>\n",
       "      <td>2017-06-21</td>\n",
       "      <td>58.5786</td>\n",
       "      <td>65.3210</td>\n",
       "      <td>0.010699</td>\n",
       "      <td>среда</td>\n",
       "    </tr>\n",
       "  </tbody>\n",
       "</table>\n",
       "</div>"
      ],
      "text/plain": [
       "          Date      USD      EUR  date_shift  Weekday\n",
       "978 2017-06-07  56.6747  63.7817    0.001051    среда\n",
       "979 2017-06-08  56.5878  63.7179   -0.001533  четверг\n",
       "980 2017-06-09  56.9857  64.1488    0.007032  пятница\n",
       "981 2017-06-10  57.0020  63.7852    0.000286  суббота\n",
       "982 2017-06-14  56.9096  63.7729   -0.001621    среда\n",
       "983 2017-06-15  57.0303  63.9481    0.002121  четверг\n",
       "984 2017-06-16  57.4437  64.2795    0.007249  пятница\n",
       "985 2017-06-17  57.7408  64.4561    0.005172  суббота\n",
       "986 2017-06-20  57.9585  64.8614    0.003770  вторник\n",
       "987 2017-06-21  58.5786  65.3210    0.010699    среда"
      ]
     },
     "execution_count": 56,
     "metadata": {},
     "output_type": "execute_result"
    }
   ],
   "source": [
    "dic={0: u'понедельник', 1: u'вторник', 2: u'среда', 3: u'четверг', 4: u'пятница', 5: u'суббота', 6: u'воскресенье'}\n",
    "curr['Weekday']=curr.Date.dt.weekday.apply(lambda x: dic[x])\n",
    "curr.tail(10)"
   ]
  },
  {
   "cell_type": "markdown",
   "metadata": {},
   "source": [
    "## Задание 2.4\n",
    "\n",
    "Рассчитайте корреляцию между курсами доллара и евро за весь доступный период (*Hint: в pandas уже встроена функция для расчета корреляций*)."
   ]
  },
  {
   "cell_type": "code",
   "execution_count": 63,
   "metadata": {
    "collapsed": false
   },
   "outputs": [
    {
     "data": {
      "text/plain": [
       "0.98230892515582702"
      ]
     },
     "execution_count": 63,
     "metadata": {},
     "output_type": "execute_result"
    }
   ],
   "source": [
    "curr.corr(method='pearson').loc['USD','EUR']"
   ]
  },
  {
   "cell_type": "markdown",
   "metadata": {},
   "source": [
    "## Задание 2.5\n",
    "\n",
    "Несколько лет назад курс евро отличался от курса доллара значительно сильнее, чем сейчас. Чтобы это визуализировать, вычислите курс евро к доллару (т.е. \"сколько долларов стоит один евро\") за каждый день. Постройте график курса евро к доллару за весь доступный период."
   ]
  },
  {
   "cell_type": "code",
   "execution_count": 80,
   "metadata": {
    "collapsed": false
   },
   "outputs": [
    {
     "data": {
      "text/plain": [
       "<matplotlib.axes._subplots.AxesSubplot at 0xb030780>"
      ]
     },
     "execution_count": 80,
     "metadata": {},
     "output_type": "execute_result"
    },
    {
     "data": {
      "image/png": "[encoded data removed]",
      "text/plain": [
       "<matplotlib.figure.Figure at 0xd6df198>"
      ]
     },
     "metadata": {},
     "output_type": "display_data"
    }
   ],
   "source": [
    "curr['EUR/USD']=curr.EUR / curr.USD\n",
    "curr.plot(x='Date', y='EUR/USD')"
   ]
  },
  {
   "cell_type": "markdown",
   "metadata": {},
   "source": [
    "# Сложный уровень\n",
    "\n",
    "*Для получения положительной оценки нужно правильно выполнить не менее 3 заданий из 5*"
   ]
  },
  {
   "cell_type": "markdown",
   "metadata": {},
   "source": [
    "## Задание 3.1\n",
    "\n",
    "Загрузите второй лист (`oil`) из файла `data.xlsx` в `pd.DataFrame` (в этой таблице приведены цены за баррель нефти Brent в долларах США)."
   ]
  },
  {
   "cell_type": "code",
   "execution_count": 81,
   "metadata": {
    "collapsed": false
   },
   "outputs": [
    {
     "data": {
      "text/html": [
       "<div>\n",
       "<table border=\"1\" class=\"dataframe\">\n",
       "  <thead>\n",
       "    <tr style=\"text-align: right;\">\n",
       "      <th></th>\n",
       "      <th>dt</th>\n",
       "      <th>Brent</th>\n",
       "    </tr>\n",
       "  </thead>\n",
       "  <tbody>\n",
       "    <tr>\n",
       "      <th>577</th>\n",
       "      <td>2015-04-15</td>\n",
       "      <td>59.32</td>\n",
       "    </tr>\n",
       "    <tr>\n",
       "      <th>532</th>\n",
       "      <td>2015-02-10</td>\n",
       "      <td>55.79</td>\n",
       "    </tr>\n",
       "    <tr>\n",
       "      <th>490</th>\n",
       "      <td>2014-12-09</td>\n",
       "      <td>66.11</td>\n",
       "    </tr>\n",
       "    <tr>\n",
       "      <th>535</th>\n",
       "      <td>2015-02-13</td>\n",
       "      <td>60.33</td>\n",
       "    </tr>\n",
       "    <tr>\n",
       "      <th>657</th>\n",
       "      <td>2015-08-06</td>\n",
       "      <td>47.80</td>\n",
       "    </tr>\n",
       "    <tr>\n",
       "      <th>281</th>\n",
       "      <td>2014-02-12</td>\n",
       "      <td>108.62</td>\n",
       "    </tr>\n",
       "    <tr>\n",
       "      <th>267</th>\n",
       "      <td>2014-01-23</td>\n",
       "      <td>109.69</td>\n",
       "    </tr>\n",
       "    <tr>\n",
       "      <th>851</th>\n",
       "      <td>2016-05-10</td>\n",
       "      <td>44.01</td>\n",
       "    </tr>\n",
       "    <tr>\n",
       "      <th>691</th>\n",
       "      <td>2015-09-23</td>\n",
       "      <td>48.00</td>\n",
       "    </tr>\n",
       "    <tr>\n",
       "      <th>806</th>\n",
       "      <td>2016-03-07</td>\n",
       "      <td>39.02</td>\n",
       "    </tr>\n",
       "  </tbody>\n",
       "</table>\n",
       "</div>"
      ],
      "text/plain": [
       "            dt   Brent\n",
       "577 2015-04-15   59.32\n",
       "532 2015-02-10   55.79\n",
       "490 2014-12-09   66.11\n",
       "535 2015-02-13   60.33\n",
       "657 2015-08-06   47.80\n",
       "281 2014-02-12  108.62\n",
       "267 2014-01-23  109.69\n",
       "851 2016-05-10   44.01\n",
       "691 2015-09-23   48.00\n",
       "806 2016-03-07   39.02"
      ]
     },
     "execution_count": 81,
     "metadata": {},
     "output_type": "execute_result"
    }
   ],
   "source": [
    "oil=pd.read_excel('data.xlsx', sheetname='oil')\n",
    "oil.sample(10)"
   ]
  },
  {
   "cell_type": "code",
   "execution_count": 82,
   "metadata": {
    "collapsed": false
   },
   "outputs": [
    {
     "data": {
      "text/plain": [
       "dt       datetime64[ns]\n",
       "Brent           float64\n",
       "dtype: object"
      ]
     },
     "execution_count": 82,
     "metadata": {},
     "output_type": "execute_result"
    }
   ],
   "source": [
    "oil.dtypes"
   ]
  },
  {
   "cell_type": "markdown",
   "metadata": {},
   "source": [
    "## Задание 3.2\n",
    "\n",
    "Объедините обе таблицы в одну. Итоговая таблица должна содержать дату в качестве индекса, а также поля `USD` (доллар), `EUR` (евро) и `Brent` (нефть). Обратите внимание, что периоды, за которые доступны данные, немного отличаются для курсов валют и для нефти. Нас интересует только тот период, когда и те, и другие данные присутствуют."
   ]
  },
  {
   "cell_type": "code",
   "execution_count": 99,
   "metadata": {
    "collapsed": false
   },
   "outputs": [
    {
     "data": {
      "text/html": [
       "<div>\n",
       "<table border=\"1\" class=\"dataframe\">\n",
       "  <thead>\n",
       "    <tr style=\"text-align: right;\">\n",
       "      <th></th>\n",
       "      <th>USD</th>\n",
       "      <th>EUR</th>\n",
       "      <th>Brent</th>\n",
       "    </tr>\n",
       "    <tr>\n",
       "      <th>Date</th>\n",
       "      <th></th>\n",
       "      <th></th>\n",
       "      <th></th>\n",
       "    </tr>\n",
       "  </thead>\n",
       "  <tbody>\n",
       "    <tr>\n",
       "      <th>2013-06-25</th>\n",
       "      <td>32.9097</td>\n",
       "      <td>43.1018</td>\n",
       "      <td>101.51</td>\n",
       "    </tr>\n",
       "    <tr>\n",
       "      <th>2013-06-26</th>\n",
       "      <td>32.7140</td>\n",
       "      <td>42.9698</td>\n",
       "      <td>100.62</td>\n",
       "    </tr>\n",
       "    <tr>\n",
       "      <th>2013-06-27</th>\n",
       "      <td>32.8876</td>\n",
       "      <td>42.9841</td>\n",
       "      <td>102.74</td>\n",
       "    </tr>\n",
       "    <tr>\n",
       "      <th>2013-06-28</th>\n",
       "      <td>32.8766</td>\n",
       "      <td>42.8349</td>\n",
       "      <td>102.49</td>\n",
       "    </tr>\n",
       "    <tr>\n",
       "      <th>2013-07-02</th>\n",
       "      <td>32.8517</td>\n",
       "      <td>42.8025</td>\n",
       "      <td>103.96</td>\n",
       "    </tr>\n",
       "  </tbody>\n",
       "</table>\n",
       "</div>"
      ],
      "text/plain": [
       "                USD      EUR   Brent\n",
       "Date                                \n",
       "2013-06-25  32.9097  43.1018  101.51\n",
       "2013-06-26  32.7140  42.9698  100.62\n",
       "2013-06-27  32.8876  42.9841  102.74\n",
       "2013-06-28  32.8766  42.8349  102.49\n",
       "2013-07-02  32.8517  42.8025  103.96"
      ]
     },
     "execution_count": 99,
     "metadata": {},
     "output_type": "execute_result"
    }
   ],
   "source": [
    "all_ind=pd.merge(curr, oil, how='inner', left_on='Date', right_on='dt').loc[:,['Date','USD','EUR','Brent']]\n",
    "all_ind.set_index('Date',inplace=True)\n",
    "all_ind.sort_index().head(5)"
   ]
  },
  {
   "cell_type": "markdown",
   "metadata": {},
   "source": [
    "## Задание 3.3\n",
    "\n",
    "- Постройте на одном графике курсы валют и цены не нефть. Поскольку цена на нефть имеет немного другой масштаб, используйте параметр `secondary_y='Brent'` для отображения дополнительной оси $y$ справа.\n",
    "- Посчитайте попарные корреляции всех трех временных рядов за весь период."
   ]
  },
  {
   "cell_type": "code",
   "execution_count": 101,
   "metadata": {
    "collapsed": false
   },
   "outputs": [
    {
     "data": {
      "text/html": [
       "<div>\n",
       "<table border=\"1\" class=\"dataframe\">\n",
       "  <thead>\n",
       "    <tr style=\"text-align: right;\">\n",
       "      <th></th>\n",
       "      <th>USD</th>\n",
       "      <th>EUR</th>\n",
       "      <th>Brent</th>\n",
       "    </tr>\n",
       "  </thead>\n",
       "  <tbody>\n",
       "    <tr>\n",
       "      <th>USD</th>\n",
       "      <td>1.000000</td>\n",
       "      <td>0.982142</td>\n",
       "      <td>-0.978950</td>\n",
       "    </tr>\n",
       "    <tr>\n",
       "      <th>EUR</th>\n",
       "      <td>0.982142</td>\n",
       "      <td>1.000000</td>\n",
       "      <td>-0.938919</td>\n",
       "    </tr>\n",
       "    <tr>\n",
       "      <th>Brent</th>\n",
       "      <td>-0.978950</td>\n",
       "      <td>-0.938919</td>\n",
       "      <td>1.000000</td>\n",
       "    </tr>\n",
       "  </tbody>\n",
       "</table>\n",
       "</div>"
      ],
      "text/plain": [
       "            USD       EUR     Brent\n",
       "USD    1.000000  0.982142 -0.978950\n",
       "EUR    0.982142  1.000000 -0.938919\n",
       "Brent -0.978950 -0.938919  1.000000"
      ]
     },
     "execution_count": 101,
     "metadata": {},
     "output_type": "execute_result"
    },
    {
     "data": {
      "image/png": "[encoded data removed]",
      "text/plain": [
       "<matplotlib.figure.Figure at 0xe048828>"
      ]
     },
     "metadata": {},
     "output_type": "display_data"
    }
   ],
   "source": [
    "all_ind.plot(secondary_y='Brent')\n",
    "all_ind.corr(method='pearson')"
   ]
  },
  {
   "cell_type": "markdown",
   "metadata": {},
   "source": [
    "## Задание 3.4\n",
    "\n",
    "Определите, в какие дни недели лучше покупать евро, а в какие – продавать. Для этого рассчитайте среднюю доходность евро в разные дни недели (т.е. нужно сгруппировать таблицу по дням недели и рассчитать среднее процентное изменение курса евро в каждой группе)."
   ]
  },
  {
   "cell_type": "code",
   "execution_count": 146,
   "metadata": {
    "collapsed": false
   },
   "outputs": [
    {
     "data": {
      "text/plain": [
       "Weekday_\n",
       "вторник    0.329266\n",
       "среда      0.083842\n",
       "четверг    0.021186\n",
       "пятница   -0.167353\n",
       "Name: eur_shift, dtype: float64"
      ]
     },
     "execution_count": 146,
     "metadata": {},
     "output_type": "execute_result"
    }
   ],
   "source": [
    "all_ind['eur_shift']=(all_ind.EUR/all_ind.EUR.shift()-1)*100\n",
    "all_ind['Weekday']=all_ind.index.weekday\n",
    "all_ind['Weekday_']=all_ind.Weekday.apply(lambda x: dic[x])\n",
    "aa=all_ind.groupby('Weekday_').eur_shift.mean()\n",
    "all_ind.drop(['Weekday', 'eur_shift'], axis=1, inplace=True)\n",
    "aa.sort_values(ascending=False)"
   ]
  },
  {
   "cell_type": "markdown",
   "metadata": {},
   "source": [
    "Судя по всему, в общем случае лучше всего покупать в пятницу, ждать роста цены все дни до четверга и продавать в четверг.  \n",
    "Также можно в четверг открывать короткую позицию и закрывать ее в пятницу."
   ]
  },
  {
   "cell_type": "markdown",
   "metadata": {},
   "source": [
    "## Задание 3.5\n",
    "\n",
    "Постройте график \"скользящей корреляции\" между курсами доллара и евро (таким образом можно найти периоды, когда курсы коррелировали слабее обычного и использовать это для арбитража). Для этого нужно взять скользящее окно (например, 60 последних значений) и рассчитать корреляцию USD - EUR внутри каждого такого окна."
   ]
  },
  {
   "cell_type": "code",
   "execution_count": 240,
   "metadata": {
    "collapsed": false
   },
   "outputs": [
    {
     "data": {
      "text/html": [
       "<div>\n",
       "<table border=\"1\" class=\"dataframe\">\n",
       "  <thead>\n",
       "    <tr style=\"text-align: right;\">\n",
       "      <th></th>\n",
       "      <th>Date</th>\n",
       "      <th>USD</th>\n",
       "      <th>EUR</th>\n",
       "      <th>Brent</th>\n",
       "      <th>Weekday_</th>\n",
       "      <th>row_num</th>\n",
       "    </tr>\n",
       "  </thead>\n",
       "  <tbody>\n",
       "    <tr>\n",
       "      <th>767</th>\n",
       "      <td>2017-06-02</td>\n",
       "      <td>56.5373</td>\n",
       "      <td>63.5310</td>\n",
       "      <td>48.46</td>\n",
       "      <td>пятница</td>\n",
       "      <td>767</td>\n",
       "    </tr>\n",
       "    <tr>\n",
       "      <th>768</th>\n",
       "      <td>2017-06-06</td>\n",
       "      <td>56.6152</td>\n",
       "      <td>63.8110</td>\n",
       "      <td>48.11</td>\n",
       "      <td>вторник</td>\n",
       "      <td>768</td>\n",
       "    </tr>\n",
       "    <tr>\n",
       "      <th>769</th>\n",
       "      <td>2017-06-07</td>\n",
       "      <td>56.6747</td>\n",
       "      <td>63.7817</td>\n",
       "      <td>47.08</td>\n",
       "      <td>среда</td>\n",
       "      <td>769</td>\n",
       "    </tr>\n",
       "    <tr>\n",
       "      <th>770</th>\n",
       "      <td>2017-06-08</td>\n",
       "      <td>56.5878</td>\n",
       "      <td>63.7179</td>\n",
       "      <td>46.30</td>\n",
       "      <td>четверг</td>\n",
       "      <td>770</td>\n",
       "    </tr>\n",
       "    <tr>\n",
       "      <th>771</th>\n",
       "      <td>2017-06-09</td>\n",
       "      <td>56.9857</td>\n",
       "      <td>64.1488</td>\n",
       "      <td>46.64</td>\n",
       "      <td>пятница</td>\n",
       "      <td>771</td>\n",
       "    </tr>\n",
       "  </tbody>\n",
       "</table>\n",
       "</div>"
      ],
      "text/plain": [
       "          Date      USD      EUR  Brent Weekday_  row_num\n",
       "767 2017-06-02  56.5373  63.5310  48.46  пятница      767\n",
       "768 2017-06-06  56.6152  63.8110  48.11  вторник      768\n",
       "769 2017-06-07  56.6747  63.7817  47.08    среда      769\n",
       "770 2017-06-08  56.5878  63.7179  46.30  четверг      770\n",
       "771 2017-06-09  56.9857  64.1488  46.64  пятница      771"
      ]
     },
     "execution_count": 240,
     "metadata": {},
     "output_type": "execute_result"
    }
   ],
   "source": [
    "all_ind.reset_index(inplace=True)\n",
    "all_ind['row_num']=all_ind.index\n",
    "all_ind.tail(5)"
   ]
  },
  {
   "cell_type": "code",
   "execution_count": 241,
   "metadata": {
    "collapsed": false
   },
   "outputs": [
    {
     "data": {
      "text/plain": [
       "<matplotlib.axes._subplots.AxesSubplot at 0xe8adb70>"
      ]
     },
     "execution_count": 241,
     "metadata": {},
     "output_type": "execute_result"
    },
    {
     "data": {
      "image/png": "[encoded data removed]",
      "text/plain": [
       "<matplotlib.figure.Figure at 0x10739c50>"
      ]
     },
     "metadata": {},
     "output_type": "display_data"
    }
   ],
   "source": [
    "def mov_c(row):\n",
    "    a=row['row_num']\n",
    "    if a<60: # если предыдущих значений меньше 60, берем все предыдущие; если нет - последние 60 значений\n",
    "        return all_ind.loc[:a, ['USD','EUR']].corr().loc['USD','EUR']\n",
    "    else:\n",
    "        return all_ind.loc[a-60+1:a, ['USD','EUR']].corr().loc['USD','EUR']\n",
    "all_ind['mov_corr']=all_ind.apply(mov_c, axis=1)\n",
    "all_ind.plot(x='Date', y='mov_corr')"
   ]
  }
 ],
 "metadata": {
  "kernelspec": {
   "display_name": "Python 2",
   "language": "python",
   "name": "python2"
  },
  "language_info": {
   "codemirror_mode": {
    "name": "ipython",
    "version": 2
   },
   "file_extension": ".py",
   "mimetype": "text/x-python",
   "name": "python",
   "nbconvert_exporter": "python",
   "pygments_lexer": "ipython2",
   "version": "2.7.13"
  }
 },
 "nbformat": 4,
 "nbformat_minor": 2
}
