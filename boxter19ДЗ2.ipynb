{
 "cells": [
  {
   "cell_type": "markdown",
   "metadata": {},
   "source": [
    "БАЗОВАЯ\n",
    "==="
   ]
  },
  {
   "cell_type": "code",
   "execution_count": 14,
   "metadata": {
    "collapsed": true
   },
   "outputs": [],
   "source": [
    "reviews = [\"\"\"Телефон абонента: +7 916 000 00 01\n",
    "Время: 10:34\n",
    "Дата: 20.05.2017\n",
    "Оценка: 1\n",
    "Длительность разговора (мин.): 0:32\n",
    "Комментарий: Общение с сотрудником вашей техподдержки мне не понравилось. Раньше всегда отвечала девушка с приятным голосом, а сегодня какой-то мужчина. Совсем никуда не годится, примите меры!!!\"\"\",\n",
    "\"\"\"Телефон абонента: +7 916 000 00 02\n",
    "Время: 9:20\n",
    "Дата: 21.05.2017\n",
    "Оценка: 5\n",
    "Длительность разговора (мин.): 25:07\n",
    "Комментарий: С моей проблемой мне помогли, большое спасибо!\"\"\"]"
   ]
  },
  {
   "cell_type": "code",
   "execution_count": 5,
   "metadata": {
    "collapsed": false
   },
   "outputs": [
    {
     "name": "stdout",
     "output_type": "stream",
     "text": [
      "<type 'list'>\n"
     ]
    }
   ],
   "source": [
    "print type(reviews)"
   ]
  },
  {
   "cell_type": "code",
   "execution_count": 178,
   "metadata": {
    "collapsed": false
   },
   "outputs": [],
   "source": [
    "# создаем список всех номеров (из первой строки элемента списка после двоеточия)\n",
    "numb=[(reviews[h].split('\\n')[0]).split(': ')[1] for h in range(len(reviews))]\n",
    "# создаем пустой список для внутренних словарей\n",
    "list_ext=[]\n",
    "for f in range(len(reviews)):\n",
    "    # формируем внутренний словарь для элемента исходного списка\n",
    "    fields=[[line.split(': ') for line in reviews[f].split('\\n') if line][i][0] for i in range(6)]\n",
    "    values=[[line.split(': ') for line in reviews[f].split('\\n') if line][i][1] for i in range(6)]\n",
    "    dict_int=dict(zip(fields,values))\n",
    "    # добавляем словарь в список\n",
    "    list_ext.append(dict_int)\n",
    "# формируем внешний словарь из двух списков\n",
    "my_base=dict(zip(numb,list_ext))"
   ]
  },
  {
   "cell_type": "code",
   "execution_count": 179,
   "metadata": {
    "collapsed": false
   },
   "outputs": [
    {
     "data": {
      "text/plain": [
       "True"
      ]
     },
     "execution_count": 179,
     "metadata": {},
     "output_type": "execute_result"
    }
   ],
   "source": [
    "my_base['+7 916 000 00 01']['Дата'] == '20.05.2017'"
   ]
  },
  {
   "cell_type": "markdown",
   "metadata": {},
   "source": [
    "ПРОДВИНУТАЯ\n",
    "==="
   ]
  },
  {
   "cell_type": "code",
   "execution_count": 180,
   "metadata": {
    "collapsed": false
   },
   "outputs": [],
   "source": [
    "# создаем 6 списков отформатированных значений каждого из полей ответов (номер, время, дата, оценка, время разговора, коммент)\n",
    "# форматы соответственно (long, time, date, int, time, str)\n",
    "# номер телефона\n",
    "list_phone_num=[]\n",
    "for f in range(len(reviews)):\n",
    "    numb=long(((reviews[f].split('\\n')[0]).split(': ')[1]).replace(' ',''))\n",
    "    list_phone_num.append(numb)\n",
    "# время\n",
    "import datetime \n",
    "list_time=[]\n",
    "for f in range(len(reviews)):\n",
    "    hou_=int(((reviews[f].split('\\n')[1]).split(': ')[1]).split(':')[0])\n",
    "    min_=int(((reviews[f].split('\\n')[1]).split(': ')[1]).split(':')[1])\n",
    "    t=datetime.time(hou_,min_)\n",
    "    list_time.append(t)\n",
    "# дата\n",
    "list_date=[]\n",
    "for f in range(len(reviews)):\n",
    "    d=int(((reviews[f].split('\\n')[2]).split(': ')[1]).split('.')[0])\n",
    "    m=int(((reviews[f].split('\\n')[2]).split(': ')[1]).split('.')[1])\n",
    "    y=int(((reviews[f].split('\\n')[2]).split(': ')[1]).split('.')[2])\n",
    "    dat=datetime.date(y,m,d)\n",
    "    list_date.append(dat)\n",
    "# оценка\n",
    "list_mark=[]\n",
    "for f in range(len(reviews)):\n",
    "    numb=int((reviews[f].split('\\n')[3]).split(': ')[1])\n",
    "    list_mark.append(numb)\n",
    "# время разговора\n",
    "list_time2=[]\n",
    "for f in range(len(reviews)):\n",
    "    min_=int(((reviews[f].split('\\n')[4]).split(': ')[1]).split(':')[0])\n",
    "    sec_=int(((reviews[f].split('\\n')[4]).split(': ')[1]).split(':')[1])\n",
    "    t2=datetime.time(0,min_,sec_)\n",
    "    list_time2.append(t2)\n",
    "# комментарий\n",
    "list_com=[]\n",
    "for f in range(len(reviews)):\n",
    "    numb=((reviews[f].split('\\n')[5]).split(': ')[1])\n",
    "    list_com.append(numb)\n",
    "# далее - аналогично предыдущей задаче   \n",
    "list_ext=[]\n",
    "for f in range(len(reviews)):\n",
    "    fields=[[line.split(': ') for line in reviews[f].split('\\n') if line][i][0] for i in range(6)]\n",
    "    values=[list_phone_num[f],list_time[f],list_date[f],list_mark[f],list_time2[f],list_com[f]]\n",
    "    dict_int=dict(zip(fields,values))\n",
    "    list_ext.append(dict_int)\n",
    "my_base2=dict(zip(list_phone_num,list_ext))"
   ]
  },
  {
   "cell_type": "code",
   "execution_count": 181,
   "metadata": {
    "collapsed": false
   },
   "outputs": [
    {
     "name": "stdout",
     "output_type": "stream",
     "text": [
      "<type 'long'>\n",
      "<type 'datetime.time'>\n",
      "<type 'datetime.date'>\n",
      "<type 'int'>\n",
      "<type 'datetime.time'>\n",
      "<type 'str'>\n"
     ]
    }
   ],
   "source": [
    "print type(list_phone_num[0])\n",
    "print type(list_time[0])\n",
    "print type(list_date[0])\n",
    "print type(list_mark[0])\n",
    "print type(list_time2[0])\n",
    "print type(list_com[0])"
   ]
  },
  {
   "cell_type": "code",
   "execution_count": 182,
   "metadata": {
    "collapsed": false
   },
   "outputs": [
    {
     "data": {
      "text/plain": [
       "datetime.date(2017, 5, 20)"
      ]
     },
     "execution_count": 182,
     "metadata": {},
     "output_type": "execute_result"
    }
   ],
   "source": [
    "my_base2[79160000001]['Дата']"
   ]
  },
  {
   "cell_type": "markdown",
   "metadata": {},
   "source": [
    "Преимущества заданных форматов перед обычными строками кажутся вполне очевидными:\n",
    "- они позволяют выбирать не единичные элементы из словаря, а все, отвечающие заданным условиям (\"<\",\">\", в интервале,...)\n",
    "- в некоторых случаях (например, с номером телефона) пользователю словаря удобнее вводить отформатированные значения в ячейки для выбора\n",
    "---\n",
    "пример ниже:"
   ]
  },
  {
   "cell_type": "code",
   "execution_count": 222,
   "metadata": {
    "collapsed": false,
    "scrolled": true
   },
   "outputs": [
    {
     "name": "stdout",
     "output_type": "stream",
     "text": [
      "[79160000001L] Общение с сотрудником вашей техподдержки мне не понравилось. Раньше всегда отвечала девушка с приятным голосом, а сегодня какой-то мужчина. Совсем никуда не годится, примите меры!!!\n"
     ]
    }
   ],
   "source": [
    "for key in my_base2:\n",
    "    if key<79160000002:\n",
    "        if my_base2[key]['Дата']<datetime.date(2017, 5, 21):\n",
    "            p=my_base2[key]['Комментарий'].decode('utf-8')\n",
    "            print[key], my_base2[key]['Комментарий']"
   ]
  },
  {
   "cell_type": "markdown",
   "metadata": {},
   "source": [
    "Сложная\n",
    "==="
   ]
  },
  {
   "cell_type": "markdown",
   "metadata": {},
   "source": [
    "насколько я понял, если создавать tuple из изменяемых элементов (далее - списков) и менять сами эти элементы, то tuple не изменяется:"
   ]
  },
  {
   "cell_type": "code",
   "execution_count": 201,
   "metadata": {
    "collapsed": false
   },
   "outputs": [
    {
     "data": {
      "text/plain": [
       "([1, 2, 3], [4, 5, 6])"
      ]
     },
     "execution_count": 201,
     "metadata": {},
     "output_type": "execute_result"
    }
   ],
   "source": [
    "a=[1,2,3]\n",
    "b=[4,5,6]\n",
    "c=(a,b)\n",
    "c"
   ]
  },
  {
   "cell_type": "code",
   "execution_count": 202,
   "metadata": {
    "collapsed": false,
    "scrolled": true
   },
   "outputs": [
    {
     "name": "stdout",
     "output_type": "stream",
     "text": [
      "[2, 8, 7]\n",
      "[4, 5, 6]\n",
      "([1, 2, 3], [4, 5, 6])\n"
     ]
    }
   ],
   "source": [
    "a=[2,8,7]\n",
    "print a\n",
    "print b\n",
    "print c"
   ]
  },
  {
   "cell_type": "markdown",
   "metadata": {},
   "source": [
    "однако, если пытаться изменить элементы tuple, обращаясь к ним собственно как к элементам tuple, то исходный tuple изменить можно:"
   ]
  },
  {
   "cell_type": "code",
   "execution_count": 223,
   "metadata": {
    "collapsed": false
   },
   "outputs": [
    {
     "data": {
      "text/plain": [
       "(1, [2, 3], [8, 9])"
      ]
     },
     "execution_count": 223,
     "metadata": {},
     "output_type": "execute_result"
    }
   ],
   "source": [
    "a = (1, [2,3], [8,9])\n",
    "a"
   ]
  },
  {
   "cell_type": "code",
   "execution_count": 224,
   "metadata": {
    "collapsed": false
   },
   "outputs": [
    {
     "data": {
      "text/plain": [
       "(1, [66, 3], [8, 9, 10])"
      ]
     },
     "execution_count": 224,
     "metadata": {},
     "output_type": "execute_result"
    }
   ],
   "source": [
    "a[1][0] = 66 \n",
    "a[2].append(10)\n",
    "a "
   ]
  },
  {
   "cell_type": "markdown",
   "metadata": {},
   "source": [
    "Судя по всему, в таком случае ни в набор, ни в ключ словаря такой tuple добавить нельзя (unhashable type).  \n",
    "Предположу, что это справедливо для любого случая наличия внутри tuple изменяемых элементов."
   ]
  },
  {
   "cell_type": "code",
   "execution_count": 225,
   "metadata": {
    "collapsed": false
   },
   "outputs": [
    {
     "ename": "TypeError",
     "evalue": "unhashable type: 'list'",
     "output_type": "error",
     "traceback": [
      "\u001b[0;31m---------------------------------------------------------------------------\u001b[0m",
      "\u001b[0;31mTypeError\u001b[0m                                 Traceback (most recent call last)",
      "\u001b[0;32m<ipython-input-225-58bb160861a7>\u001b[0m in \u001b[0;36m<module>\u001b[0;34m()\u001b[0m\n\u001b[0;32m----> 1\u001b[0;31m \u001b[0mss\u001b[0m\u001b[1;33m=\u001b[0m\u001b[1;33m{\u001b[0m\u001b[0ma\u001b[0m\u001b[1;33m,\u001b[0m\u001b[1;36m4\u001b[0m\u001b[1;33m,\u001b[0m\u001b[1;36m5\u001b[0m\u001b[1;33m}\u001b[0m\u001b[1;33m\u001b[0m\u001b[0m\n\u001b[0m\u001b[1;32m      2\u001b[0m \u001b[0mss\u001b[0m\u001b[1;33m\u001b[0m\u001b[0m\n",
      "\u001b[0;31mTypeError\u001b[0m: unhashable type: 'list'"
     ]
    }
   ],
   "source": [
    "ss={a,4,5}\n",
    "ss"
   ]
  },
  {
   "cell_type": "code",
   "execution_count": 226,
   "metadata": {
    "collapsed": false
   },
   "outputs": [
    {
     "ename": "TypeError",
     "evalue": "unhashable type: 'list'",
     "output_type": "error",
     "traceback": [
      "\u001b[0;31m---------------------------------------------------------------------------\u001b[0m",
      "\u001b[0;31mTypeError\u001b[0m                                 Traceback (most recent call last)",
      "\u001b[0;32m<ipython-input-226-774c88206812>\u001b[0m in \u001b[0;36m<module>\u001b[0;34m()\u001b[0m\n\u001b[0;32m----> 1\u001b[0;31m \u001b[0mrr\u001b[0m\u001b[1;33m=\u001b[0m\u001b[1;33m{\u001b[0m\u001b[1;34m'first'\u001b[0m\u001b[1;33m:\u001b[0m \u001b[0ma\u001b[0m\u001b[1;33m,\u001b[0m \u001b[0ma\u001b[0m\u001b[1;33m:\u001b[0m \u001b[1;36m111\u001b[0m\u001b[1;33m}\u001b[0m\u001b[1;33m\u001b[0m\u001b[0m\n\u001b[0m\u001b[1;32m      2\u001b[0m \u001b[0mrr\u001b[0m\u001b[1;33m\u001b[0m\u001b[0m\n",
      "\u001b[0;31mTypeError\u001b[0m: unhashable type: 'list'"
     ]
    }
   ],
   "source": [
    "rr={'first': a, a: 111}\n",
    "rr"
   ]
  }
 ],
 "metadata": {
  "kernelspec": {
   "display_name": "Python 2",
   "language": "python",
   "name": "python2"
  },
  "language_info": {
   "codemirror_mode": {
    "name": "ipython",
    "version": 2
   },
   "file_extension": ".py",
   "mimetype": "text/x-python",
   "name": "python",
   "nbconvert_exporter": "python",
   "pygments_lexer": "ipython2",
   "version": "2.7.13"
  }
 },
 "nbformat": 4,
 "nbformat_minor": 2
}
